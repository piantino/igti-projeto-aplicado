{
 "cells": [
  {
   "cell_type": "code",
   "execution_count": 1,
   "metadata": {},
   "outputs": [],
   "source": [
    "rotulos = ['EXP', 'BAN', 'OIG', 'DAN', 'SEG', 'CON']"
   ]
  },
  {
   "cell_type": "code",
   "execution_count": 2,
   "metadata": {},
   "outputs": [],
   "source": [
    "from sklearn.pipeline import Pipeline\n",
    "from sklearn.feature_extraction.text import CountVectorizer\n",
    "from sklearn.feature_extraction.text import TfidfTransformer\n",
    "from sklearn.preprocessing import FunctionTransformer\n",
    "\n",
    "from sklearn.externals import joblib\n",
    "\n",
    "pipelines = []\n",
    "\n",
    "dense = FunctionTransformer(lambda x: x.todense(), accept_sparse=True, validate=True)\n",
    "\n",
    "def load_model(file):\n",
    "    return joblib.load(file)\n",
    "\n",
    "for rotulo in rotulos:\n",
    "    vect = load_model('../modelos/CountVectorizer-' + rotulo + '.pkl')\n",
    "    tfidf = load_model('../modelos/TfidfTransformer-' + rotulo + '.pkl')\n",
    "    clf = load_model('../modelos/Modelo-' + rotulo + '.pkl') \n",
    "    p = Pipeline([\n",
    "        ('vect', vect),\n",
    "        ('tfidf', tfidf),\n",
    "        ('dense', dense),\n",
    "        ('clf', clf)\n",
    "    ])\n",
    "    pipelines.append(p)"
   ]
  },
  {
   "cell_type": "code",
   "execution_count": 3,
   "metadata": {},
   "outputs": [],
   "source": [
    "processos = [\n",
    "    '0025142-07.2016.8.24.0000', #EXP\n",
    "    '0301056-30.2017.8.24.0042', #BAN\n",
    "    '0502658-08.2012.8.24.0023' #OIG\n",
    "]"
   ]
  },
  {
   "cell_type": "code",
   "execution_count": 4,
   "metadata": {},
   "outputs": [
    {
     "data": {
      "application/vnd.jupyter.widget-view+json": {
       "model_id": "8533a12b92994cabbd08ad3ad203bcb9",
       "version_major": 2,
       "version_minor": 0
      },
      "text/plain": [
       "Dropdown(description='Processo:', options=('0025142-07.2016.8.24.0000', '0301056-30.2017.8.24.0042', '0502658-…"
      ]
     },
     "metadata": {},
     "output_type": "display_data"
    }
   ],
   "source": [
    "import ipywidgets as widgets\n",
    "\n",
    "dropdown = widgets.Dropdown(\n",
    "    options=processos,\n",
    "    description='Processo:',\n",
    "    disabled=False,\n",
    ")\n",
    "dropdown"
   ]
  },
  {
   "cell_type": "code",
   "execution_count": 6,
   "metadata": {},
   "outputs": [
    {
     "name": "stdout",
     "output_type": "stream",
     "text": [
      "\n",
      "Processo: 0502658-08.2012.8.24.0023 (Acórdão)\n",
      "Relator: Newton Varella Júnior\n",
      "Origem: Capital\n",
      "Orgão Julgador: Segunda Câmara de Direito Comercial\n",
      "Julgado em: Tue Oct 02 00:00:00 BRT 2018  \n",
      "Classe: Apelação Cível\n",
      "\n",
      "APELAÇÕES CÍVEIS. AÇÃO DE ADIMPLEMENTO CONTRATUAL. DIREITO À COMPLEMENTAÇÃO DO NÚMERO DE AÇÕES SUBSCRITAS. SENTENÇA DE PROCEDÊNCIA. RECURSO INTERPOSTO POR AMBAS AS PARTES.    AGRAVO RETIDO. NÃO CONHECIMENTO. AUSÊNCIA DE PEDIDO EXPRESSO CONFORME EXIGÊNCIA DO ART. 523, § 1º DO CÓDIGO DE PROCESSO CIVIL VIGENTE À ÉPOCA DE INTERPOSIÇÃO.   RECURSO DE APELAÇÃO DA RÉ   PRELIMINAR DE ILEGITIMIDADE PASSIVA AFASTADA. APELANTE QUE É SUCESSORA DA TELESC, TENDO LEGITIMIDADE PARA FIGURAR NO POLO PASSIVO DA DEMANDA.    CARÊNCIA DA AÇÃO QUANTO AOS DIVIDENDOS E JUROS SOBRE O CAPITAL PRÓPRIO. INOCORRÊNCIA. CONSECTÁRIOS LÓGICOS DEVIDOS (Resp. N. 1034255/RS).    PRESCRIÇÃO. MATÉRIA QUE SE REGE PELOS ARTS. 177 DO CÓDIGO CIVIL/1916 E ARTS. 205 E 2.028 DO CÓDIGO CIVIL/2002. ENTENDIMENTO DO SUPERIOR TRIBUNAL DE JUSTIÇA EM SEDE DE RECURSO REPETITIVO (RESP. 1033241/RS). TELEFONIA FIXA. CASO CONCRETO EM QUE NÃO SE PODE ESTABELECER O MARCO INICIAL DO PRAZO PRESCRICIONAL EM RAZÃO DA AUSÊNCIA DE DOCUMENTOS QUE CONTENHAM AS INFORMAÇÕES SOCIETÁRIAS NECESSÁRIAS. NÃO EXIBIÇÃO POR PARTE DA RÉ, EM QUE PESE DEVIDA INTIMAÇÃO. PRESUNÇÃO DE VERACIDADE DOS FATOS NARRADOS PELA AUTORA, NOS TERMOS DO ART. 400, I, DO CPC/2015. REJEITADA A PREJUDICIAL. TELEFONIA MÓVEL. PRESCRIÇÃO CUJO MARCO INICIAL É CONTADO DA DATA DA CISÃO DA TELESC S.A. EM TELESC CELULAR S.A. (31-1-1998). REGRA DE TRANSIÇÃO DO ART. 2.028 DO CÓDIGO CIVIL: NÃO HAVENDO O DECURSO DE MAIS DA METADE DO PRAZO DA LEI ANTERIOR (PRAZO VINTENÁRIO), CONFORME ART. 177 DO CÓDIGO CIVIL/1916), APLICÁVEL AO CASO O PRAZO ESTABELECIDO PELA LEI NOVA (PRAZO DECENAL - ART. 205, DO CC/2002). LAPSO CONTADO DA ENTRADA EM VIGOR DO ATUAL CÓDIGO CIVIL (11-1-2003) NÃO ESCOADO. PREJUDICIAL DE MÉRITO REJEITADA.   PORTARIAS MINISTERIAIS. ILEGALIDADE. PORTARIAS CUJAS CLÁUSULAS IMPORTAM DESVANTAGEM AO CONSUMIDOR.   INSURGÊNCIA QUANTO À CONDENAÇÃO À SUBSCRIÇÃO DAS AÇÕES DA TELEFONIA CELULAR. DOBRA ACIONÁRIA CUJA PRETENSÃO À SUBSCRIÇÃO É DEVIDA.    NÚMERO DE AÇÕES A SEREM SUBSCRITAS AFERIDO POR BALANCETE DO MÊS DA INTEGRALIZAÇÃO DO CAPITAL, CONFORME- POSICIONAMENTO CONSOLIDADO NO SUPERIOR TRIBUNAL DE JUSTIÇA. ENTENDIMENTO EXPRESSADO NA SENTENÇA. AUSÊNCIA DE INTERESSE DO APELANTE. NÃO CONHECIMENTO.    CRITÉRIOS DE CONVERSÃO DAS AÇÕES A SEREM ADOTADOS NO CÁLCULO: COTAÇÃO DAS AÇÕES NO MERCADO FINANCEIRO NA DATA DO TRÂNSITO EM JULGADO. NOVO ENTENDIMENTO ADOTADO POR ESTA CÂMARA, ACOMPANHANDO JURISPRUDÊNCIA DO STJ (RESP N. 1.301.989-RS). SENTENÇA QUE DETERMINOU CONVERSÃO SEGUNDO O VALOR DA MAIOR COTAÇÃO NA BOLSA DE VALORES, NO PERÍODO COMPREENDIDO ENTRE A INTEGRALIZAÇÃO E O TRÂNSITO EM JULGADO. PLEITO DE REFORMA PROVIDO.   RESPONSABILIDADE DO ACIONISTA CONTROLADOR. TESE REJEITADA. RESPONSABILIDADE SOBRE EVENTUAL DESCUMPRIMENTO CONTRATUAL QUE É DA CONCESSIONÁRIA DE TELEFONIA.    CORREÇÃO MONETÁRIA DO INVESTIMENTO COM BASE NA PORTARIA N. 86/91. INACOLHIMENTO. CORREÇÃO QUE SE PRESTA A AJUSTAR FINANCEIRAMENTE O VALOR REAL DA MOEDA, NÃO AFASTANDO O DEVER DE INDENIZAR AS AÇÕES FALTANTES.   PREQUESTIONAMENTO. TESE GENÉRICA. OFENSA AO PRINCÍPIO DA DIALETICIDADE RECURSAL. PONTO NÃO CONHECIDO.    RECURSO DA PARTE AUTORA   DESDOBRAMENTOS ACIONÁRIOS NA RAZÃO 1 PARA 39 AÇÕES. JULGAMENTO CITRA PETITA. TESE NÃO APRECIDADA, EM QUE PESE PEDIDO NA EXORDIAL. RECONHECIMENTO DA PRETENSÃO DE OFÍCIO POR ESTE GRAU DE JURISDIÇÃO. PRECEDENTES DESTA CÂMARA.    PEDIDO DE EXIBIÇÃO DO CONTRATO ORIGINAL FIRMADO ENTRE AS PARTES. RADIOGRAFIA: DOCUMENTO SUFICIENTE QUANDO APRESENTA A COMPLETUDE E EXATIDÃO DAS INFORMAÇÕES PACTUADAS. PEDIDO NEGADO.   PLEITO COMUM A AMBAS AS PARTES   HONORÁRIOS ADVOCATÍCIOS. VERBA FIXADA EM 10% (DEZ POR CENTO) SOBRE O VALOR DA CONDENAÇÃO. PLEITO DE REDUÇÃO POR PARTE DA RÉ. PEDIDO DE MAJORAÇÃO POR PARTE DO DEMANDANTE. REJEITADO PEDIDO DA CONCESSIONÁRIA RÉ. NECESSÁRIA ADEQUAÇÃO DO PERCENTUAL AOS PARÂMETROS ADOTADOS POR ESTA CÂMARA PARA AÇÕES MANDAMENTAIS DE COMPLEMENTAÇÃO DAS AÇÕES DE TELEFONIA. PLEITO DA AUTORA PROVIDO PARA FIXAR A VERBA HONORÁRIA EM 15% (QUINZE POR CENTO) SOBRE O VALOR DA CONDENAÇÃO.   HONORÁRIOS RECURSAIS. RECURSO INTERPOSTO NA VIGÊNCIA DO CPC/1973. VERBA INDEVIDA.    AGRAVO RETIDO NÃO CONHECIDO. RECURSO DE APELAÇÃO DA RÉ PARCIALMENTE CONHECIDO E PROVIDO EM PARTE. RECURSO DE APELAÇÃO DA DEMANDANTE CONHECIDO E PARCIALMENTE PROVIDO. (TJSC, Apelação Cível n. 0502658-08.2012.8.24.0023, da Capital, rel. Des. Newton Varella Júnior, Segunda Câmara de Direito Comercial, j. Tue Oct 02 00:00:00 BRT 2018).\n",
      "['Classificado como OIG']\n"
     ]
    }
   ],
   "source": [
    "import crawler\n",
    "import limpeza\n",
    "\n",
    "nomalizador = limpeza.Limpeza()\n",
    "\n",
    "c = crawler.Crawler()\n",
    "acordaos = c.get_acordaos(dropdown.value)\n",
    "\n",
    "for acordao in acordaos:\n",
    "    print('\\n{}'.format(acordao['texto']))\n",
    "\n",
    "    ementa = nomalizador.normalizar(acordao['ementa'])\n",
    "    \n",
    "    print('\\n{}'.format(acordao['ementa']))\n",
    "    \n",
    "    for p in pipelines:\n",
    "        resultado = p.predict([ementa])\n",
    "        if resultado != 'NONE':\n",
    "            print('Classificado como ' + resultado)\n",
    "    "
   ]
  }
 ],
 "metadata": {
  "kernelspec": {
   "display_name": "Python 3",
   "language": "python",
   "name": "python3"
  },
  "language_info": {
   "codemirror_mode": {
    "name": "ipython",
    "version": 3
   },
   "file_extension": ".py",
   "mimetype": "text/x-python",
   "name": "python",
   "nbconvert_exporter": "python",
   "pygments_lexer": "ipython3",
   "version": "3.6.5"
  }
 },
 "nbformat": 4,
 "nbformat_minor": 2
}
