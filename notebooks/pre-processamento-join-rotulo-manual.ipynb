{
 "cells": [
  {
   "cell_type": "code",
   "execution_count": 1,
   "metadata": {},
   "outputs": [],
   "source": [
    "import pandas as pd\n",
    "\n",
    "colunas = ['CODIGO', 'PROCESSO', 'EMENTA']\n",
    "\n",
    "ementa_df = pd.read_csv('../data/ementa_ds.zip',\n",
    "                         compression='zip', header=0, sep=',', quotechar='\"', usecols=colunas)"
   ]
  },
  {
   "cell_type": "code",
   "execution_count": 2,
   "metadata": {},
   "outputs": [],
   "source": [
    "colunas = ['CODIGO', 'PROCESSO', 'ROTULO_MANUAL']\n",
    "\n",
    "rotulo_manual_df = pd.read_csv('../data/rotulo_manual_ds.zip',\n",
    "                               compression='zip', header=0, sep=',', quotechar='\"', usecols=colunas)"
   ]
  },
  {
   "cell_type": "markdown",
   "metadata": {},
   "source": [
    "A sigla \"AGR\" não é um rótulo de classificação, mas uma sigla utilizada para representar um estado do processo.\n",
    "\n",
    "Removendo-a do conjunto de dados."
   ]
  },
  {
   "cell_type": "code",
   "execution_count": 3,
   "metadata": {},
   "outputs": [],
   "source": [
    "rotulo_manual_df = rotulo_manual_df[rotulo_manual_df.ROTULO_MANUAL != 'AGR']\n"
   ]
  },
  {
   "cell_type": "code",
   "execution_count": 7,
   "metadata": {},
   "outputs": [],
   "source": [
    "def numero_seq(codigo):\n",
    "    seq_base_36 = codigo[-4:]\n",
    "    return str(int(seq_base_36, 36)).zfill(5)\n",
    "\n",
    "rotulo_manual_df['SEQ'] = rotulo_manual_df['CODIGO'].apply(lambda c: numero_seq(c))\n",
    "ementa_df['SEQ'] = ementa_df['CODIGO'].apply(lambda c: numero_seq(c))\n"
   ]
  },
  {
   "cell_type": "code",
   "execution_count": 8,
   "metadata": {
    "scrolled": false
   },
   "outputs": [
    {
     "data": {
      "text/html": [
       "<div>\n",
       "<style scoped>\n",
       "    .dataframe tbody tr th:only-of-type {\n",
       "        vertical-align: middle;\n",
       "    }\n",
       "\n",
       "    .dataframe tbody tr th {\n",
       "        vertical-align: top;\n",
       "    }\n",
       "\n",
       "    .dataframe thead th {\n",
       "        text-align: right;\n",
       "    }\n",
       "</style>\n",
       "<table border=\"1\" class=\"dataframe\">\n",
       "  <thead>\n",
       "    <tr style=\"text-align: right;\">\n",
       "      <th></th>\n",
       "      <th>CODIGO</th>\n",
       "      <th>PROCESSO</th>\n",
       "      <th>EMENTA</th>\n",
       "      <th>SEQ_x</th>\n",
       "      <th>ROTULO_MANUAL</th>\n",
       "      <th>SEQ_y</th>\n",
       "    </tr>\n",
       "  </thead>\n",
       "  <tbody>\n",
       "    <tr>\n",
       "      <th>0</th>\n",
       "      <td>P0000Q1VK12KW</td>\n",
       "      <td>00039604720138240039</td>\n",
       "      <td>&lt;br&gt;   EMBARGOS DE DECLARAÇÃO. PRETENDIDA REDI...</td>\n",
       "      <td>50000</td>\n",
       "      <td>NaN</td>\n",
       "      <td>NaN</td>\n",
       "    </tr>\n",
       "    <tr>\n",
       "      <th>1</th>\n",
       "      <td>P0000PB7O0000</td>\n",
       "      <td>00111212620168240000</td>\n",
       "      <td>&lt;br&gt;   AGRAVO DE INSTRUMENTO. COMUNICAÇÃO EXTE...</td>\n",
       "      <td>00000</td>\n",
       "      <td>NaN</td>\n",
       "      <td>NaN</td>\n",
       "    </tr>\n",
       "    <tr>\n",
       "      <th>2</th>\n",
       "      <td>P0000Q23H0000</td>\n",
       "      <td>01462451520158240000</td>\n",
       "      <td>&lt;br&gt;   AGRAVO DE INSTRUMENTO. NOTÍCIA DE SENTE...</td>\n",
       "      <td>00000</td>\n",
       "      <td>NaN</td>\n",
       "      <td>NaN</td>\n",
       "    </tr>\n",
       "    <tr>\n",
       "      <th>3</th>\n",
       "      <td>P0000PGP90000</td>\n",
       "      <td>00182975620168240000</td>\n",
       "      <td>&lt;br&gt;   AGRAVO DE INSTRUMENTO. INTERLOCUTÓRIA Q...</td>\n",
       "      <td>00000</td>\n",
       "      <td>NaN</td>\n",
       "      <td>NaN</td>\n",
       "    </tr>\n",
       "    <tr>\n",
       "      <th>4</th>\n",
       "      <td>P0000PIBQ0000</td>\n",
       "      <td>01583537620158240000</td>\n",
       "      <td>&lt;br&gt;   AGRAVO DE INSTRUMENTO. EMBARGOS A EXECU...</td>\n",
       "      <td>00000</td>\n",
       "      <td>NaN</td>\n",
       "      <td>NaN</td>\n",
       "    </tr>\n",
       "  </tbody>\n",
       "</table>\n",
       "</div>"
      ],
      "text/plain": [
       "          CODIGO              PROCESSO  \\\n",
       "0  P0000Q1VK12KW  00039604720138240039   \n",
       "1  P0000PB7O0000  00111212620168240000   \n",
       "2  P0000Q23H0000  01462451520158240000   \n",
       "3  P0000PGP90000  00182975620168240000   \n",
       "4  P0000PIBQ0000  01583537620158240000   \n",
       "\n",
       "                                              EMENTA  SEQ_x ROTULO_MANUAL  \\\n",
       "0  <br>   EMBARGOS DE DECLARAÇÃO. PRETENDIDA REDI...  50000           NaN   \n",
       "1  <br>   AGRAVO DE INSTRUMENTO. COMUNICAÇÃO EXTE...  00000           NaN   \n",
       "2  <br>   AGRAVO DE INSTRUMENTO. NOTÍCIA DE SENTE...  00000           NaN   \n",
       "3  <br>   AGRAVO DE INSTRUMENTO. INTERLOCUTÓRIA Q...  00000           NaN   \n",
       "4  <br>   AGRAVO DE INSTRUMENTO. EMBARGOS A EXECU...  00000           NaN   \n",
       "\n",
       "  SEQ_y  \n",
       "0   NaN  \n",
       "1   NaN  \n",
       "2   NaN  \n",
       "3   NaN  \n",
       "4   NaN  "
      ]
     },
     "execution_count": 8,
     "metadata": {},
     "output_type": "execute_result"
    }
   ],
   "source": [
    "coleta_df = pd.merge(ementa_df, rotulo_manual_df, on=['CODIGO', 'PROCESSO'], how='left')\n",
    "\n",
    "coleta_df.head()"
   ]
  },
  {
   "cell_type": "code",
   "execution_count": 9,
   "metadata": {},
   "outputs": [
    {
     "data": {
      "text/html": [
       "<div>\n",
       "<style scoped>\n",
       "    .dataframe tbody tr th:only-of-type {\n",
       "        vertical-align: middle;\n",
       "    }\n",
       "\n",
       "    .dataframe tbody tr th {\n",
       "        vertical-align: top;\n",
       "    }\n",
       "\n",
       "    .dataframe thead th {\n",
       "        text-align: right;\n",
       "    }\n",
       "</style>\n",
       "<table border=\"1\" class=\"dataframe\">\n",
       "  <thead>\n",
       "    <tr style=\"text-align: right;\">\n",
       "      <th></th>\n",
       "      <th>CODIGO_x</th>\n",
       "      <th>PROCESSO</th>\n",
       "      <th>EMENTA</th>\n",
       "      <th>SEQ_x</th>\n",
       "      <th>CODIGO_y</th>\n",
       "      <th>ROTULO_MANUAL</th>\n",
       "      <th>SEQ_y</th>\n",
       "    </tr>\n",
       "  </thead>\n",
       "  <tbody>\n",
       "    <tr>\n",
       "      <th>0</th>\n",
       "      <td>P0000PCC50000</td>\n",
       "      <td>00024255420138240081</td>\n",
       "      <td>&lt;br&gt;   APELAÇÃO CÍVEL. AÇÃO DE INDENIZAÇÃO POR...</td>\n",
       "      <td>00000</td>\n",
       "      <td>P000117LG12KW</td>\n",
       "      <td>DAN</td>\n",
       "      <td>50000</td>\n",
       "    </tr>\n",
       "    <tr>\n",
       "      <th>1</th>\n",
       "      <td>P0000Q9270000</td>\n",
       "      <td>00103872520108240020</td>\n",
       "      <td>&lt;br&gt;   APELAÇÃO CÍVEL. AÇÃO DE RESCISÃO CONTRA...</td>\n",
       "      <td>00000</td>\n",
       "      <td>P0000Q92712KX</td>\n",
       "      <td>CON</td>\n",
       "      <td>50001</td>\n",
       "    </tr>\n",
       "    <tr>\n",
       "      <th>2</th>\n",
       "      <td>P0000Q92712KW</td>\n",
       "      <td>00103872520108240020</td>\n",
       "      <td>&lt;br&gt;   EMBARGOS DE DECLARAÇÃO EM APELAÇÃO CÍVE...</td>\n",
       "      <td>50000</td>\n",
       "      <td>P0000Q92712KX</td>\n",
       "      <td>CON</td>\n",
       "      <td>50001</td>\n",
       "    </tr>\n",
       "    <tr>\n",
       "      <th>3</th>\n",
       "      <td>P0000PINI12KW</td>\n",
       "      <td>00067390720078240064</td>\n",
       "      <td>&lt;br&gt;   EMBARGOS DE DECLARAÇÃO EM APELAÇÃO CÍVE...</td>\n",
       "      <td>50000</td>\n",
       "      <td>P0000PINI12KZ</td>\n",
       "      <td>PRE</td>\n",
       "      <td>50003</td>\n",
       "    </tr>\n",
       "    <tr>\n",
       "      <th>4</th>\n",
       "      <td>P0000PINI12KW</td>\n",
       "      <td>00067390720078240064</td>\n",
       "      <td>&lt;br&gt;   EMBARGOS DE DECLARAÇÃO EM APELAÇÃO CÍVE...</td>\n",
       "      <td>50000</td>\n",
       "      <td>P0000PINI12KZ</td>\n",
       "      <td>PRE</td>\n",
       "      <td>50003</td>\n",
       "    </tr>\n",
       "  </tbody>\n",
       "</table>\n",
       "</div>"
      ],
      "text/plain": [
       "        CODIGO_x              PROCESSO  \\\n",
       "0  P0000PCC50000  00024255420138240081   \n",
       "1  P0000Q9270000  00103872520108240020   \n",
       "2  P0000Q92712KW  00103872520108240020   \n",
       "3  P0000PINI12KW  00067390720078240064   \n",
       "4  P0000PINI12KW  00067390720078240064   \n",
       "\n",
       "                                              EMENTA  SEQ_x       CODIGO_y  \\\n",
       "0  <br>   APELAÇÃO CÍVEL. AÇÃO DE INDENIZAÇÃO POR...  00000  P000117LG12KW   \n",
       "1  <br>   APELAÇÃO CÍVEL. AÇÃO DE RESCISÃO CONTRA...  00000  P0000Q92712KX   \n",
       "2  <br>   EMBARGOS DE DECLARAÇÃO EM APELAÇÃO CÍVE...  50000  P0000Q92712KX   \n",
       "3  <br>   EMBARGOS DE DECLARAÇÃO EM APELAÇÃO CÍVE...  50000  P0000PINI12KZ   \n",
       "4  <br>   EMBARGOS DE DECLARAÇÃO EM APELAÇÃO CÍVE...  50000  P0000PINI12KZ   \n",
       "\n",
       "  ROTULO_MANUAL  SEQ_y  \n",
       "0           DAN  50000  \n",
       "1           CON  50001  \n",
       "2           CON  50001  \n",
       "3           PRE  50003  \n",
       "4           PRE  50003  "
      ]
     },
     "execution_count": 9,
     "metadata": {},
     "output_type": "execute_result"
    }
   ],
   "source": [
    "coleta_df = pd.merge(ementa_df, rotulo_manual_df, on=['PROCESSO'])\n",
    "\n",
    "coleta_df.head()"
   ]
  },
  {
   "cell_type": "code",
   "execution_count": 10,
   "metadata": {
    "scrolled": true
   },
   "outputs": [
    {
     "data": {
      "text/html": [
       "<div>\n",
       "<style scoped>\n",
       "    .dataframe tbody tr th:only-of-type {\n",
       "        vertical-align: middle;\n",
       "    }\n",
       "\n",
       "    .dataframe tbody tr th {\n",
       "        vertical-align: top;\n",
       "    }\n",
       "\n",
       "    .dataframe thead th {\n",
       "        text-align: right;\n",
       "    }\n",
       "</style>\n",
       "<table border=\"1\" class=\"dataframe\">\n",
       "  <thead>\n",
       "    <tr style=\"text-align: right;\">\n",
       "      <th></th>\n",
       "      <th>CODIGO</th>\n",
       "      <th>PROCESSO</th>\n",
       "      <th>ROTULO_MANUAL</th>\n",
       "      <th>SEQ</th>\n",
       "    </tr>\n",
       "  </thead>\n",
       "  <tbody>\n",
       "    <tr>\n",
       "      <th>2340</th>\n",
       "      <td>P0000Q92712KX</td>\n",
       "      <td>00103872520108240020</td>\n",
       "      <td>CON</td>\n",
       "      <td>50001</td>\n",
       "    </tr>\n",
       "  </tbody>\n",
       "</table>\n",
       "</div>"
      ],
      "text/plain": [
       "             CODIGO              PROCESSO ROTULO_MANUAL    SEQ\n",
       "2340  P0000Q92712KX  00103872520108240020           CON  50001"
      ]
     },
     "execution_count": 10,
     "metadata": {},
     "output_type": "execute_result"
    }
   ],
   "source": [
    "rotulo_manual_df.query('PROCESSO == \"00103872520108240020\"')"
   ]
  },
  {
   "cell_type": "code",
   "execution_count": 11,
   "metadata": {},
   "outputs": [
    {
     "data": {
      "text/html": [
       "<div>\n",
       "<style scoped>\n",
       "    .dataframe tbody tr th:only-of-type {\n",
       "        vertical-align: middle;\n",
       "    }\n",
       "\n",
       "    .dataframe tbody tr th {\n",
       "        vertical-align: top;\n",
       "    }\n",
       "\n",
       "    .dataframe thead th {\n",
       "        text-align: right;\n",
       "    }\n",
       "</style>\n",
       "<table border=\"1\" class=\"dataframe\">\n",
       "  <thead>\n",
       "    <tr style=\"text-align: right;\">\n",
       "      <th></th>\n",
       "      <th>CODIGO</th>\n",
       "      <th>PROCESSO</th>\n",
       "      <th>EMENTA</th>\n",
       "      <th>SEQ</th>\n",
       "    </tr>\n",
       "  </thead>\n",
       "  <tbody>\n",
       "    <tr>\n",
       "      <th>875</th>\n",
       "      <td>P0000Q9270000</td>\n",
       "      <td>00103872520108240020</td>\n",
       "      <td>&lt;br&gt;   APELAÇÃO CÍVEL. AÇÃO DE RESCISÃO CONTRA...</td>\n",
       "      <td>00000</td>\n",
       "    </tr>\n",
       "    <tr>\n",
       "      <th>79850</th>\n",
       "      <td>P0000Q92712KW</td>\n",
       "      <td>00103872520108240020</td>\n",
       "      <td>&lt;br&gt;   EMBARGOS DE DECLARAÇÃO EM APELAÇÃO CÍVE...</td>\n",
       "      <td>50000</td>\n",
       "    </tr>\n",
       "  </tbody>\n",
       "</table>\n",
       "</div>"
      ],
      "text/plain": [
       "              CODIGO              PROCESSO  \\\n",
       "875    P0000Q9270000  00103872520108240020   \n",
       "79850  P0000Q92712KW  00103872520108240020   \n",
       "\n",
       "                                                  EMENTA    SEQ  \n",
       "875    <br>   APELAÇÃO CÍVEL. AÇÃO DE RESCISÃO CONTRA...  00000  \n",
       "79850  <br>   EMBARGOS DE DECLARAÇÃO EM APELAÇÃO CÍVE...  50000  "
      ]
     },
     "execution_count": 11,
     "metadata": {},
     "output_type": "execute_result"
    }
   ],
   "source": [
    "ementa_df.query('PROCESSO == \"00103872520108240020\"')"
   ]
  }
 ],
 "metadata": {
  "kernelspec": {
   "display_name": "Python 3",
   "language": "python",
   "name": "python3"
  },
  "language_info": {
   "codemirror_mode": {
    "name": "ipython",
    "version": 3
   },
   "file_extension": ".py",
   "mimetype": "text/x-python",
   "name": "python",
   "nbconvert_exporter": "python",
   "pygments_lexer": "ipython3",
   "version": "3.7.0"
  }
 },
 "nbformat": 4,
 "nbformat_minor": 2
}
