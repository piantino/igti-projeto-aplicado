{
 "cells": [
  {
   "cell_type": "markdown",
   "metadata": {},
   "source": [
    "https://pythonprogramminglanguage.com/kmeans-text-clustering/"
   ]
  },
  {
   "cell_type": "code",
   "execution_count": 1,
   "metadata": {},
   "outputs": [],
   "source": [
    "from sklearn.feature_extraction.text import TfidfVectorizer\n",
    "from sklearn.cluster import KMeans\n",
    "from sklearn.metrics import adjusted_rand_score\n",
    "\n",
    "from nltk.corpus import stopwords"
   ]
  },
  {
   "cell_type": "code",
   "execution_count": 2,
   "metadata": {},
   "outputs": [],
   "source": [
    "import pandas as pd\n",
    "\n",
    "colunas = ['ROTULO_MANUAL', 'EMENTA_NORM']\n",
    "\n",
    "df = pd.read_csv('../../data/ementas_pre-processadas.csv', header=0, sep=',', quotechar='\"', usecols=colunas)"
   ]
  },
  {
   "cell_type": "code",
   "execution_count": 3,
   "metadata": {},
   "outputs": [],
   "source": [
    "documents = df['EMENTA_NORM']"
   ]
  },
  {
   "cell_type": "code",
   "execution_count": 4,
   "metadata": {},
   "outputs": [],
   "source": [
    "vectorizer = TfidfVectorizer()\n",
    "X = vectorizer.fit_transform(documents.values.astype('U'))"
   ]
  },
  {
   "cell_type": "code",
   "execution_count": 5,
   "metadata": {},
   "outputs": [
    {
     "data": {
      "text/plain": [
       "KMeans(algorithm='auto', copy_x=True, init='k-means++', max_iter=100,\n",
       "       n_clusters=5, n_init=1, n_jobs=None, precompute_distances='auto',\n",
       "       random_state=None, tol=0.0001, verbose=0)"
      ]
     },
     "execution_count": 5,
     "metadata": {},
     "output_type": "execute_result"
    }
   ],
   "source": [
    "true_k = 5\n",
    "model = KMeans(n_clusters=true_k, init='k-means++', max_iter=100, n_init=1)\n",
    "model.fit(X)"
   ]
  },
  {
   "cell_type": "code",
   "execution_count": 6,
   "metadata": {},
   "outputs": [
    {
     "name": "stdout",
     "output_type": "stream",
     "text": [
      "Top terms per cluster:\n",
      "Cluster 0:\n",
      " sentenca\n",
      " coletiva\n",
      " publica\n",
      " acao\n",
      " banco\n",
      " recurso\n",
      " cumprimento\n",
      " civil\n",
      " expurgos\n",
      " liquidacao\n",
      "Cluster 1:\n",
      " embargos\n",
      " declaracao\n",
      " omissao\n",
      " art\n",
      " aclaratorios\n",
      " rejeitados\n",
      " acordao\n",
      " rediscussao\n",
      " prequestionamento\n",
      " materia\n",
      "Cluster 2:\n",
      " rejeicao\n",
      " artigo\n",
      " requisitos\n",
      " declaracao\n",
      " processo\n",
      " embargos\n",
      " codigo\n",
      " civil\n",
      " ausencia\n",
      " caracterizada\n",
      "Cluster 3:\n",
      " recurso\n",
      " sentenca\n",
      " art\n",
      " acoes\n",
      " contrato\n",
      " acao\n",
      " codigo\n",
      " civil\n",
      " apelacao\n",
      " conhecido\n",
      "Cluster 4:\n",
      " embargos\n",
      " obscuridade\n",
      " contradicao\n",
      " omissao\n",
      " declaracao\n",
      " erro\n",
      " material\n",
      " prequestionamento\n",
      " rediscussao\n",
      " materia\n"
     ]
    }
   ],
   "source": [
    "print(\"Top terms per cluster:\")\n",
    "order_centroids = model.cluster_centers_.argsort()[:, ::-1]\n",
    "terms = vectorizer.get_feature_names()\n",
    "for i in range(true_k):\n",
    "    print(\"Cluster %d:\" % i),\n",
    "    for ind in order_centroids[i, :10]:\n",
    "        print(' %s' % terms[ind]),\n",
    "    print"
   ]
  },
  {
   "cell_type": "code",
   "execution_count": 7,
   "metadata": {},
   "outputs": [],
   "source": [
    "Y = vectorizer.transform(df['EMENTA_NORM'].values.astype('U'))\n",
    "prediction = model.predict(Y)\n",
    "df['PREDICTION'] = prediction"
   ]
  },
  {
   "cell_type": "code",
   "execution_count": 8,
   "metadata": {},
   "outputs": [
    {
     "data": {
      "text/html": [
       "<div>\n",
       "<style scoped>\n",
       "    .dataframe tbody tr th:only-of-type {\n",
       "        vertical-align: middle;\n",
       "    }\n",
       "\n",
       "    .dataframe tbody tr th {\n",
       "        vertical-align: top;\n",
       "    }\n",
       "\n",
       "    .dataframe thead th {\n",
       "        text-align: right;\n",
       "    }\n",
       "</style>\n",
       "<table border=\"1\" class=\"dataframe\">\n",
       "  <thead>\n",
       "    <tr style=\"text-align: right;\">\n",
       "      <th></th>\n",
       "      <th>ROTULO_MANUAL</th>\n",
       "      <th>EMENTA_NORM</th>\n",
       "      <th>PREDICTION</th>\n",
       "      <th>ROTULO</th>\n",
       "    </tr>\n",
       "  </thead>\n",
       "  <tbody>\n",
       "    <tr>\n",
       "      <th>0</th>\n",
       "      <td>CDC</td>\n",
       "      <td>embargos declaracao pretendida rediscussao que...</td>\n",
       "      <td>1</td>\n",
       "      <td>3</td>\n",
       "    </tr>\n",
       "    <tr>\n",
       "      <th>1</th>\n",
       "      <td>CDC</td>\n",
       "      <td>apelacao civel acao declaratoria cc repeticao ...</td>\n",
       "      <td>3</td>\n",
       "      <td>3</td>\n",
       "    </tr>\n",
       "    <tr>\n",
       "      <th>2</th>\n",
       "      <td>CDC</td>\n",
       "      <td>embargos declaracao suscitacao contradicao err...</td>\n",
       "      <td>1</td>\n",
       "      <td>3</td>\n",
       "    </tr>\n",
       "    <tr>\n",
       "      <th>3</th>\n",
       "      <td>DAN</td>\n",
       "      <td>apelacao civel acao indenizacao danos morais c...</td>\n",
       "      <td>3</td>\n",
       "      <td>7</td>\n",
       "    </tr>\n",
       "    <tr>\n",
       "      <th>4</th>\n",
       "      <td>DAN</td>\n",
       "      <td>apelacao civel acao indenizatoria danos materi...</td>\n",
       "      <td>3</td>\n",
       "      <td>7</td>\n",
       "    </tr>\n",
       "  </tbody>\n",
       "</table>\n",
       "</div>"
      ],
      "text/plain": [
       "  ROTULO_MANUAL                                        EMENTA_NORM  \\\n",
       "0           CDC  embargos declaracao pretendida rediscussao que...   \n",
       "1           CDC  apelacao civel acao declaratoria cc repeticao ...   \n",
       "2           CDC  embargos declaracao suscitacao contradicao err...   \n",
       "3           DAN  apelacao civel acao indenizacao danos morais c...   \n",
       "4           DAN  apelacao civel acao indenizatoria danos materi...   \n",
       "\n",
       "   PREDICTION  ROTULO  \n",
       "0           1       3  \n",
       "1           3       3  \n",
       "2           1       3  \n",
       "3           3       7  \n",
       "4           3       7  "
      ]
     },
     "execution_count": 8,
     "metadata": {},
     "output_type": "execute_result"
    }
   ],
   "source": [
    "df['ROTULO'] = df['ROTULO_MANUAL'].astype(\"category\").cat.codes\n",
    "df.head()"
   ]
  },
  {
   "cell_type": "code",
   "execution_count": 10,
   "metadata": {},
   "outputs": [
    {
     "data": {
      "text/plain": [
       "<matplotlib.axes._subplots.AxesSubplot at 0x7f7edad60240>"
      ]
     },
     "execution_count": 10,
     "metadata": {},
     "output_type": "execute_result"
    },
    {
     "data": {
      "image/png": "[encoded data removed]",
      "text/plain": [
       "<Figure size 432x288 with 1 Axes>"
      ]
     },
     "metadata": {},
     "output_type": "display_data"
    }
   ],
   "source": [
    "df.plot.scatter(x='ROTULO', y='PREDICTION', c='DarkBlue')"
   ]
  }
 ],
 "metadata": {
  "kernelspec": {
   "display_name": "Python 3",
   "language": "python",
   "name": "python3"
  },
  "language_info": {
   "codemirror_mode": {
    "name": "ipython",
    "version": 3
   },
   "file_extension": ".py",
   "mimetype": "text/x-python",
   "name": "python",
   "nbconvert_exporter": "python",
   "pygments_lexer": "ipython3",
   "version": "3.6.8"
  }
 },
 "nbformat": 4,
 "nbformat_minor": 2
}
