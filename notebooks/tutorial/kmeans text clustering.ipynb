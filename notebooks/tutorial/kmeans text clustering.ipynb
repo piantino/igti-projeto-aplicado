{
 "cells": [
  {
   "cell_type": "markdown",
   "metadata": {},
   "source": [
    "https://pythonprogramminglanguage.com/kmeans-text-clustering/"
   ]
  },
  {
   "cell_type": "code",
   "execution_count": 5,
   "metadata": {},
   "outputs": [],
   "source": [
    "from sklearn.feature_extraction.text import TfidfVectorizer\n",
    "from sklearn.cluster import KMeans\n",
    "from sklearn.metrics import adjusted_rand_score"
   ]
  },
  {
   "cell_type": "code",
   "execution_count": 2,
   "metadata": {},
   "outputs": [],
   "source": [
    "import pandas as pd\n",
    "\n",
    "colunas = ['ROTULO_MANUAL', 'EMENTA_NORM']\n",
    "\n",
    "df = pd.read_csv('../../data/ementas_pre-processadas.csv', header=0, sep=',', quotechar='\"', usecols=colunas)"
   ]
  },
  {
   "cell_type": "code",
   "execution_count": 6,
   "metadata": {},
   "outputs": [],
   "source": [
    "documents = df['EMENTA_NORM']"
   ]
  },
  {
   "cell_type": "code",
   "execution_count": 10,
   "metadata": {},
   "outputs": [],
   "source": [
    "vectorizer = TfidfVectorizer(stop_words='english')\n",
    "X = vectorizer.fit_transform(documents.values.astype('U'))"
   ]
  },
  {
   "cell_type": "code",
   "execution_count": 13,
   "metadata": {},
   "outputs": [
    {
     "data": {
      "text/plain": [
       "KMeans(algorithm='auto', copy_x=True, init='k-means++', max_iter=100,\n",
       "    n_clusters=10, n_init=1, n_jobs=None, precompute_distances='auto',\n",
       "    random_state=None, tol=0.0001, verbose=0)"
      ]
     },
     "execution_count": 13,
     "metadata": {},
     "output_type": "execute_result"
    }
   ],
   "source": [
    "true_k = 10\n",
    "model = KMeans(n_clusters=true_k, init='k-means++', max_iter=100, n_init=1)\n",
    "model.fit(X)"
   ]
  },
  {
   "cell_type": "code",
   "execution_count": 14,
   "metadata": {},
   "outputs": [
    {
     "name": "stdout",
     "output_type": "stream",
     "text": [
      "Top terms per cluster:\n",
      "Cluster 0:\n",
      " ataca\n",
      " dominante\n",
      " direta\n",
      " dissociadas\n",
      " regido\n",
      " monocratica\n",
      " artigo\n",
      " recorrida\n",
      " fundamentos\n",
      " jurisprudencia\n",
      "Cluster 1:\n",
      " invalidez\n",
      " doenca\n",
      " seguro\n",
      " permanente\n",
      " acidente\n",
      " segurado\n",
      " grupo\n",
      " estipulante\n",
      " vida\n",
      " cobertura\n",
      "Cluster 2:\n",
      " acoes\n",
      " telefonia\n",
      " telesc\n",
      " sa\n",
      " acionaria\n",
      " subscricao\n",
      " prescricao\n",
      " complementacao\n",
      " fixa\n",
      " participacao\n",
      "Cluster 3:\n",
      " coletiva\n",
      " sentenca\n",
      " publica\n",
      " acao\n",
      " expurgos\n",
      " inflacionarios\n",
      " civil\n",
      " recurso\n",
      " execucao\n",
      " banco\n",
      "Cluster 4:\n",
      " rejeicao\n",
      " artigo\n",
      " embargos\n",
      " requisitos\n",
      " declaracao\n",
      " processo\n",
      " codigo\n",
      " civil\n",
      " ausencia\n",
      " caracterizada\n",
      "Cluster 5:\n",
      " recurso\n",
      " sentenca\n",
      " art\n",
      " acao\n",
      " civil\n",
      " agravo\n",
      " apelacao\n",
      " processo\n",
      " decisao\n",
      " codigo\n",
      "Cluster 6:\n",
      " dispositivos\n",
      " embargos\n",
      " legais\n",
      " prequestionamento\n",
      " art\n",
      " aclaratorios\n",
      " rejeitados\n",
      " declaracao\n",
      " omissao\n",
      " todos\n",
      "Cluster 7:\n",
      " embargos\n",
      " declaracao\n",
      " omissao\n",
      " contradicao\n",
      " obscuridade\n",
      " rediscussao\n",
      " erro\n",
      " materia\n",
      " prequestionamento\n",
      " material\n",
      "Cluster 8:\n",
      " juros\n",
      " taxa\n",
      " remuneratorios\n",
      " media\n",
      " capitalizacao\n",
      " mercado\n",
      " abusividade\n",
      " encargos\n",
      " credito\n",
      " revisao\n",
      "Cluster 9:\n",
      " banco\n",
      " coletiva\n",
      " cumprimento\n",
      " sentenca\n",
      " especial\n",
      " publica\n",
      " proferida\n",
      " acao\n",
      " civil\n",
      " juizo\n",
      "\n",
      "\n",
      "Prediction\n"
     ]
    }
   ],
   "source": [
    "print(\"Top terms per cluster:\")\n",
    "order_centroids = model.cluster_centers_.argsort()[:, ::-1]\n",
    "terms = vectorizer.get_feature_names()\n",
    "for i in range(true_k):\n",
    "    print(\"Cluster %d:\" % i),\n",
    "    for ind in order_centroids[i, :10]:\n",
    "        print(' %s' % terms[ind]),\n",
    "    print\n",
    "\n",
    "print(\"\\n\")\n",
    "print(\"Prediction\")"
   ]
  },
  {
   "cell_type": "code",
   "execution_count": 17,
   "metadata": {},
   "outputs": [
    {
     "name": "stdout",
     "output_type": "stream",
     "text": [
      "[5]\n"
     ]
    }
   ],
   "source": [
    "Y = vectorizer.transform(\n",
    "    [\"APELAÇÕES CÍVEIS. AÇÃO DE RESTITUIÇÃO DE VALORES C/C INDENIZAÇÃO POR DANO MORAL COM PEDIDO DE TUTELA PROVISÓRIA DE URGÊNCIA ANTECIPADA. TOGADO DE ORIGEM QUE JULGA PARCIALMENTE PROCEDENTES OS PEDIDOS DEDUZIDOS NA EXORDIAL. IRRESIGNAÇÃO DE AMBOS OS CONTENDORES DIREITO INTERTEMPORAL. DECISÃO PUBLICADA EM 15-2-19. INCIDÊNCIA DO CÓDIGO DE PROCESSO CIVIL DE 2015. MAGISTRADO A QUO QUE LIMITOU-SE A READEQUAR OS TERMOS DO CONTRATO DE CARTÃO DE CRÉDITO COM CLÁUSULA DE MARGEM CONSIGNÁVEL (RMC). ALMEJADA REFORMA DA SENTENÇA POR AMBAS AS PARTES. ACOLHIMENTO DA INSURGÊNCIA DA DEMANDANTE. DESCONTOS REALIZADOS DIRETAMENTE NO BENEFÍCIO PREVIDENCIÁRIO DA REQUERENTE, PESSOA IDOSA, HIPOSSUFICIENTE E COM PARCOS RECURSOS. CONTEXTO PROBATÓRIO QUE INDICA QUE A AUTORA PRETENDIA FORMALIZAR APENAS AVENÇA DE EMPRÉSTIMO CONSIGNADO. INEXISTÊNCIA DE ADEQUADA DECLARAÇÃO DE VONTADE QUANTO À CELEBRAÇÃO DE AJUSTE DE CARTÃO DE CRÉDITO. AUSÊNCIA DE PROVAS QUANTO À UTILIZAÇÃO DO CARTÃO DE CRÉDITO E TAMPOUCO DO SEU ENVIO PARA O ENDEREÇO DA CONSUMIDORA. PRÁTICA ABUSIVA CONFIGURADA. INTELIGÊNCIA DO ART. 39, INCISOS I, III E IV DO CÓDIGO DE DEFESA DO CONSUMIDOR. PRECEDENTES DESTE AREÓPAGO. FORÇOSA DECLARAÇÃO DE INEXISTÊNCIA DO DÉBITO DECORRENTE DA PROPOSTA DE ADESÃO - CARTÃO DE CRÉDITO CONSIGNADO CETELEM. IMPERATIVA CONVERSÃO DO AJUSTE PARA A MODALIDADE DE EMPRÉSTIMO CONSIGNADO, COM AS ADAPTAÇÕES NECESSÁRIAS. COGENTE RECÁLCULO COM COMPENSAÇÃO DOS VALORES JÁ ADIMPLIDOS PELA CONSUMIDORA, ADITADOS DE CORREÇÃO MONETÁRIA DESDE A DATA DE CADA DESEMBOLSO INDEVIDO E JUROS DE MORA, ESTES A CONTAR DA CITAÇÃO, POR FORÇA DO ART. 397, PARÁGRAFO ÚNICO, DO CÓDIGO CIVIL E 240, CAPUT, DO CÓDIGO DE PROCESSO CIVIL. REPETIÇÃO SIMPLES DO INDÉBITO EM CASO DE CONSTATAÇÃO DE SALDO CREDOR EM FAVOR DA CONSUMIDORA. DANO MORAL. CABAL MATERIALIZAÇÃO DE VIOLAÇÃO AO DEVER DE INFORMAÇÃO E INOBSERVÂNCIA À BOA-FÉ CONTRATUAL. AFERIÇÃO DO ABALO ANÍMICO EXPERIMENTADO PELA AUTORA PELA ANÁLISE CONJUNTA DOS SEGUINTES ASPECTOS: (A) EMPRÉSTIMO\"\n",
    "    ])\n",
    "prediction = model.predict(Y)\n",
    "print(prediction)"
   ]
  }
 ],
 "metadata": {
  "kernelspec": {
   "display_name": "Python 3",
   "language": "python",
   "name": "python3"
  },
  "language_info": {
   "codemirror_mode": {
    "name": "ipython",
    "version": 3
   },
   "file_extension": ".py",
   "mimetype": "text/x-python",
   "name": "python",
   "nbconvert_exporter": "python",
   "pygments_lexer": "ipython3",
   "version": "3.6.5"
  }
 },
 "nbformat": 4,
 "nbformat_minor": 2
}
