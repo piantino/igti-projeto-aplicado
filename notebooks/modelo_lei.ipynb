{
 "cells": [
  {
   "cell_type": "code",
   "execution_count": 1,
   "metadata": {},
   "outputs": [
    {
     "name": "stderr",
     "output_type": "stream",
     "text": [
      "COMET INFO: old comet version (1.0.55) detected. current: 1.0.56 please update your comet lib with command: `pip install --no-cache-dir --upgrade comet_ml`\n",
      "COMET INFO: Experiment is live on comet.ml https://www.comet.ml/piantino/igti-projeto-aplicado-leis/f9f1a933590a4ef786b36f8ccb67fd30\n",
      "\n"
     ]
    }
   ],
   "source": [
    "from comet_ml import Experiment\n",
    "\n",
    "experiment = Experiment(project_name=\"igti-projeto-aplicado-leis\", workspace=\"piantino\")"
   ]
  },
  {
   "cell_type": "code",
   "execution_count": 2,
   "metadata": {},
   "outputs": [],
   "source": [
    "import pandas as pd\n",
    "\n",
    "colunas = ['PROCESSO', 'ROTULO_MANUAL', 'LEI']\n",
    "\n",
    "df = pd.read_csv('../data/leis.csv', header=0, sep=',', quotechar='\"', usecols=colunas)"
   ]
  },
  {
   "cell_type": "code",
   "execution_count": 3,
   "metadata": {},
   "outputs": [
    {
     "data": {
      "text/html": [
       "<div>\n",
       "<style scoped>\n",
       "    .dataframe tbody tr th:only-of-type {\n",
       "        vertical-align: middle;\n",
       "    }\n",
       "\n",
       "    .dataframe tbody tr th {\n",
       "        vertical-align: top;\n",
       "    }\n",
       "\n",
       "    .dataframe thead th {\n",
       "        text-align: right;\n",
       "    }\n",
       "</style>\n",
       "<table border=\"1\" class=\"dataframe\">\n",
       "  <thead>\n",
       "    <tr style=\"text-align: right;\">\n",
       "      <th></th>\n",
       "      <th>PROCESSO</th>\n",
       "      <th>ROTULO_MANUAL</th>\n",
       "      <th>LEI</th>\n",
       "    </tr>\n",
       "  </thead>\n",
       "  <tbody>\n",
       "    <tr>\n",
       "      <th>0</th>\n",
       "      <td>00039604720138240039</td>\n",
       "      <td>CDC</td>\n",
       "      <td>artigo 535</td>\n",
       "    </tr>\n",
       "    <tr>\n",
       "      <th>1</th>\n",
       "      <td>00039604720138240039</td>\n",
       "      <td>CDC</td>\n",
       "      <td>9656/1998</td>\n",
       "    </tr>\n",
       "    <tr>\n",
       "      <th>2</th>\n",
       "      <td>00039604720138240039</td>\n",
       "      <td>CDC</td>\n",
       "      <td>616/2012</td>\n",
       "    </tr>\n",
       "    <tr>\n",
       "      <th>3</th>\n",
       "      <td>00039604720138240039</td>\n",
       "      <td>CDC</td>\n",
       "      <td>artigo 535</td>\n",
       "    </tr>\n",
       "    <tr>\n",
       "      <th>4</th>\n",
       "      <td>00039604720138240039</td>\n",
       "      <td>CDC</td>\n",
       "      <td>9656/1998</td>\n",
       "    </tr>\n",
       "  </tbody>\n",
       "</table>\n",
       "</div>"
      ],
      "text/plain": [
       "               PROCESSO ROTULO_MANUAL         LEI\n",
       "0  00039604720138240039           CDC  artigo 535\n",
       "1  00039604720138240039           CDC   9656/1998\n",
       "2  00039604720138240039           CDC    616/2012\n",
       "3  00039604720138240039           CDC  artigo 535\n",
       "4  00039604720138240039           CDC   9656/1998"
      ]
     },
     "execution_count": 3,
     "metadata": {},
     "output_type": "execute_result"
    }
   ],
   "source": [
    " df.head()"
   ]
  },
  {
   "cell_type": "markdown",
   "metadata": {},
   "source": [
    "Utitiza apenas label que contenham mais de 200 exemplos."
   ]
  },
  {
   "cell_type": "code",
   "execution_count": 4,
   "metadata": {},
   "outputs": [],
   "source": [
    "rotulos = ['EXP', 'BAN', 'OIG', 'DAN', 'SEG', 'CON', 'OIE']\n",
    "\n",
    "df.loc[~df['ROTULO_MANUAL'].isin(rotulos), 'ROTULO_MANUAL'] = 'NONE'"
   ]
  },
  {
   "cell_type": "code",
   "execution_count": 5,
   "metadata": {},
   "outputs": [
    {
     "data": {
      "text/html": [
       "<div>\n",
       "<style scoped>\n",
       "    .dataframe tbody tr th:only-of-type {\n",
       "        vertical-align: middle;\n",
       "    }\n",
       "\n",
       "    .dataframe tbody tr th {\n",
       "        vertical-align: top;\n",
       "    }\n",
       "\n",
       "    .dataframe thead th {\n",
       "        text-align: right;\n",
       "    }\n",
       "</style>\n",
       "<table border=\"1\" class=\"dataframe\">\n",
       "  <thead>\n",
       "    <tr style=\"text-align: right;\">\n",
       "      <th></th>\n",
       "      <th>LEI</th>\n",
       "    </tr>\n",
       "    <tr>\n",
       "      <th>ROTULO_MANUAL</th>\n",
       "      <th></th>\n",
       "    </tr>\n",
       "  </thead>\n",
       "  <tbody>\n",
       "    <tr>\n",
       "      <th>NONE</th>\n",
       "      <td>12213</td>\n",
       "    </tr>\n",
       "    <tr>\n",
       "      <th>EXP</th>\n",
       "      <td>11698</td>\n",
       "    </tr>\n",
       "    <tr>\n",
       "      <th>BAN</th>\n",
       "      <td>5046</td>\n",
       "    </tr>\n",
       "    <tr>\n",
       "      <th>OIG</th>\n",
       "      <td>4945</td>\n",
       "    </tr>\n",
       "    <tr>\n",
       "      <th>DAN</th>\n",
       "      <td>3778</td>\n",
       "    </tr>\n",
       "    <tr>\n",
       "      <th>CON</th>\n",
       "      <td>2781</td>\n",
       "    </tr>\n",
       "    <tr>\n",
       "      <th>SEG</th>\n",
       "      <td>2621</td>\n",
       "    </tr>\n",
       "    <tr>\n",
       "      <th>OIE</th>\n",
       "      <td>2037</td>\n",
       "    </tr>\n",
       "  </tbody>\n",
       "</table>\n",
       "</div>"
      ],
      "text/plain": [
       "                 LEI\n",
       "ROTULO_MANUAL       \n",
       "NONE           12213\n",
       "EXP            11698\n",
       "BAN             5046\n",
       "OIG             4945\n",
       "DAN             3778\n",
       "CON             2781\n",
       "SEG             2621\n",
       "OIE             2037"
      ]
     },
     "execution_count": 5,
     "metadata": {},
     "output_type": "execute_result"
    }
   ],
   "source": [
    "groupby_rotulo = df.groupby('ROTULO_MANUAL')\n",
    "\n",
    "groupby_rotulo[['LEI']].count().sort_values(['LEI'], ascending=False)"
   ]
  },
  {
   "cell_type": "code",
   "execution_count": 6,
   "metadata": {},
   "outputs": [
    {
     "data": {
      "text/plain": [
       "(45119, 3)"
      ]
     },
     "execution_count": 6,
     "metadata": {},
     "output_type": "execute_result"
    }
   ],
   "source": [
    "df.shape"
   ]
  },
  {
   "cell_type": "code",
   "execution_count": 7,
   "metadata": {},
   "outputs": [
    {
     "data": {
      "text/html": [
       "<div>\n",
       "<style scoped>\n",
       "    .dataframe tbody tr th:only-of-type {\n",
       "        vertical-align: middle;\n",
       "    }\n",
       "\n",
       "    .dataframe tbody tr th {\n",
       "        vertical-align: top;\n",
       "    }\n",
       "\n",
       "    .dataframe thead th {\n",
       "        text-align: right;\n",
       "    }\n",
       "</style>\n",
       "<table border=\"1\" class=\"dataframe\">\n",
       "  <thead>\n",
       "    <tr style=\"text-align: right;\">\n",
       "      <th>LEI</th>\n",
       "      <th>PROCESSO</th>\n",
       "      <th>ROTULO_MANUAL</th>\n",
       "      <th>1/1975</th>\n",
       "      <th>1/2012</th>\n",
       "      <th>100/2015</th>\n",
       "      <th>101/2010</th>\n",
       "      <th>10144/2002</th>\n",
       "      <th>10150/2000</th>\n",
       "      <th>1025/2009</th>\n",
       "      <th>10257/2001</th>\n",
       "      <th>...</th>\n",
       "      <th>artigo 974</th>\n",
       "      <th>artigo 975</th>\n",
       "      <th>artigo 977</th>\n",
       "      <th>artigo 98</th>\n",
       "      <th>artigo 982</th>\n",
       "      <th>artigo 988</th>\n",
       "      <th>artigo 99</th>\n",
       "      <th>artigo 991</th>\n",
       "      <th>artigo 996</th>\n",
       "      <th>artigo 998</th>\n",
       "    </tr>\n",
       "  </thead>\n",
       "  <tbody>\n",
       "    <tr>\n",
       "      <th>0</th>\n",
       "      <td>00000012120028240050</td>\n",
       "      <td>CON</td>\n",
       "      <td>0</td>\n",
       "      <td>0</td>\n",
       "      <td>0</td>\n",
       "      <td>0</td>\n",
       "      <td>0</td>\n",
       "      <td>0</td>\n",
       "      <td>0</td>\n",
       "      <td>0</td>\n",
       "      <td>...</td>\n",
       "      <td>0</td>\n",
       "      <td>0</td>\n",
       "      <td>0</td>\n",
       "      <td>0</td>\n",
       "      <td>0</td>\n",
       "      <td>0</td>\n",
       "      <td>0</td>\n",
       "      <td>0</td>\n",
       "      <td>0</td>\n",
       "      <td>0</td>\n",
       "    </tr>\n",
       "    <tr>\n",
       "      <th>1</th>\n",
       "      <td>00000032720118240033</td>\n",
       "      <td>CON</td>\n",
       "      <td>0</td>\n",
       "      <td>0</td>\n",
       "      <td>0</td>\n",
       "      <td>0</td>\n",
       "      <td>0</td>\n",
       "      <td>0</td>\n",
       "      <td>0</td>\n",
       "      <td>0</td>\n",
       "      <td>...</td>\n",
       "      <td>0</td>\n",
       "      <td>0</td>\n",
       "      <td>0</td>\n",
       "      <td>0</td>\n",
       "      <td>0</td>\n",
       "      <td>0</td>\n",
       "      <td>0</td>\n",
       "      <td>0</td>\n",
       "      <td>0</td>\n",
       "      <td>0</td>\n",
       "    </tr>\n",
       "    <tr>\n",
       "      <th>2</th>\n",
       "      <td>00000042920148240058</td>\n",
       "      <td>CON</td>\n",
       "      <td>0</td>\n",
       "      <td>0</td>\n",
       "      <td>0</td>\n",
       "      <td>0</td>\n",
       "      <td>0</td>\n",
       "      <td>0</td>\n",
       "      <td>0</td>\n",
       "      <td>0</td>\n",
       "      <td>...</td>\n",
       "      <td>0</td>\n",
       "      <td>0</td>\n",
       "      <td>0</td>\n",
       "      <td>0</td>\n",
       "      <td>0</td>\n",
       "      <td>0</td>\n",
       "      <td>0</td>\n",
       "      <td>0</td>\n",
       "      <td>0</td>\n",
       "      <td>0</td>\n",
       "    </tr>\n",
       "    <tr>\n",
       "      <th>3</th>\n",
       "      <td>00000057320168240242</td>\n",
       "      <td>NONE</td>\n",
       "      <td>0</td>\n",
       "      <td>0</td>\n",
       "      <td>0</td>\n",
       "      <td>0</td>\n",
       "      <td>0</td>\n",
       "      <td>0</td>\n",
       "      <td>0</td>\n",
       "      <td>0</td>\n",
       "      <td>...</td>\n",
       "      <td>0</td>\n",
       "      <td>0</td>\n",
       "      <td>0</td>\n",
       "      <td>0</td>\n",
       "      <td>0</td>\n",
       "      <td>0</td>\n",
       "      <td>0</td>\n",
       "      <td>0</td>\n",
       "      <td>0</td>\n",
       "      <td>0</td>\n",
       "    </tr>\n",
       "    <tr>\n",
       "      <th>4</th>\n",
       "      <td>00000110319958240053</td>\n",
       "      <td>NONE</td>\n",
       "      <td>0</td>\n",
       "      <td>0</td>\n",
       "      <td>0</td>\n",
       "      <td>0</td>\n",
       "      <td>0</td>\n",
       "      <td>0</td>\n",
       "      <td>0</td>\n",
       "      <td>0</td>\n",
       "      <td>...</td>\n",
       "      <td>0</td>\n",
       "      <td>0</td>\n",
       "      <td>0</td>\n",
       "      <td>0</td>\n",
       "      <td>0</td>\n",
       "      <td>0</td>\n",
       "      <td>0</td>\n",
       "      <td>0</td>\n",
       "      <td>0</td>\n",
       "      <td>0</td>\n",
       "    </tr>\n",
       "  </tbody>\n",
       "</table>\n",
       "<p>5 rows × 847 columns</p>\n",
       "</div>"
      ],
      "text/plain": [
       "LEI              PROCESSO ROTULO_MANUAL  1/1975  1/2012  100/2015  101/2010  \\\n",
       "0    00000012120028240050           CON       0       0         0         0   \n",
       "1    00000032720118240033           CON       0       0         0         0   \n",
       "2    00000042920148240058           CON       0       0         0         0   \n",
       "3    00000057320168240242          NONE       0       0         0         0   \n",
       "4    00000110319958240053          NONE       0       0         0         0   \n",
       "\n",
       "LEI  10144/2002  10150/2000  1025/2009  10257/2001     ...      artigo 974  \\\n",
       "0             0           0          0           0     ...               0   \n",
       "1             0           0          0           0     ...               0   \n",
       "2             0           0          0           0     ...               0   \n",
       "3             0           0          0           0     ...               0   \n",
       "4             0           0          0           0     ...               0   \n",
       "\n",
       "LEI  artigo 975  artigo 977  artigo 98  artigo 982  artigo 988  artigo 99  \\\n",
       "0             0           0          0           0           0          0   \n",
       "1             0           0          0           0           0          0   \n",
       "2             0           0          0           0           0          0   \n",
       "3             0           0          0           0           0          0   \n",
       "4             0           0          0           0           0          0   \n",
       "\n",
       "LEI  artigo 991  artigo 996  artigo 998  \n",
       "0             0           0           0  \n",
       "1             0           0           0  \n",
       "2             0           0           0  \n",
       "3             0           0           0  \n",
       "4             0           0           0  \n",
       "\n",
       "[5 rows x 847 columns]"
      ]
     },
     "execution_count": 7,
     "metadata": {},
     "output_type": "execute_result"
    }
   ],
   "source": [
    "data = df.groupby(['PROCESSO', 'ROTULO_MANUAL', 'LEI']).size().unstack('LEI', fill_value=0)\n",
    "data = data.reset_index()\n",
    "\n",
    "data.head()"
   ]
  },
  {
   "cell_type": "code",
   "execution_count": 8,
   "metadata": {},
   "outputs": [
    {
     "data": {
      "text/plain": [
       "(4568,)"
      ]
     },
     "execution_count": 8,
     "metadata": {},
     "output_type": "execute_result"
    }
   ],
   "source": [
    "y = data['ROTULO_MANUAL'].values\n",
    "y.shape"
   ]
  },
  {
   "cell_type": "code",
   "execution_count": 9,
   "metadata": {},
   "outputs": [
    {
     "data": {
      "text/html": [
       "<div>\n",
       "<style scoped>\n",
       "    .dataframe tbody tr th:only-of-type {\n",
       "        vertical-align: middle;\n",
       "    }\n",
       "\n",
       "    .dataframe tbody tr th {\n",
       "        vertical-align: top;\n",
       "    }\n",
       "\n",
       "    .dataframe thead th {\n",
       "        text-align: right;\n",
       "    }\n",
       "</style>\n",
       "<table border=\"1\" class=\"dataframe\">\n",
       "  <thead>\n",
       "    <tr style=\"text-align: right;\">\n",
       "      <th>LEI</th>\n",
       "      <th>1/1975</th>\n",
       "      <th>1/2012</th>\n",
       "      <th>100/2015</th>\n",
       "      <th>101/2010</th>\n",
       "      <th>10144/2002</th>\n",
       "      <th>10150/2000</th>\n",
       "      <th>1025/2009</th>\n",
       "      <th>10257/2001</th>\n",
       "      <th>104/1990</th>\n",
       "      <th>1060/1950</th>\n",
       "      <th>...</th>\n",
       "      <th>artigo 974</th>\n",
       "      <th>artigo 975</th>\n",
       "      <th>artigo 977</th>\n",
       "      <th>artigo 98</th>\n",
       "      <th>artigo 982</th>\n",
       "      <th>artigo 988</th>\n",
       "      <th>artigo 99</th>\n",
       "      <th>artigo 991</th>\n",
       "      <th>artigo 996</th>\n",
       "      <th>artigo 998</th>\n",
       "    </tr>\n",
       "  </thead>\n",
       "  <tbody>\n",
       "    <tr>\n",
       "      <th>0</th>\n",
       "      <td>0</td>\n",
       "      <td>0</td>\n",
       "      <td>0</td>\n",
       "      <td>0</td>\n",
       "      <td>0</td>\n",
       "      <td>0</td>\n",
       "      <td>0</td>\n",
       "      <td>0</td>\n",
       "      <td>0</td>\n",
       "      <td>0</td>\n",
       "      <td>...</td>\n",
       "      <td>0</td>\n",
       "      <td>0</td>\n",
       "      <td>0</td>\n",
       "      <td>0</td>\n",
       "      <td>0</td>\n",
       "      <td>0</td>\n",
       "      <td>0</td>\n",
       "      <td>0</td>\n",
       "      <td>0</td>\n",
       "      <td>0</td>\n",
       "    </tr>\n",
       "    <tr>\n",
       "      <th>1</th>\n",
       "      <td>0</td>\n",
       "      <td>0</td>\n",
       "      <td>0</td>\n",
       "      <td>0</td>\n",
       "      <td>0</td>\n",
       "      <td>0</td>\n",
       "      <td>0</td>\n",
       "      <td>0</td>\n",
       "      <td>0</td>\n",
       "      <td>0</td>\n",
       "      <td>...</td>\n",
       "      <td>0</td>\n",
       "      <td>0</td>\n",
       "      <td>0</td>\n",
       "      <td>0</td>\n",
       "      <td>0</td>\n",
       "      <td>0</td>\n",
       "      <td>0</td>\n",
       "      <td>0</td>\n",
       "      <td>0</td>\n",
       "      <td>0</td>\n",
       "    </tr>\n",
       "    <tr>\n",
       "      <th>2</th>\n",
       "      <td>0</td>\n",
       "      <td>0</td>\n",
       "      <td>0</td>\n",
       "      <td>0</td>\n",
       "      <td>0</td>\n",
       "      <td>0</td>\n",
       "      <td>0</td>\n",
       "      <td>0</td>\n",
       "      <td>0</td>\n",
       "      <td>0</td>\n",
       "      <td>...</td>\n",
       "      <td>0</td>\n",
       "      <td>0</td>\n",
       "      <td>0</td>\n",
       "      <td>0</td>\n",
       "      <td>0</td>\n",
       "      <td>0</td>\n",
       "      <td>0</td>\n",
       "      <td>0</td>\n",
       "      <td>0</td>\n",
       "      <td>0</td>\n",
       "    </tr>\n",
       "    <tr>\n",
       "      <th>3</th>\n",
       "      <td>0</td>\n",
       "      <td>0</td>\n",
       "      <td>0</td>\n",
       "      <td>0</td>\n",
       "      <td>0</td>\n",
       "      <td>0</td>\n",
       "      <td>0</td>\n",
       "      <td>0</td>\n",
       "      <td>0</td>\n",
       "      <td>0</td>\n",
       "      <td>...</td>\n",
       "      <td>0</td>\n",
       "      <td>0</td>\n",
       "      <td>0</td>\n",
       "      <td>0</td>\n",
       "      <td>0</td>\n",
       "      <td>0</td>\n",
       "      <td>0</td>\n",
       "      <td>0</td>\n",
       "      <td>0</td>\n",
       "      <td>0</td>\n",
       "    </tr>\n",
       "    <tr>\n",
       "      <th>4</th>\n",
       "      <td>0</td>\n",
       "      <td>0</td>\n",
       "      <td>0</td>\n",
       "      <td>0</td>\n",
       "      <td>0</td>\n",
       "      <td>0</td>\n",
       "      <td>0</td>\n",
       "      <td>0</td>\n",
       "      <td>0</td>\n",
       "      <td>0</td>\n",
       "      <td>...</td>\n",
       "      <td>0</td>\n",
       "      <td>0</td>\n",
       "      <td>0</td>\n",
       "      <td>0</td>\n",
       "      <td>0</td>\n",
       "      <td>0</td>\n",
       "      <td>0</td>\n",
       "      <td>0</td>\n",
       "      <td>0</td>\n",
       "      <td>0</td>\n",
       "    </tr>\n",
       "  </tbody>\n",
       "</table>\n",
       "<p>5 rows × 845 columns</p>\n",
       "</div>"
      ],
      "text/plain": [
       "LEI  1/1975  1/2012  100/2015  101/2010  10144/2002  10150/2000  1025/2009  \\\n",
       "0         0       0         0         0           0           0          0   \n",
       "1         0       0         0         0           0           0          0   \n",
       "2         0       0         0         0           0           0          0   \n",
       "3         0       0         0         0           0           0          0   \n",
       "4         0       0         0         0           0           0          0   \n",
       "\n",
       "LEI  10257/2001  104/1990  1060/1950     ...      artigo 974  artigo 975  \\\n",
       "0             0         0          0     ...               0           0   \n",
       "1             0         0          0     ...               0           0   \n",
       "2             0         0          0     ...               0           0   \n",
       "3             0         0          0     ...               0           0   \n",
       "4             0         0          0     ...               0           0   \n",
       "\n",
       "LEI  artigo 977  artigo 98  artigo 982  artigo 988  artigo 99  artigo 991  \\\n",
       "0             0          0           0           0          0           0   \n",
       "1             0          0           0           0          0           0   \n",
       "2             0          0           0           0          0           0   \n",
       "3             0          0           0           0          0           0   \n",
       "4             0          0           0           0          0           0   \n",
       "\n",
       "LEI  artigo 996  artigo 998  \n",
       "0             0           0  \n",
       "1             0           0  \n",
       "2             0           0  \n",
       "3             0           0  \n",
       "4             0           0  \n",
       "\n",
       "[5 rows x 845 columns]"
      ]
     },
     "execution_count": 9,
     "metadata": {},
     "output_type": "execute_result"
    }
   ],
   "source": [
    "df1 = data.iloc[:,2:].copy()\n",
    "df1.head()"
   ]
  },
  {
   "cell_type": "code",
   "execution_count": 10,
   "metadata": {},
   "outputs": [
    {
     "data": {
      "text/plain": [
       "(4568, 845)"
      ]
     },
     "execution_count": 10,
     "metadata": {},
     "output_type": "execute_result"
    }
   ],
   "source": [
    "x = df1.values\n",
    "x.shape"
   ]
  },
  {
   "cell_type": "code",
   "execution_count": 11,
   "metadata": {},
   "outputs": [
    {
     "name": "stdout",
     "output_type": "stream",
     "text": [
      "Counter({'NONE': 1037, 'EXP': 473, 'OIG': 389, 'BAN': 389, 'SEG': 306, 'OIE': 293, 'DAN': 278, 'CON': 261})\n",
      "Counter({'NONE': 381, 'OIG': 155, 'EXP': 147, 'BAN': 130, 'SEG': 88, 'CON': 87, 'DAN': 82, 'OIE': 72})\n"
     ]
    }
   ],
   "source": [
    "from sklearn.model_selection import train_test_split\n",
    "\n",
    "x_train, x_test, y_train, y_test = train_test_split(x, y)\n",
    "\n",
    "import collections\n",
    "\n",
    "print(collections.Counter(y_train))\n",
    "print(collections.Counter(y_test))"
   ]
  },
  {
   "cell_type": "code",
   "execution_count": 12,
   "metadata": {},
   "outputs": [
    {
     "data": {
      "text/plain": [
       "Pipeline(memory=None,\n",
       "     steps=[('clf', DecisionTreeClassifier(class_weight=None, criterion='gini', max_depth=None,\n",
       "            max_features=None, max_leaf_nodes=None,\n",
       "            min_impurity_decrease=0.0, min_impurity_split=None,\n",
       "            min_samples_leaf=1, min_samples_split=2,\n",
       "            min_weight_fraction_leaf=0.0, presort=False, random_state=None,\n",
       "            splitter='best'))])"
      ]
     },
     "execution_count": 12,
     "metadata": {},
     "output_type": "execute_result"
    }
   ],
   "source": [
    "from sklearn.pipeline import Pipeline\n",
    "from sklearn.preprocessing import OneHotEncoder\n",
    "\n",
    "from sklearn.tree import DecisionTreeClassifier\n",
    "clf = DecisionTreeClassifier()\n",
    "\n",
    "text_clf = Pipeline([\n",
    "    ('clf', clf)\n",
    "])\n",
    "\n",
    "text_clf.fit(x , y)"
   ]
  },
  {
   "cell_type": "markdown",
   "metadata": {},
   "source": [
    "Testando o modelo."
   ]
  },
  {
   "cell_type": "code",
   "execution_count": 13,
   "metadata": {},
   "outputs": [
    {
     "data": {
      "text/plain": [
       "0.851138353765324"
      ]
     },
     "execution_count": 13,
     "metadata": {},
     "output_type": "execute_result"
    }
   ],
   "source": [
    "y_pred = text_clf.predict(x_test)\n",
    "\n",
    "from sklearn.metrics import accuracy_score\n",
    "accuracy = accuracy_score(y_test, y_pred)\n",
    "\n",
    "accuracy"
   ]
  },
  {
   "cell_type": "code",
   "execution_count": 14,
   "metadata": {},
   "outputs": [],
   "source": [
    "experiment.log_metric(\"accuracy\", accuracy)"
   ]
  },
  {
   "cell_type": "code",
   "execution_count": 21,
   "metadata": {},
   "outputs": [],
   "source": [
    "from sklearn import metrics\n",
    "\n",
    "metrics_dict = {}\n",
    "\n",
    "for label in result.keys():\n",
    "    for metric in result[label].keys():\n",
    "        metrics_dict[label + '-' + metric] = str(result[label][metric])\n",
    "\n",
    "experiment.log_metrics(metrics_dict)"
   ]
  },
  {
   "cell_type": "code",
   "execution_count": 22,
   "metadata": {},
   "outputs": [
    {
     "name": "stdout",
     "output_type": "stream",
     "text": [
      "              precision    recall  f1-score   support\n",
      "\n",
      "         BAN       0.85      0.81      0.83       130\n",
      "         CON       0.91      0.77      0.83        87\n",
      "         DAN       0.87      0.73      0.79        82\n",
      "         EXP       0.89      0.93      0.91       147\n",
      "        NONE       0.77      0.94      0.85       381\n",
      "         OIE       0.95      0.53      0.68        72\n",
      "         OIG       0.93      0.90      0.92       155\n",
      "         SEG       0.97      0.75      0.85        88\n",
      "\n",
      "   micro avg       0.85      0.85      0.85      1142\n",
      "   macro avg       0.89      0.80      0.83      1142\n",
      "weighted avg       0.86      0.85      0.85      1142\n",
      "\n"
     ]
    }
   ],
   "source": [
    "from sklearn import metrics\n",
    "\n",
    "print(metrics.classification_report(y_test, y_pred))"
   ]
  },
  {
   "cell_type": "code",
   "execution_count": 23,
   "metadata": {},
   "outputs": [],
   "source": [
    "from sklearn.metrics import confusion_matrix\n",
    "\n",
    "cnf_matrix = confusion_matrix(y_test, y_pred)"
   ]
  },
  {
   "cell_type": "code",
   "execution_count": 25,
   "metadata": {},
   "outputs": [
    {
     "data": {
      "text/plain": [
       "<matplotlib.axes._subplots.AxesSubplot at 0x7f3265f79e48>"
      ]
     },
     "execution_count": 25,
     "metadata": {},
     "output_type": "execute_result"
    },
    {
     "data": {
      "image/png": "[encoded data removed]",
      "text/plain": [
       "<Figure size 720x504 with 2 Axes>"
      ]
     },
     "metadata": {},
     "output_type": "display_data"
    }
   ],
   "source": [
    "import seaborn as sn\n",
    "import pandas as pd\n",
    "import matplotlib.pyplot as plt\n",
    "\n",
    "labels = set(y_test)\n",
    "      \n",
    "df_cm = pd.DataFrame(cnf_matrix, range(len(labels)), range(len(labels)))\n",
    "plt.figure(figsize = (10,7))\n",
    "sn.set(font_scale=1.4)\n",
    "sn.heatmap(df_cm, xticklabels=labels, yticklabels=labels, annot=True, fmt='g', annot_kws={\"size\": 16})"
   ]
  },
  {
   "cell_type": "code",
   "execution_count": 26,
   "metadata": {},
   "outputs": [
    {
     "data": {
      "text/plain": [
       "845"
      ]
     },
     "execution_count": 26,
     "metadata": {},
     "output_type": "execute_result"
    }
   ],
   "source": [
    "features = list(data.columns.values)\n",
    "del features[0:2]\n",
    "\n",
    "len(features)"
   ]
  },
  {
   "cell_type": "code",
   "execution_count": 27,
   "metadata": {},
   "outputs": [
    {
     "data": {
      "text/html": [
       "<div>\n",
       "<style scoped>\n",
       "    .dataframe tbody tr th:only-of-type {\n",
       "        vertical-align: middle;\n",
       "    }\n",
       "\n",
       "    .dataframe tbody tr th {\n",
       "        vertical-align: top;\n",
       "    }\n",
       "\n",
       "    .dataframe thead th {\n",
       "        text-align: right;\n",
       "    }\n",
       "</style>\n",
       "<table border=\"1\" class=\"dataframe\">\n",
       "  <thead>\n",
       "    <tr style=\"text-align: right;\">\n",
       "      <th></th>\n",
       "      <th>1/1975</th>\n",
       "      <th>1/2012</th>\n",
       "      <th>100/2015</th>\n",
       "      <th>101/2010</th>\n",
       "      <th>10144/2002</th>\n",
       "      <th>10150/2000</th>\n",
       "      <th>1025/2009</th>\n",
       "      <th>10257/2001</th>\n",
       "      <th>104/1990</th>\n",
       "      <th>1060/1950</th>\n",
       "      <th>...</th>\n",
       "      <th>artigo 974</th>\n",
       "      <th>artigo 975</th>\n",
       "      <th>artigo 977</th>\n",
       "      <th>artigo 98</th>\n",
       "      <th>artigo 982</th>\n",
       "      <th>artigo 988</th>\n",
       "      <th>artigo 99</th>\n",
       "      <th>artigo 991</th>\n",
       "      <th>artigo 996</th>\n",
       "      <th>artigo 998</th>\n",
       "    </tr>\n",
       "  </thead>\n",
       "  <tbody>\n",
       "    <tr>\n",
       "      <th>0</th>\n",
       "      <td>0.0</td>\n",
       "      <td>0.0</td>\n",
       "      <td>0.0</td>\n",
       "      <td>0.0</td>\n",
       "      <td>0.0</td>\n",
       "      <td>0.0</td>\n",
       "      <td>0.0</td>\n",
       "      <td>0.0</td>\n",
       "      <td>0.0</td>\n",
       "      <td>0.0</td>\n",
       "      <td>...</td>\n",
       "      <td>0.0</td>\n",
       "      <td>0.0</td>\n",
       "      <td>0.0</td>\n",
       "      <td>0.0</td>\n",
       "      <td>0.0</td>\n",
       "      <td>0.0</td>\n",
       "      <td>0.0</td>\n",
       "      <td>0.0</td>\n",
       "      <td>0.0</td>\n",
       "      <td>0.0</td>\n",
       "    </tr>\n",
       "  </tbody>\n",
       "</table>\n",
       "<p>1 rows × 845 columns</p>\n",
       "</div>"
      ],
      "text/plain": [
       "   1/1975  1/2012  100/2015  101/2010  10144/2002  10150/2000  1025/2009  \\\n",
       "0     0.0     0.0       0.0       0.0         0.0         0.0        0.0   \n",
       "\n",
       "   10257/2001  104/1990  1060/1950     ...      artigo 974  artigo 975  \\\n",
       "0         0.0       0.0        0.0     ...             0.0         0.0   \n",
       "\n",
       "   artigo 977  artigo 98  artigo 982  artigo 988  artigo 99  artigo 991  \\\n",
       "0         0.0        0.0         0.0         0.0        0.0         0.0   \n",
       "\n",
       "   artigo 996  artigo 998  \n",
       "0         0.0         0.0  \n",
       "\n",
       "[1 rows x 845 columns]"
      ]
     },
     "execution_count": 27,
     "metadata": {},
     "output_type": "execute_result"
    }
   ],
   "source": [
    "df_sample = pd.DataFrame(columns=features)\n",
    "df_sample = df_sample.append({'artigo 1018': 1}, ignore_index=True)\n",
    "df_sample = df_sample.fillna(0)\n",
    "\n",
    "df_sample"
   ]
  },
  {
   "cell_type": "code",
   "execution_count": 28,
   "metadata": {},
   "outputs": [
    {
     "data": {
      "text/plain": [
       "array(['EXP'], dtype=object)"
      ]
     },
     "execution_count": 28,
     "metadata": {},
     "output_type": "execute_result"
    }
   ],
   "source": [
    "y_pred = text_clf.predict(df_sample)\n",
    "\n",
    "y_pred"
   ]
  },
  {
   "cell_type": "code",
   "execution_count": 29,
   "metadata": {},
   "outputs": [
    {
     "data": {
      "text/plain": [
       "['../modelos/Modelo-Leis.pkl']"
      ]
     },
     "execution_count": 29,
     "metadata": {},
     "output_type": "execute_result"
    }
   ],
   "source": [
    "from sklearn.externals import joblib\n",
    "\n",
    "joblib.dump(features, '../modelos/Features-Leis.pkl', compress = 1)\n",
    "joblib.dump(clf, '../modelos/Modelo-Leis.pkl', compress = 1) "
   ]
  },
  {
   "cell_type": "code",
   "execution_count": 30,
   "metadata": {},
   "outputs": [
    {
     "data": {
      "text/plain": [
       "{'web': 'https://www.comet.ml/api/asset/download?assetId=f634213a064340139bc4dfeb2f7d9ae3&experimentKey=f9f1a933590a4ef786b36f8ccb67fd30',\n",
       " 'api': 'https://www.comet.ml/api/rest/v1/asset/get-asset?assetId=f634213a064340139bc4dfeb2f7d9ae3&experimentKey=f9f1a933590a4ef786b36f8ccb67fd30'}"
      ]
     },
     "execution_count": 30,
     "metadata": {},
     "output_type": "execute_result"
    }
   ],
   "source": [
    "experiment.log_asset('../modelos/Features-Leis.pkl')\n",
    "experiment.log_asset('../modelos/Modelo-Leis.pkl')"
   ]
  },
  {
   "cell_type": "code",
   "execution_count": 31,
   "metadata": {},
   "outputs": [
    {
     "name": "stderr",
     "output_type": "stream",
     "text": [
      "COMET INFO: ----------------------------\n",
      "COMET INFO: Comet.ml Experiment Summary:\n",
      "COMET INFO:   Data:\n",
      "COMET INFO:     url: https://www.comet.ml/piantino/igti-projeto-aplicado-leis/f9f1a933590a4ef786b36f8ccb67fd30\n",
      "COMET INFO:   Metrics:\n",
      "COMET INFO:                        BAN: {'precision': 0.8536585365853658, 'recall': 0.8076923076923077, 'f1-score': 0.8300395256916996, 'support': 130}\n",
      "COMET INFO:               BAN-f1-score: 0.8300395256916996\n",
      "COMET INFO:              BAN-precision: 0.8536585365853658\n",
      "COMET INFO:                 BAN-recall: 0.8076923076923077\n",
      "COMET INFO:                BAN-support: 130\n",
      "COMET INFO:                        CON: {'precision': 0.9054054054054054, 'recall': 0.7701149425287356, 'f1-score': 0.8322981366459626, 'support': 87}\n",
      "COMET INFO:               CON-f1-score: 0.8322981366459626\n",
      "COMET INFO:              CON-precision: 0.9054054054054054\n",
      "COMET INFO:                 CON-recall: 0.7701149425287356\n",
      "COMET INFO:                CON-support: 87\n",
      "COMET INFO:                        DAN: {'precision': 0.8695652173913043, 'recall': 0.7317073170731707, 'f1-score': 0.7947019867549668, 'support': 82}\n",
      "COMET INFO:               DAN-f1-score: 0.7947019867549668\n",
      "COMET INFO:              DAN-precision: 0.8695652173913043\n",
      "COMET INFO:                 DAN-recall: 0.7317073170731707\n",
      "COMET INFO:                DAN-support: 82\n",
      "COMET INFO:                        EXP: {'precision': 0.8947368421052632, 'recall': 0.9251700680272109, 'f1-score': 0.9096989966555183, 'support': 147}\n",
      "COMET INFO:               EXP-f1-score: 0.9096989966555183\n",
      "COMET INFO:              EXP-precision: 0.8947368421052632\n",
      "COMET INFO:                 EXP-recall: 0.9251700680272109\n",
      "COMET INFO:                EXP-support: 147\n",
      "COMET INFO:                       NONE: {'precision': 0.7725321888412017, 'recall': 0.9448818897637795, 'f1-score': 0.8500590318772137, 'support': 381}\n",
      "COMET INFO:              NONE-f1-score: 0.8500590318772137\n",
      "COMET INFO:             NONE-precision: 0.7725321888412017\n",
      "COMET INFO:                NONE-recall: 0.9448818897637795\n",
      "COMET INFO:               NONE-support: 381\n",
      "COMET INFO:                        OIE: {'precision': 0.95, 'recall': 0.5277777777777778, 'f1-score': 0.6785714285714285, 'support': 72}\n",
      "COMET INFO:               OIE-f1-score: 0.6785714285714285\n",
      "COMET INFO:              OIE-precision: 0.95\n",
      "COMET INFO:                 OIE-recall: 0.5277777777777778\n",
      "COMET INFO:                OIE-support: 72\n",
      "COMET INFO:                        OIG: {'precision': 0.9333333333333333, 'recall': 0.9032258064516129, 'f1-score': 0.9180327868852459, 'support': 155}\n",
      "COMET INFO:               OIG-f1-score: 0.9180327868852459\n",
      "COMET INFO:              OIG-precision: 0.9333333333333333\n",
      "COMET INFO:                 OIG-recall: 0.9032258064516129\n",
      "COMET INFO:                OIG-support: 155\n",
      "COMET INFO:                        SEG: {'precision': 0.9705882352941176, 'recall': 0.75, 'f1-score': 0.846153846153846, 'support': 88}\n",
      "COMET INFO:               SEG-f1-score: 0.846153846153846\n",
      "COMET INFO:              SEG-precision: 0.9705882352941176\n",
      "COMET INFO:                 SEG-recall: 0.75\n",
      "COMET INFO:                SEG-support: 88\n",
      "COMET INFO:                   accuracy: 0.851138353765324\n",
      "COMET INFO:                  macro avg: {'precision': 0.8937274698694988, 'recall': 0.7950712636643245, 'f1-score': 0.8324444674044851, 'support': 1142}\n",
      "COMET INFO:         macro avg-f1-score: 0.8324444674044851\n",
      "COMET INFO:        macro avg-precision: 0.8937274698694988\n",
      "COMET INFO:           macro avg-recall: 0.7950712636643245\n",
      "COMET INFO:          macro avg-support: 1142\n",
      "COMET INFO:                  micro avg: {'precision': 0.851138353765324, 'recall': 0.851138353765324, 'f1-score': 0.851138353765324, 'support': 1142}\n",
      "COMET INFO:         micro avg-f1-score: 0.851138353765324\n",
      "COMET INFO:        micro avg-precision: 0.851138353765324\n",
      "COMET INFO:           micro avg-recall: 0.851138353765324\n",
      "COMET INFO:          micro avg-support: 1142\n",
      "COMET INFO:               weighted avg: {'precision': 0.8628631689693305, 'recall': 0.851138353765324, 'f1-score': 0.8482422470065683, 'support': 1142}\n",
      "COMET INFO:      weighted avg-f1-score: 0.8482422470065683\n",
      "COMET INFO:     weighted avg-precision: 0.8628631689693305\n",
      "COMET INFO:        weighted avg-recall: 0.851138353765324\n",
      "COMET INFO:       weighted avg-support: 1142\n",
      "COMET INFO:   Uploads:\n",
      "COMET INFO:      assets: 2\n",
      "COMET INFO:     figures: 0\n",
      "COMET INFO:      images: 0\n",
      "COMET INFO: ----------------------------\n",
      "COMET INFO: Uploading stats to Comet before program termination (may take several seconds)\n"
     ]
    }
   ],
   "source": [
    "experiment.end()"
   ]
  }
 ],
 "metadata": {
  "kernelspec": {
   "display_name": "Python 3",
   "language": "python",
   "name": "python3"
  },
  "language_info": {
   "codemirror_mode": {
    "name": "ipython",
    "version": 3
   },
   "file_extension": ".py",
   "mimetype": "text/x-python",
   "name": "python",
   "nbconvert_exporter": "python",
   "pygments_lexer": "ipython3",
   "version": "3.6.5"
  }
 },
 "nbformat": 4,
 "nbformat_minor": 2
}
