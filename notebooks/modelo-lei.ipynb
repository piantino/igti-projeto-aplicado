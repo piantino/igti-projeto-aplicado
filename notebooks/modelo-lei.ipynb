{
 "cells": [
  {
   "cell_type": "code",
   "execution_count": 1,
   "metadata": {},
   "outputs": [],
   "source": [
    "import pandas as pd\n",
    "\n",
    "colunas = ['ROTULO_MANUAL', 'LEI']\n",
    "\n",
    "df = pd.read_csv('../data/leis.csv', header=0, sep=',', quotechar='\"', usecols=colunas)"
   ]
  },
  {
   "cell_type": "markdown",
   "metadata": {},
   "source": [
    "Utitiza apenas label que contenham mais de 200 exemplos."
   ]
  },
  {
   "cell_type": "code",
   "execution_count": 2,
   "metadata": {},
   "outputs": [],
   "source": [
    "import numpy as np\n",
    "\n",
    "tipos = ['AGR', 'EXP', 'BAN', 'OIG', 'DAN', 'SEG', 'CON', 'OIE', 'RAI', 'SFH', 'TIT', 'BUS', 'DMI']"
   ]
  },
  {
   "cell_type": "code",
   "execution_count": 3,
   "metadata": {},
   "outputs": [
    {
     "data": {
      "text/plain": [
       "(5197, 2)"
      ]
     },
     "execution_count": 3,
     "metadata": {},
     "output_type": "execute_result"
    }
   ],
   "source": [
    "df.shape"
   ]
  },
  {
   "cell_type": "code",
   "execution_count": 4,
   "metadata": {},
   "outputs": [
    {
     "data": {
      "text/html": [
       "<div>\n",
       "<style scoped>\n",
       "    .dataframe tbody tr th:only-of-type {\n",
       "        vertical-align: middle;\n",
       "    }\n",
       "\n",
       "    .dataframe tbody tr th {\n",
       "        vertical-align: top;\n",
       "    }\n",
       "\n",
       "    .dataframe thead th {\n",
       "        text-align: right;\n",
       "    }\n",
       "</style>\n",
       "<table border=\"1\" class=\"dataframe\">\n",
       "  <thead>\n",
       "    <tr style=\"text-align: right;\">\n",
       "      <th></th>\n",
       "      <th>ROTULO_MANUAL</th>\n",
       "      <th>LEI</th>\n",
       "    </tr>\n",
       "  </thead>\n",
       "  <tbody>\n",
       "    <tr>\n",
       "      <th>0</th>\n",
       "      <td>CDC</td>\n",
       "      <td>9656/1998</td>\n",
       "    </tr>\n",
       "    <tr>\n",
       "      <th>1</th>\n",
       "      <td>CDC</td>\n",
       "      <td>616/2012</td>\n",
       "    </tr>\n",
       "    <tr>\n",
       "      <th>2</th>\n",
       "      <td>CDC</td>\n",
       "      <td>9656/1998</td>\n",
       "    </tr>\n",
       "    <tr>\n",
       "      <th>3</th>\n",
       "      <td>CDC</td>\n",
       "      <td>616/2012</td>\n",
       "    </tr>\n",
       "    <tr>\n",
       "      <th>4</th>\n",
       "      <td>CDC</td>\n",
       "      <td>9656/1998</td>\n",
       "    </tr>\n",
       "  </tbody>\n",
       "</table>\n",
       "</div>"
      ],
      "text/plain": [
       "  ROTULO_MANUAL        LEI\n",
       "0           CDC  9656/1998\n",
       "1           CDC   616/2012\n",
       "2           CDC  9656/1998\n",
       "3           CDC   616/2012\n",
       "4           CDC  9656/1998"
      ]
     },
     "execution_count": 4,
     "metadata": {},
     "output_type": "execute_result"
    }
   ],
   "source": [
    "df.head()"
   ]
  },
  {
   "cell_type": "code",
   "execution_count": 5,
   "metadata": {},
   "outputs": [
    {
     "data": {
      "text/plain": [
       "array(['CDC', 'CDC', 'CDC', ..., 'SFH', 'SFH', 'SFH'], dtype=object)"
      ]
     },
     "execution_count": 5,
     "metadata": {},
     "output_type": "execute_result"
    }
   ],
   "source": [
    "y = df['ROTULO_MANUAL'].values\n",
    "y"
   ]
  },
  {
   "cell_type": "code",
   "execution_count": 6,
   "metadata": {},
   "outputs": [
    {
     "data": {
      "text/plain": [
       "array(['9656/1998', '616/2012', '9656/1998', ..., '13000/2014',\n",
       "       '13000/2014', '13000/2014'], dtype=object)"
      ]
     },
     "execution_count": 6,
     "metadata": {},
     "output_type": "execute_result"
    }
   ],
   "source": [
    "x = df['LEI'].values\n",
    "x"
   ]
  },
  {
   "cell_type": "code",
   "execution_count": 7,
   "metadata": {},
   "outputs": [
    {
     "name": "stdout",
     "output_type": "stream",
     "text": [
      "Counter({'EXP': 677, 'SEG': 606, 'OIG': 498, 'BAN': 498, 'BUS': 264, 'FAL': 202, 'CON': 201, 'SFH': 148, 'CDC': 135, 'RAI': 102, 'DAN': 84, 'DPV': 75, 'PRE': 72, 'TIT': 55, 'COM': 55, 'OIE': 36, 'FAM': 33, 'DMI': 33, 'SOC': 30, 'AUT': 27, 'SUC': 18, 'RESCO': 16, 'MAR': 15, 'CIV': 10, 'POS': 4, 'INF': 2, 'REG': 1})\n",
      "Counter({'EXP': 228, 'SEG': 197, 'OIG': 196, 'BAN': 156, 'BUS': 70, 'SFH': 62, 'FAL': 59, 'CON': 56, 'CDC': 51, 'RAI': 34, 'DAN': 27, 'DPV': 25, 'TIT': 22, 'PRE': 19, 'COM': 18, 'DMI': 15, 'AUT': 13, 'FAM': 12, 'OIE': 9, 'SOC': 8, 'MAR': 6, 'RESCO': 5, 'POS': 4, 'SUC': 4, 'CIV': 3, 'INF': 1})\n"
     ]
    }
   ],
   "source": [
    "from sklearn.model_selection import train_test_split\n",
    "\n",
    "x_train, x_test, y_train, y_test = train_test_split(x, y)\n",
    "\n",
    "import collections\n",
    "\n",
    "print(collections.Counter(y_train))\n",
    "print(collections.Counter(y_test))"
   ]
  },
  {
   "cell_type": "code",
   "execution_count": 8,
   "metadata": {},
   "outputs": [
    {
     "data": {
      "text/plain": [
       "array([['9656/1998'],\n",
       "       ['616/2012'],\n",
       "       ['9656/1998'],\n",
       "       ...,\n",
       "       ['13000/2014'],\n",
       "       ['13000/2014'],\n",
       "       ['13000/2014']], dtype=object)"
      ]
     },
     "execution_count": 8,
     "metadata": {},
     "output_type": "execute_result"
    }
   ],
   "source": [
    "x.reshape(-1, 1)"
   ]
  },
  {
   "cell_type": "code",
   "execution_count": 9,
   "metadata": {},
   "outputs": [
    {
     "data": {
      "text/plain": [
       "Pipeline(memory=None,\n",
       "     steps=[('enc', OneHotEncoder(categorical_features=None, categories=None,\n",
       "       dtype=<class 'numpy.float64'>, handle_unknown='ignore',\n",
       "       n_values=None, sparse=True)), ('clf', DecisionTreeClassifier(class_weight=None, criterion='gini', max_depth=None,\n",
       "            max_features=None, max_leaf_nod...      min_weight_fraction_leaf=0.0, presort=False, random_state=None,\n",
       "            splitter='best'))])"
      ]
     },
     "execution_count": 9,
     "metadata": {},
     "output_type": "execute_result"
    }
   ],
   "source": [
    "from sklearn.pipeline import Pipeline\n",
    "from sklearn.preprocessing import LabelEncoder \n",
    "from sklearn import tree\n",
    "from sklearn.preprocessing import OneHotEncoder\n",
    "\n",
    "enc = OneHotEncoder(handle_unknown='ignore')\n",
    "\n",
    "clf = tree.DecisionTreeClassifier()\n",
    "\n",
    "text_clf = Pipeline([\n",
    "    ('enc', enc),\n",
    "    ('clf', clf)\n",
    "])\n",
    "\n",
    "\n",
    "text_clf.fit(x.reshape(-1, 1) , y)"
   ]
  },
  {
   "cell_type": "code",
   "execution_count": 10,
   "metadata": {},
   "outputs": [],
   "source": [
    "y_pred = text_clf.predict(x_test.reshape(-1, 1))\n",
    "\n",
    "# Accuracy \n",
    "from sklearn.metrics import accuracy_score\n",
    "accuracy = accuracy_score(y_test, y_pred)"
   ]
  },
  {
   "cell_type": "code",
   "execution_count": 11,
   "metadata": {},
   "outputs": [
    {
     "data": {
      "text/plain": [
       "0.84"
      ]
     },
     "execution_count": 11,
     "metadata": {},
     "output_type": "execute_result"
    }
   ],
   "source": [
    "accuracy"
   ]
  },
  {
   "cell_type": "code",
   "execution_count": 12,
   "metadata": {},
   "outputs": [
    {
     "data": {
      "text/plain": [
       "array([[ 13,   0,   0,   0,   0,   0,   0,   0,   0,   0,   0,   0,   0,\n",
       "          0,   0,   0,   0,   0,   0,   0,   0,   0,   0,   0,   0,   0],\n",
       "       [  0, 134,   3,   0,   0,   0,   5,   0,   0,   0,   7,   1,   0,\n",
       "          0,   0,   0,   2,   0,   0,   1,   0,   2,   0,   0,   0,   1],\n",
       "       [  0,  13,  51,   0,   0,   0,   3,   0,   0,   0,   2,   0,   0,\n",
       "          0,   1,   0,   0,   0,   0,   0,   0,   0,   0,   0,   0,   0],\n",
       "       [  0,   3,   0,  46,   0,   0,   0,   0,   1,   0,   0,   0,   0,\n",
       "          0,   0,   0,   0,   0,   0,   0,   0,   1,   0,   0,   0,   0],\n",
       "       [  3,   0,   0,   0,   0,   0,   0,   0,   0,   0,   0,   0,   0,\n",
       "          0,   0,   0,   0,   0,   0,   0,   0,   0,   0,   0,   0,   0],\n",
       "       [  0,   5,   0,   0,   0,   6,   0,   0,   0,   0,   2,   0,   0,\n",
       "          0,   0,   0,   0,   0,   0,   4,   0,   0,   0,   0,   0,   1],\n",
       "       [  0,   6,   1,   8,   0,   1,  31,   0,   0,   0,   0,   1,   0,\n",
       "          0,   0,   0,   0,   0,   0,   2,   0,   5,   0,   1,   0,   0],\n",
       "       [  1,  12,   0,   1,   0,   0,   0,  10,   0,   0,   1,   2,   0,\n",
       "          0,   0,   0,   0,   0,   0,   0,   0,   0,   0,   0,   0,   0],\n",
       "       [  0,   6,   0,   0,   0,   0,   0,   1,   4,   3,   1,   0,   0,\n",
       "          0,   0,   0,   0,   0,   0,   0,   0,   0,   0,   0,   0,   0],\n",
       "       [  0,   1,   2,   0,   0,   0,   0,   0,   0,  22,   0,   0,   0,\n",
       "          0,   0,   0,   0,   0,   0,   0,   0,   0,   0,   0,   0,   0],\n",
       "       [  0,   1,   0,   0,   0,   0,   0,   0,   0,   0, 226,   0,   0,\n",
       "          0,   0,   0,   0,   0,   0,   0,   0,   0,   1,   0,   0,   0],\n",
       "       [  0,   2,   0,   0,   0,   0,   0,   0,   0,   0,   0,  57,   0,\n",
       "          0,   0,   0,   0,   0,   0,   0,   0,   0,   0,   0,   0,   0],\n",
       "       [  0,   1,   0,   0,   0,   1,   1,   0,   0,   0,   0,   0,   5,\n",
       "          0,   0,   0,   0,   0,   0,   0,   0,   4,   0,   0,   0,   0],\n",
       "       [  0,   0,   0,   0,   0,   0,   1,   0,   0,   0,   0,   0,   0,\n",
       "          0,   0,   0,   0,   0,   0,   0,   0,   0,   0,   0,   0,   0],\n",
       "       [  0,   0,   0,   0,   0,   0,   0,   0,   0,   0,   0,   0,   0,\n",
       "          0,   6,   0,   0,   0,   0,   0,   0,   0,   0,   0,   0,   0],\n",
       "       [  0,   0,   0,   0,   0,   0,   0,   0,   0,   0,   1,   3,   0,\n",
       "          0,   0,   2,   3,   0,   0,   0,   0,   0,   0,   0,   0,   0],\n",
       "       [  0,  19,   0,   0,   0,   0,   0,   0,   0,   0,   0,   0,   0,\n",
       "          0,   0,   0, 175,   0,   0,   1,   0,   1,   0,   0,   0,   0],\n",
       "       [  0,   0,   0,   1,   0,   0,   0,   0,   0,   0,   0,   0,   0,\n",
       "          0,   0,   0,   0,   3,   0,   0,   0,   0,   0,   0,   0,   0],\n",
       "       [  0,   0,   0,   0,   0,   0,   0,   0,   0,   0,   0,   0,   0,\n",
       "          0,   0,   0,   0,   0,  18,   0,   0,   1,   0,   0,   0,   0],\n",
       "       [  0,   8,   1,   2,   0,   0,   2,   0,   0,   0,   0,   2,   0,\n",
       "          0,   0,   0,   1,   0,   0,  15,   0,   2,   0,   1,   0,   0],\n",
       "       [  0,   2,   0,   0,   0,   0,   0,   0,   0,   0,   0,   0,   0,\n",
       "          0,   0,   0,   0,   0,   0,   0,   0,   3,   0,   0,   0,   0],\n",
       "       [  0,   1,   0,   0,   0,   0,   0,   0,   0,   1,   0,   0,   0,\n",
       "          0,   0,   0,   2,   0,   1,   1,   0, 188,   3,   0,   0,   0],\n",
       "       [  0,   7,   0,   0,   0,   0,   0,   0,   0,   0,   0,   0,   0,\n",
       "          0,   0,   0,   0,   0,   0,   0,   0,   2,  53,   0,   0,   0],\n",
       "       [  0,   0,   0,   0,   0,   0,   0,   0,   0,   0,   0,   0,   0,\n",
       "          0,   0,   0,   0,   0,   0,   0,   0,   0,   0,   8,   0,   0],\n",
       "       [  0,   0,   0,   0,   0,   0,   0,   0,   0,   0,   0,   0,   0,\n",
       "          0,   0,   0,   0,   0,   0,   0,   0,   0,   0,   0,   4,   0],\n",
       "       [  0,   3,   2,   0,   0,   0,   0,   0,   0,   0,   1,   0,   0,\n",
       "          0,   0,   0,   0,   0,   0,   0,   0,   1,   0,   0,   0,  15]])"
      ]
     },
     "execution_count": 12,
     "metadata": {},
     "output_type": "execute_result"
    }
   ],
   "source": [
    "from sklearn.metrics import confusion_matrix\n",
    "\n",
    "cnf_matrix = confusion_matrix(y_test, y_pred)\n",
    "\n",
    "cnf_matrix"
   ]
  },
  {
   "cell_type": "code",
   "execution_count": 13,
   "metadata": {},
   "outputs": [
    {
     "name": "stdout",
     "output_type": "stream",
     "text": [
      "              precision    recall  f1-score   support\n",
      "\n",
      "         AUT       0.76      1.00      0.87        13\n",
      "         BAN       0.60      0.86      0.71       156\n",
      "         BUS       0.85      0.73      0.78        70\n",
      "         CDC       0.79      0.90      0.84        51\n",
      "         CIV       0.00      0.00      0.00         3\n",
      "         COM       0.75      0.33      0.46        18\n",
      "         CON       0.72      0.55      0.63        56\n",
      "         DAN       0.91      0.37      0.53        27\n",
      "         DMI       0.80      0.27      0.40        15\n",
      "         DPV       0.85      0.88      0.86        25\n",
      "         EXP       0.94      0.99      0.96       228\n",
      "         FAL       0.86      0.97      0.91        59\n",
      "         FAM       1.00      0.42      0.59        12\n",
      "         INF       0.00      0.00      0.00         1\n",
      "         MAR       0.86      1.00      0.92         6\n",
      "         OIE       1.00      0.22      0.36         9\n",
      "         OIG       0.96      0.89      0.92       196\n",
      "         POS       1.00      0.75      0.86         4\n",
      "         PRE       0.95      0.95      0.95        19\n",
      "         RAI       0.62      0.44      0.52        34\n",
      "       RESCO       0.00      0.00      0.00         5\n",
      "         SEG       0.90      0.95      0.92       197\n",
      "         SFH       0.93      0.85      0.89        62\n",
      "         SOC       0.80      1.00      0.89         8\n",
      "         SUC       1.00      1.00      1.00         4\n",
      "         TIT       0.88      0.68      0.77        22\n",
      "\n",
      "   micro avg       0.84      0.84      0.84      1300\n",
      "   macro avg       0.76      0.65      0.67      1300\n",
      "weighted avg       0.85      0.84      0.83      1300\n",
      "\n"
     ]
    },
    {
     "name": "stderr",
     "output_type": "stream",
     "text": [
      "/home/piantino/miniconda3/lib/python3.6/site-packages/sklearn/metrics/classification.py:1143: UndefinedMetricWarning: Precision and F-score are ill-defined and being set to 0.0 in labels with no predicted samples.\n",
      "  'precision', 'predicted', average, warn_for)\n"
     ]
    }
   ],
   "source": [
    "from sklearn import metrics\n",
    "\n",
    "print(metrics.classification_report(y_test, y_pred))"
   ]
  },
  {
   "cell_type": "code",
   "execution_count": 14,
   "metadata": {},
   "outputs": [
    {
     "data": {
      "text/plain": [
       "array(['CDC'], dtype=object)"
      ]
     },
     "execution_count": 14,
     "metadata": {},
     "output_type": "execute_result"
    }
   ],
   "source": [
    "import numpy as np\n",
    "\n",
    "y_pred = text_clf.predict(np.array('9656/1998').reshape(-1, 1))\n",
    "\n",
    "y_pred"
   ]
  },
  {
   "cell_type": "code",
   "execution_count": null,
   "metadata": {},
   "outputs": [],
   "source": []
  },
  {
   "cell_type": "code",
   "execution_count": null,
   "metadata": {},
   "outputs": [],
   "source": []
  }
 ],
 "metadata": {
  "kernelspec": {
   "display_name": "Python 3",
   "language": "python",
   "name": "python3"
  },
  "language_info": {
   "codemirror_mode": {
    "name": "ipython",
    "version": 3
   },
   "file_extension": ".py",
   "mimetype": "text/x-python",
   "name": "python",
   "nbconvert_exporter": "python",
   "pygments_lexer": "ipython3",
   "version": "3.6.5"
  }
 },
 "nbformat": 4,
 "nbformat_minor": 2
}
