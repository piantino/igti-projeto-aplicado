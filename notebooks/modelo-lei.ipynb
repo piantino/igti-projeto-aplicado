{
 "cells": [
  {
   "cell_type": "code",
   "execution_count": 1,
   "metadata": {},
   "outputs": [],
   "source": [
    "import pandas as pd\n",
    "\n",
    "colunas = ['PROCESSO', 'ROTULO_MANUAL', 'LEI']\n",
    "\n",
    "df = pd.read_csv('../data/leis.csv', header=0, sep=',', quotechar='\"', usecols=colunas)"
   ]
  },
  {
   "cell_type": "code",
   "execution_count": 2,
   "metadata": {},
   "outputs": [
    {
     "data": {
      "text/html": [
       "<div>\n",
       "<style scoped>\n",
       "    .dataframe tbody tr th:only-of-type {\n",
       "        vertical-align: middle;\n",
       "    }\n",
       "\n",
       "    .dataframe tbody tr th {\n",
       "        vertical-align: top;\n",
       "    }\n",
       "\n",
       "    .dataframe thead th {\n",
       "        text-align: right;\n",
       "    }\n",
       "</style>\n",
       "<table border=\"1\" class=\"dataframe\">\n",
       "  <thead>\n",
       "    <tr style=\"text-align: right;\">\n",
       "      <th></th>\n",
       "      <th>PROCESSO</th>\n",
       "      <th>ROTULO_MANUAL</th>\n",
       "      <th>LEI</th>\n",
       "    </tr>\n",
       "  </thead>\n",
       "  <tbody>\n",
       "    <tr>\n",
       "      <th>0</th>\n",
       "      <td>00039604720138240039</td>\n",
       "      <td>CDC</td>\n",
       "      <td>9656/1998</td>\n",
       "    </tr>\n",
       "    <tr>\n",
       "      <th>1</th>\n",
       "      <td>00039604720138240039</td>\n",
       "      <td>CDC</td>\n",
       "      <td>616/2012</td>\n",
       "    </tr>\n",
       "    <tr>\n",
       "      <th>2</th>\n",
       "      <td>00039604720138240039</td>\n",
       "      <td>CDC</td>\n",
       "      <td>9656/1998</td>\n",
       "    </tr>\n",
       "    <tr>\n",
       "      <th>3</th>\n",
       "      <td>00039604720138240039</td>\n",
       "      <td>CDC</td>\n",
       "      <td>616/2012</td>\n",
       "    </tr>\n",
       "    <tr>\n",
       "      <th>4</th>\n",
       "      <td>00039604720138240039</td>\n",
       "      <td>CDC</td>\n",
       "      <td>9656/1998</td>\n",
       "    </tr>\n",
       "  </tbody>\n",
       "</table>\n",
       "</div>"
      ],
      "text/plain": [
       "               PROCESSO ROTULO_MANUAL        LEI\n",
       "0  00039604720138240039           CDC  9656/1998\n",
       "1  00039604720138240039           CDC   616/2012\n",
       "2  00039604720138240039           CDC  9656/1998\n",
       "3  00039604720138240039           CDC   616/2012\n",
       "4  00039604720138240039           CDC  9656/1998"
      ]
     },
     "execution_count": 2,
     "metadata": {},
     "output_type": "execute_result"
    }
   ],
   "source": [
    " df.head()"
   ]
  },
  {
   "cell_type": "markdown",
   "metadata": {},
   "source": [
    "Utitiza apenas label que contenham mais de 200 exemplos."
   ]
  },
  {
   "cell_type": "code",
   "execution_count": 3,
   "metadata": {},
   "outputs": [],
   "source": [
    "rotulos_ignorados = ['PRE', 'TIT', 'COM', 'DMI', 'FAM', 'OIE', 'AUT', 'SOC', 'SUC', 'RESCO', 'MAR', 'CIV', 'POS', 'INF', 'REG']\n",
    "\n",
    "df.loc[df['ROTULO_MANUAL'].isin( rotulos_ignorados), 'ROTULO_MANUAL'] = 'NONE'"
   ]
  },
  {
   "cell_type": "code",
   "execution_count": 4,
   "metadata": {},
   "outputs": [
    {
     "data": {
      "text/html": [
       "<div>\n",
       "<style scoped>\n",
       "    .dataframe tbody tr th:only-of-type {\n",
       "        vertical-align: middle;\n",
       "    }\n",
       "\n",
       "    .dataframe tbody tr th {\n",
       "        vertical-align: top;\n",
       "    }\n",
       "\n",
       "    .dataframe thead th {\n",
       "        text-align: right;\n",
       "    }\n",
       "</style>\n",
       "<table border=\"1\" class=\"dataframe\">\n",
       "  <thead>\n",
       "    <tr style=\"text-align: right;\">\n",
       "      <th></th>\n",
       "      <th>LEI</th>\n",
       "    </tr>\n",
       "    <tr>\n",
       "      <th>ROTULO_MANUAL</th>\n",
       "      <th></th>\n",
       "    </tr>\n",
       "  </thead>\n",
       "  <tbody>\n",
       "    <tr>\n",
       "      <th>EXP</th>\n",
       "      <td>905</td>\n",
       "    </tr>\n",
       "    <tr>\n",
       "      <th>SEG</th>\n",
       "      <td>803</td>\n",
       "    </tr>\n",
       "    <tr>\n",
       "      <th>OIG</th>\n",
       "      <td>694</td>\n",
       "    </tr>\n",
       "    <tr>\n",
       "      <th>BAN</th>\n",
       "      <td>654</td>\n",
       "    </tr>\n",
       "    <tr>\n",
       "      <th>NONE</th>\n",
       "      <td>546</td>\n",
       "    </tr>\n",
       "    <tr>\n",
       "      <th>BUS</th>\n",
       "      <td>334</td>\n",
       "    </tr>\n",
       "    <tr>\n",
       "      <th>FAL</th>\n",
       "      <td>261</td>\n",
       "    </tr>\n",
       "    <tr>\n",
       "      <th>CON</th>\n",
       "      <td>257</td>\n",
       "    </tr>\n",
       "    <tr>\n",
       "      <th>SFH</th>\n",
       "      <td>210</td>\n",
       "    </tr>\n",
       "    <tr>\n",
       "      <th>CDC</th>\n",
       "      <td>186</td>\n",
       "    </tr>\n",
       "    <tr>\n",
       "      <th>RAI</th>\n",
       "      <td>136</td>\n",
       "    </tr>\n",
       "    <tr>\n",
       "      <th>DAN</th>\n",
       "      <td>111</td>\n",
       "    </tr>\n",
       "    <tr>\n",
       "      <th>DPV</th>\n",
       "      <td>100</td>\n",
       "    </tr>\n",
       "  </tbody>\n",
       "</table>\n",
       "</div>"
      ],
      "text/plain": [
       "               LEI\n",
       "ROTULO_MANUAL     \n",
       "EXP            905\n",
       "SEG            803\n",
       "OIG            694\n",
       "BAN            654\n",
       "NONE           546\n",
       "BUS            334\n",
       "FAL            261\n",
       "CON            257\n",
       "SFH            210\n",
       "CDC            186\n",
       "RAI            136\n",
       "DAN            111\n",
       "DPV            100"
      ]
     },
     "execution_count": 4,
     "metadata": {},
     "output_type": "execute_result"
    }
   ],
   "source": [
    "groupby_rotulo = df.groupby('ROTULO_MANUAL')\n",
    "\n",
    "groupby_rotulo[['LEI']].count().sort_values(['LEI'], ascending=False)"
   ]
  },
  {
   "cell_type": "code",
   "execution_count": 5,
   "metadata": {},
   "outputs": [
    {
     "data": {
      "text/plain": [
       "(5197, 3)"
      ]
     },
     "execution_count": 5,
     "metadata": {},
     "output_type": "execute_result"
    }
   ],
   "source": [
    "df.shape"
   ]
  },
  {
   "cell_type": "code",
   "execution_count": 6,
   "metadata": {},
   "outputs": [
    {
     "data": {
      "text/html": [
       "<div>\n",
       "<style scoped>\n",
       "    .dataframe tbody tr th:only-of-type {\n",
       "        vertical-align: middle;\n",
       "    }\n",
       "\n",
       "    .dataframe tbody tr th {\n",
       "        vertical-align: top;\n",
       "    }\n",
       "\n",
       "    .dataframe thead th {\n",
       "        text-align: right;\n",
       "    }\n",
       "</style>\n",
       "<table border=\"1\" class=\"dataframe\">\n",
       "  <thead>\n",
       "    <tr style=\"text-align: right;\">\n",
       "      <th>LEI</th>\n",
       "      <th>PROCESSO</th>\n",
       "      <th>ROTULO_MANUAL</th>\n",
       "      <th>1/1975</th>\n",
       "      <th>1/2012</th>\n",
       "      <th>100/2015</th>\n",
       "      <th>101/2010</th>\n",
       "      <th>10144/2002</th>\n",
       "      <th>10150/2000</th>\n",
       "      <th>1025/2009</th>\n",
       "      <th>10257/2001</th>\n",
       "      <th>...</th>\n",
       "      <th>9610/1998</th>\n",
       "      <th>9611/1998</th>\n",
       "      <th>9612/1998</th>\n",
       "      <th>9615/1998</th>\n",
       "      <th>9656/1988</th>\n",
       "      <th>9656/1997</th>\n",
       "      <th>9656/1998</th>\n",
       "      <th>9658/1998</th>\n",
       "      <th>9800/1999</th>\n",
       "      <th>9870/1999</th>\n",
       "    </tr>\n",
       "  </thead>\n",
       "  <tbody>\n",
       "    <tr>\n",
       "      <th>0</th>\n",
       "      <td>00000042920148240058</td>\n",
       "      <td>CON</td>\n",
       "      <td>0</td>\n",
       "      <td>0</td>\n",
       "      <td>0</td>\n",
       "      <td>0</td>\n",
       "      <td>0</td>\n",
       "      <td>0</td>\n",
       "      <td>0</td>\n",
       "      <td>0</td>\n",
       "      <td>...</td>\n",
       "      <td>0</td>\n",
       "      <td>0</td>\n",
       "      <td>0</td>\n",
       "      <td>0</td>\n",
       "      <td>0</td>\n",
       "      <td>0</td>\n",
       "      <td>0</td>\n",
       "      <td>0</td>\n",
       "      <td>0</td>\n",
       "      <td>0</td>\n",
       "    </tr>\n",
       "    <tr>\n",
       "      <th>1</th>\n",
       "      <td>00000057320168240242</td>\n",
       "      <td>NONE</td>\n",
       "      <td>0</td>\n",
       "      <td>0</td>\n",
       "      <td>0</td>\n",
       "      <td>0</td>\n",
       "      <td>0</td>\n",
       "      <td>0</td>\n",
       "      <td>0</td>\n",
       "      <td>0</td>\n",
       "      <td>...</td>\n",
       "      <td>0</td>\n",
       "      <td>0</td>\n",
       "      <td>0</td>\n",
       "      <td>0</td>\n",
       "      <td>0</td>\n",
       "      <td>0</td>\n",
       "      <td>0</td>\n",
       "      <td>0</td>\n",
       "      <td>0</td>\n",
       "      <td>0</td>\n",
       "    </tr>\n",
       "    <tr>\n",
       "      <th>2</th>\n",
       "      <td>00000110319958240053</td>\n",
       "      <td>NONE</td>\n",
       "      <td>0</td>\n",
       "      <td>0</td>\n",
       "      <td>0</td>\n",
       "      <td>0</td>\n",
       "      <td>0</td>\n",
       "      <td>0</td>\n",
       "      <td>0</td>\n",
       "      <td>0</td>\n",
       "      <td>...</td>\n",
       "      <td>0</td>\n",
       "      <td>0</td>\n",
       "      <td>0</td>\n",
       "      <td>0</td>\n",
       "      <td>0</td>\n",
       "      <td>0</td>\n",
       "      <td>0</td>\n",
       "      <td>0</td>\n",
       "      <td>0</td>\n",
       "      <td>0</td>\n",
       "    </tr>\n",
       "    <tr>\n",
       "      <th>3</th>\n",
       "      <td>00000186020108240023</td>\n",
       "      <td>NONE</td>\n",
       "      <td>0</td>\n",
       "      <td>0</td>\n",
       "      <td>0</td>\n",
       "      <td>0</td>\n",
       "      <td>0</td>\n",
       "      <td>0</td>\n",
       "      <td>0</td>\n",
       "      <td>0</td>\n",
       "      <td>...</td>\n",
       "      <td>4</td>\n",
       "      <td>0</td>\n",
       "      <td>0</td>\n",
       "      <td>0</td>\n",
       "      <td>0</td>\n",
       "      <td>0</td>\n",
       "      <td>0</td>\n",
       "      <td>0</td>\n",
       "      <td>0</td>\n",
       "      <td>0</td>\n",
       "    </tr>\n",
       "    <tr>\n",
       "      <th>4</th>\n",
       "      <td>00000224520138240071</td>\n",
       "      <td>OIG</td>\n",
       "      <td>0</td>\n",
       "      <td>0</td>\n",
       "      <td>0</td>\n",
       "      <td>0</td>\n",
       "      <td>0</td>\n",
       "      <td>0</td>\n",
       "      <td>0</td>\n",
       "      <td>0</td>\n",
       "      <td>...</td>\n",
       "      <td>0</td>\n",
       "      <td>0</td>\n",
       "      <td>0</td>\n",
       "      <td>0</td>\n",
       "      <td>0</td>\n",
       "      <td>0</td>\n",
       "      <td>0</td>\n",
       "      <td>0</td>\n",
       "      <td>0</td>\n",
       "      <td>0</td>\n",
       "    </tr>\n",
       "  </tbody>\n",
       "</table>\n",
       "<p>5 rows × 257 columns</p>\n",
       "</div>"
      ],
      "text/plain": [
       "LEI              PROCESSO ROTULO_MANUAL  1/1975  1/2012  100/2015  101/2010  \\\n",
       "0    00000042920148240058           CON       0       0         0         0   \n",
       "1    00000057320168240242          NONE       0       0         0         0   \n",
       "2    00000110319958240053          NONE       0       0         0         0   \n",
       "3    00000186020108240023          NONE       0       0         0         0   \n",
       "4    00000224520138240071           OIG       0       0         0         0   \n",
       "\n",
       "LEI  10144/2002  10150/2000  1025/2009  10257/2001    ...      9610/1998  \\\n",
       "0             0           0          0           0    ...              0   \n",
       "1             0           0          0           0    ...              0   \n",
       "2             0           0          0           0    ...              0   \n",
       "3             0           0          0           0    ...              4   \n",
       "4             0           0          0           0    ...              0   \n",
       "\n",
       "LEI  9611/1998  9612/1998  9615/1998  9656/1988  9656/1997  9656/1998  \\\n",
       "0            0          0          0          0          0          0   \n",
       "1            0          0          0          0          0          0   \n",
       "2            0          0          0          0          0          0   \n",
       "3            0          0          0          0          0          0   \n",
       "4            0          0          0          0          0          0   \n",
       "\n",
       "LEI  9658/1998  9800/1999  9870/1999  \n",
       "0            0          0          0  \n",
       "1            0          0          0  \n",
       "2            0          0          0  \n",
       "3            0          0          0  \n",
       "4            0          0          0  \n",
       "\n",
       "[5 rows x 257 columns]"
      ]
     },
     "execution_count": 6,
     "metadata": {},
     "output_type": "execute_result"
    }
   ],
   "source": [
    "data = df.groupby(['PROCESSO', 'ROTULO_MANUAL', 'LEI']).size().unstack('LEI', fill_value=0)\n",
    "data = data.reset_index()\n",
    "\n",
    "data.head()"
   ]
  },
  {
   "cell_type": "code",
   "execution_count": 7,
   "metadata": {},
   "outputs": [
    {
     "data": {
      "text/plain": [
       "(1218,)"
      ]
     },
     "execution_count": 7,
     "metadata": {},
     "output_type": "execute_result"
    }
   ],
   "source": [
    "y = data['ROTULO_MANUAL'].values\n",
    "y.shape"
   ]
  },
  {
   "cell_type": "code",
   "execution_count": 8,
   "metadata": {},
   "outputs": [
    {
     "data": {
      "text/html": [
       "<div>\n",
       "<style scoped>\n",
       "    .dataframe tbody tr th:only-of-type {\n",
       "        vertical-align: middle;\n",
       "    }\n",
       "\n",
       "    .dataframe tbody tr th {\n",
       "        vertical-align: top;\n",
       "    }\n",
       "\n",
       "    .dataframe thead th {\n",
       "        text-align: right;\n",
       "    }\n",
       "</style>\n",
       "<table border=\"1\" class=\"dataframe\">\n",
       "  <thead>\n",
       "    <tr style=\"text-align: right;\">\n",
       "      <th>LEI</th>\n",
       "      <th>1/1975</th>\n",
       "      <th>1/2012</th>\n",
       "      <th>100/2015</th>\n",
       "      <th>101/2010</th>\n",
       "      <th>10144/2002</th>\n",
       "      <th>10150/2000</th>\n",
       "      <th>1025/2009</th>\n",
       "      <th>10257/2001</th>\n",
       "      <th>104/1990</th>\n",
       "      <th>1060/1950</th>\n",
       "      <th>...</th>\n",
       "      <th>9610/1998</th>\n",
       "      <th>9611/1998</th>\n",
       "      <th>9612/1998</th>\n",
       "      <th>9615/1998</th>\n",
       "      <th>9656/1988</th>\n",
       "      <th>9656/1997</th>\n",
       "      <th>9656/1998</th>\n",
       "      <th>9658/1998</th>\n",
       "      <th>9800/1999</th>\n",
       "      <th>9870/1999</th>\n",
       "    </tr>\n",
       "  </thead>\n",
       "  <tbody>\n",
       "    <tr>\n",
       "      <th>0</th>\n",
       "      <td>0</td>\n",
       "      <td>0</td>\n",
       "      <td>0</td>\n",
       "      <td>0</td>\n",
       "      <td>0</td>\n",
       "      <td>0</td>\n",
       "      <td>0</td>\n",
       "      <td>0</td>\n",
       "      <td>0</td>\n",
       "      <td>0</td>\n",
       "      <td>...</td>\n",
       "      <td>0</td>\n",
       "      <td>0</td>\n",
       "      <td>0</td>\n",
       "      <td>0</td>\n",
       "      <td>0</td>\n",
       "      <td>0</td>\n",
       "      <td>0</td>\n",
       "      <td>0</td>\n",
       "      <td>0</td>\n",
       "      <td>0</td>\n",
       "    </tr>\n",
       "    <tr>\n",
       "      <th>1</th>\n",
       "      <td>0</td>\n",
       "      <td>0</td>\n",
       "      <td>0</td>\n",
       "      <td>0</td>\n",
       "      <td>0</td>\n",
       "      <td>0</td>\n",
       "      <td>0</td>\n",
       "      <td>0</td>\n",
       "      <td>0</td>\n",
       "      <td>0</td>\n",
       "      <td>...</td>\n",
       "      <td>0</td>\n",
       "      <td>0</td>\n",
       "      <td>0</td>\n",
       "      <td>0</td>\n",
       "      <td>0</td>\n",
       "      <td>0</td>\n",
       "      <td>0</td>\n",
       "      <td>0</td>\n",
       "      <td>0</td>\n",
       "      <td>0</td>\n",
       "    </tr>\n",
       "    <tr>\n",
       "      <th>2</th>\n",
       "      <td>0</td>\n",
       "      <td>0</td>\n",
       "      <td>0</td>\n",
       "      <td>0</td>\n",
       "      <td>0</td>\n",
       "      <td>0</td>\n",
       "      <td>0</td>\n",
       "      <td>0</td>\n",
       "      <td>0</td>\n",
       "      <td>0</td>\n",
       "      <td>...</td>\n",
       "      <td>0</td>\n",
       "      <td>0</td>\n",
       "      <td>0</td>\n",
       "      <td>0</td>\n",
       "      <td>0</td>\n",
       "      <td>0</td>\n",
       "      <td>0</td>\n",
       "      <td>0</td>\n",
       "      <td>0</td>\n",
       "      <td>0</td>\n",
       "    </tr>\n",
       "    <tr>\n",
       "      <th>3</th>\n",
       "      <td>0</td>\n",
       "      <td>0</td>\n",
       "      <td>0</td>\n",
       "      <td>0</td>\n",
       "      <td>0</td>\n",
       "      <td>0</td>\n",
       "      <td>0</td>\n",
       "      <td>0</td>\n",
       "      <td>0</td>\n",
       "      <td>0</td>\n",
       "      <td>...</td>\n",
       "      <td>4</td>\n",
       "      <td>0</td>\n",
       "      <td>0</td>\n",
       "      <td>0</td>\n",
       "      <td>0</td>\n",
       "      <td>0</td>\n",
       "      <td>0</td>\n",
       "      <td>0</td>\n",
       "      <td>0</td>\n",
       "      <td>0</td>\n",
       "    </tr>\n",
       "    <tr>\n",
       "      <th>4</th>\n",
       "      <td>0</td>\n",
       "      <td>0</td>\n",
       "      <td>0</td>\n",
       "      <td>0</td>\n",
       "      <td>0</td>\n",
       "      <td>0</td>\n",
       "      <td>0</td>\n",
       "      <td>0</td>\n",
       "      <td>1</td>\n",
       "      <td>0</td>\n",
       "      <td>...</td>\n",
       "      <td>0</td>\n",
       "      <td>0</td>\n",
       "      <td>0</td>\n",
       "      <td>0</td>\n",
       "      <td>0</td>\n",
       "      <td>0</td>\n",
       "      <td>0</td>\n",
       "      <td>0</td>\n",
       "      <td>0</td>\n",
       "      <td>0</td>\n",
       "    </tr>\n",
       "  </tbody>\n",
       "</table>\n",
       "<p>5 rows × 255 columns</p>\n",
       "</div>"
      ],
      "text/plain": [
       "LEI  1/1975  1/2012  100/2015  101/2010  10144/2002  10150/2000  1025/2009  \\\n",
       "0         0       0         0         0           0           0          0   \n",
       "1         0       0         0         0           0           0          0   \n",
       "2         0       0         0         0           0           0          0   \n",
       "3         0       0         0         0           0           0          0   \n",
       "4         0       0         0         0           0           0          0   \n",
       "\n",
       "LEI  10257/2001  104/1990  1060/1950    ...      9610/1998  9611/1998  \\\n",
       "0             0         0          0    ...              0          0   \n",
       "1             0         0          0    ...              0          0   \n",
       "2             0         0          0    ...              0          0   \n",
       "3             0         0          0    ...              4          0   \n",
       "4             0         1          0    ...              0          0   \n",
       "\n",
       "LEI  9612/1998  9615/1998  9656/1988  9656/1997  9656/1998  9658/1998  \\\n",
       "0            0          0          0          0          0          0   \n",
       "1            0          0          0          0          0          0   \n",
       "2            0          0          0          0          0          0   \n",
       "3            0          0          0          0          0          0   \n",
       "4            0          0          0          0          0          0   \n",
       "\n",
       "LEI  9800/1999  9870/1999  \n",
       "0            0          0  \n",
       "1            0          0  \n",
       "2            0          0  \n",
       "3            0          0  \n",
       "4            0          0  \n",
       "\n",
       "[5 rows x 255 columns]"
      ]
     },
     "execution_count": 8,
     "metadata": {},
     "output_type": "execute_result"
    }
   ],
   "source": [
    "df1 = data.iloc[:,2:].copy()\n",
    "df1.head()"
   ]
  },
  {
   "cell_type": "code",
   "execution_count": 9,
   "metadata": {},
   "outputs": [
    {
     "data": {
      "text/plain": [
       "(1218, 255)"
      ]
     },
     "execution_count": 9,
     "metadata": {},
     "output_type": "execute_result"
    }
   ],
   "source": [
    "x = df1.values\n",
    "x.shape"
   ]
  },
  {
   "cell_type": "code",
   "execution_count": 10,
   "metadata": {},
   "outputs": [
    {
     "name": "stdout",
     "output_type": "stream",
     "text": [
      "Counter({'SEG': 153, 'OIG': 153, 'BAN': 122, 'NONE': 118, 'EXP': 77, 'BUS': 60, 'CON': 52, 'CDC': 36, 'RAI': 36, 'SFH': 35, 'DAN': 28, 'DPV': 23, 'FAL': 20})\n",
      "Counter({'SEG': 47, 'OIG': 45, 'BAN': 42, 'NONE': 35, 'EXP': 31, 'CON': 21, 'BUS': 18, 'CDC': 16, 'SFH': 14, 'DPV': 12, 'RAI': 12, 'FAL': 7, 'DAN': 5})\n"
     ]
    }
   ],
   "source": [
    "from sklearn.model_selection import train_test_split\n",
    "\n",
    "x_train, x_test, y_train, y_test = train_test_split(x, y)\n",
    "\n",
    "import collections\n",
    "\n",
    "print(collections.Counter(y_train))\n",
    "print(collections.Counter(y_test))"
   ]
  },
  {
   "cell_type": "code",
   "execution_count": 11,
   "metadata": {},
   "outputs": [
    {
     "data": {
      "text/plain": [
       "Pipeline(memory=None,\n",
       "     steps=[('clf', DecisionTreeClassifier(class_weight=None, criterion='gini', max_depth=None,\n",
       "            max_features=None, max_leaf_nodes=None,\n",
       "            min_impurity_decrease=0.0, min_impurity_split=None,\n",
       "            min_samples_leaf=1, min_samples_split=2,\n",
       "            min_weight_fraction_leaf=0.0, presort=False, random_state=None,\n",
       "            splitter='best'))])"
      ]
     },
     "execution_count": 11,
     "metadata": {},
     "output_type": "execute_result"
    }
   ],
   "source": [
    "from sklearn.pipeline import Pipeline\n",
    "from sklearn.preprocessing import OneHotEncoder\n",
    "\n",
    "from sklearn.tree import DecisionTreeClassifier\n",
    "\n",
    "clf = DecisionTreeClassifier()\n",
    "\n",
    "text_clf = Pipeline([\n",
    "    #('enc', enc),\n",
    "    ('clf', clf)\n",
    "])\n",
    "\n",
    "text_clf.fit(x , y)"
   ]
  },
  {
   "cell_type": "markdown",
   "metadata": {},
   "source": [
    "Testando o modelo."
   ]
  },
  {
   "cell_type": "code",
   "execution_count": 12,
   "metadata": {},
   "outputs": [
    {
     "data": {
      "text/plain": [
       "0.8950819672131147"
      ]
     },
     "execution_count": 12,
     "metadata": {},
     "output_type": "execute_result"
    }
   ],
   "source": [
    "y_pred = text_clf.predict(x_test)\n",
    "\n",
    "from sklearn.metrics import accuracy_score\n",
    "accuracy = accuracy_score(y_test, y_pred)\n",
    "\n",
    "accuracy"
   ]
  },
  {
   "cell_type": "code",
   "execution_count": 13,
   "metadata": {},
   "outputs": [
    {
     "name": "stdout",
     "output_type": "stream",
     "text": [
      "              precision    recall  f1-score   support\n",
      "\n",
      "         BAN       0.88      0.90      0.89        42\n",
      "         BUS       0.85      0.94      0.89        18\n",
      "         CDC       0.84      1.00      0.91        16\n",
      "         CON       1.00      0.71      0.83        21\n",
      "         DAN       0.62      1.00      0.77         5\n",
      "         DPV       0.92      1.00      0.96        12\n",
      "         EXP       0.97      0.97      0.97        31\n",
      "         FAL       0.75      0.86      0.80         7\n",
      "        NONE       0.90      0.74      0.81        35\n",
      "         OIG       0.90      0.98      0.94        45\n",
      "         RAI       0.73      0.67      0.70        12\n",
      "         SEG       0.98      0.94      0.96        47\n",
      "         SFH       0.86      0.86      0.86        14\n",
      "\n",
      "   micro avg       0.90      0.90      0.90       305\n",
      "   macro avg       0.86      0.89      0.87       305\n",
      "weighted avg       0.90      0.90      0.89       305\n",
      "\n"
     ]
    }
   ],
   "source": [
    "from sklearn import metrics\n",
    "\n",
    "print(metrics.classification_report(y_test, y_pred))"
   ]
  },
  {
   "cell_type": "code",
   "execution_count": 14,
   "metadata": {},
   "outputs": [],
   "source": [
    "from sklearn.metrics import confusion_matrix\n",
    "\n",
    "cnf_matrix = confusion_matrix(y_test, y_pred)"
   ]
  },
  {
   "cell_type": "code",
   "execution_count": 15,
   "metadata": {},
   "outputs": [
    {
     "data": {
      "text/plain": [
       "<matplotlib.axes._subplots.AxesSubplot at 0x7f28a7b3fef0>"
      ]
     },
     "execution_count": 15,
     "metadata": {},
     "output_type": "execute_result"
    }
   ],
   "source": [
    "import seaborn as sn\n",
    "import pandas as pd\n",
    "import matplotlib.pyplot as plt\n",
    "\n",
    "      \n",
    "df_cm = pd.DataFrame(cnf_matrix, range(13), range(13))\n",
    "plt.figure(figsize = (10,7))\n",
    "sn.set(font_scale=1.4)\n",
    "sn.heatmap(df_cm, annot=True,annot_kws={\"size\": 16})"
   ]
  },
  {
   "cell_type": "code",
   "execution_count": 16,
   "metadata": {},
   "outputs": [
    {
     "data": {
      "text/plain": [
       "255"
      ]
     },
     "execution_count": 16,
     "metadata": {},
     "output_type": "execute_result"
    }
   ],
   "source": [
    "features = list(data.columns.values)\n",
    "del features[0:2]\n",
    "\n",
    "len(features)"
   ]
  },
  {
   "cell_type": "code",
   "execution_count": 17,
   "metadata": {},
   "outputs": [
    {
     "data": {
      "text/html": [
       "<div>\n",
       "<style scoped>\n",
       "    .dataframe tbody tr th:only-of-type {\n",
       "        vertical-align: middle;\n",
       "    }\n",
       "\n",
       "    .dataframe tbody tr th {\n",
       "        vertical-align: top;\n",
       "    }\n",
       "\n",
       "    .dataframe thead th {\n",
       "        text-align: right;\n",
       "    }\n",
       "</style>\n",
       "<table border=\"1\" class=\"dataframe\">\n",
       "  <thead>\n",
       "    <tr style=\"text-align: right;\">\n",
       "      <th></th>\n",
       "      <th>1/1975</th>\n",
       "      <th>1/2012</th>\n",
       "      <th>100/2015</th>\n",
       "      <th>101/2010</th>\n",
       "      <th>10144/2002</th>\n",
       "      <th>10150/2000</th>\n",
       "      <th>1025/2009</th>\n",
       "      <th>10257/2001</th>\n",
       "      <th>104/1990</th>\n",
       "      <th>1060/1950</th>\n",
       "      <th>...</th>\n",
       "      <th>9610/1998</th>\n",
       "      <th>9611/1998</th>\n",
       "      <th>9612/1998</th>\n",
       "      <th>9615/1998</th>\n",
       "      <th>9656/1988</th>\n",
       "      <th>9656/1997</th>\n",
       "      <th>9656/1998</th>\n",
       "      <th>9658/1998</th>\n",
       "      <th>9800/1999</th>\n",
       "      <th>9870/1999</th>\n",
       "    </tr>\n",
       "  </thead>\n",
       "  <tbody>\n",
       "    <tr>\n",
       "      <th>0</th>\n",
       "      <td>0.0</td>\n",
       "      <td>0.0</td>\n",
       "      <td>0.0</td>\n",
       "      <td>0.0</td>\n",
       "      <td>0.0</td>\n",
       "      <td>0.0</td>\n",
       "      <td>0.0</td>\n",
       "      <td>0.0</td>\n",
       "      <td>0.0</td>\n",
       "      <td>0.0</td>\n",
       "      <td>...</td>\n",
       "      <td>0.0</td>\n",
       "      <td>0.0</td>\n",
       "      <td>0.0</td>\n",
       "      <td>0.0</td>\n",
       "      <td>0.0</td>\n",
       "      <td>0.0</td>\n",
       "      <td>1.0</td>\n",
       "      <td>0.0</td>\n",
       "      <td>0.0</td>\n",
       "      <td>0.0</td>\n",
       "    </tr>\n",
       "  </tbody>\n",
       "</table>\n",
       "<p>1 rows × 255 columns</p>\n",
       "</div>"
      ],
      "text/plain": [
       "   1/1975  1/2012  100/2015  101/2010  10144/2002  10150/2000  1025/2009  \\\n",
       "0     0.0     0.0       0.0       0.0         0.0         0.0        0.0   \n",
       "\n",
       "   10257/2001  104/1990  1060/1950    ...      9610/1998  9611/1998  \\\n",
       "0         0.0       0.0        0.0    ...            0.0        0.0   \n",
       "\n",
       "   9612/1998  9615/1998  9656/1988  9656/1997  9656/1998  9658/1998  \\\n",
       "0        0.0        0.0        0.0        0.0        1.0        0.0   \n",
       "\n",
       "   9800/1999  9870/1999  \n",
       "0        0.0        0.0  \n",
       "\n",
       "[1 rows x 255 columns]"
      ]
     },
     "execution_count": 17,
     "metadata": {},
     "output_type": "execute_result"
    }
   ],
   "source": [
    "df_sample = pd.DataFrame(columns=features)\n",
    "df_sample = df_sample.append({'9656/1998': 1}, ignore_index=True)\n",
    "df_sample = df_sample.fillna(0)\n",
    "\n",
    "df_sample"
   ]
  },
  {
   "cell_type": "code",
   "execution_count": 18,
   "metadata": {},
   "outputs": [
    {
     "data": {
      "text/plain": [
       "array(['CDC'], dtype=object)"
      ]
     },
     "execution_count": 18,
     "metadata": {},
     "output_type": "execute_result"
    }
   ],
   "source": [
    "y_pred = text_clf.predict(df_sample)\n",
    "\n",
    "y_pred"
   ]
  },
  {
   "cell_type": "code",
   "execution_count": 19,
   "metadata": {},
   "outputs": [
    {
     "data": {
      "text/plain": [
       "['../modelos/Modelo-Leis.pkl']"
      ]
     },
     "execution_count": 19,
     "metadata": {},
     "output_type": "execute_result"
    }
   ],
   "source": [
    "from sklearn.externals import joblib\n",
    "\n",
    "joblib.dump(features, '../modelos/Features-Leis.pkl', compress = 1)\n",
    "joblib.dump(clf, '../modelos/Modelo-Leis.pkl', compress = 1) "
   ]
  }
 ],
 "metadata": {
  "kernelspec": {
   "display_name": "Python 3",
   "language": "python",
   "name": "python3"
  },
  "language_info": {
   "codemirror_mode": {
    "name": "ipython",
    "version": 3
   },
   "file_extension": ".py",
   "mimetype": "text/x-python",
   "name": "python",
   "nbconvert_exporter": "python",
   "pygments_lexer": "ipython3",
   "version": "3.6.5"
  }
 },
 "nbformat": 4,
 "nbformat_minor": 2
}
