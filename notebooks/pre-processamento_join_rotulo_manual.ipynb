{
 "cells": [
  {
   "cell_type": "code",
   "execution_count": 1,
   "metadata": {},
   "outputs": [],
   "source": [
    "import pandas as pd\n",
    "\n",
    "colunas = ['PROCESSO', 'EMENTA']\n",
    "\n",
    "ementa_df = pd.read_csv('../data/ementa_ds.zip',\n",
    "                         compression='zip', header=0, sep=',', quotechar='\"', usecols=colunas)"
   ]
  },
  {
   "cell_type": "code",
   "execution_count": 2,
   "metadata": {},
   "outputs": [],
   "source": [
    "colunas = ['PROCESSO', 'ROTULO_MANUAL']\n",
    "\n",
    "rotulo_manual_df = pd.read_csv('../data/rotulo_manual_ds.zip',\n",
    "                               compression='zip', header=0, sep=',', quotechar='\"', usecols=colunas)"
   ]
  },
  {
   "cell_type": "markdown",
   "metadata": {},
   "source": [
    "A sigla \"AGR\" não é um rótulo de classificação, mas uma sigla utilizada para representar um estado do processo.\n",
    "\n",
    "Removendo-a do conjunto de dados."
   ]
  },
  {
   "cell_type": "code",
   "execution_count": 3,
   "metadata": {},
   "outputs": [],
   "source": [
    "rotulo_manual_df = rotulo_manual_df[rotulo_manual_df.ROTULO_MANUAL != 'AGR']"
   ]
  },
  {
   "cell_type": "code",
   "execution_count": 4,
   "metadata": {},
   "outputs": [
    {
     "data": {
      "text/html": [
       "<div>\n",
       "<style scoped>\n",
       "    .dataframe tbody tr th:only-of-type {\n",
       "        vertical-align: middle;\n",
       "    }\n",
       "\n",
       "    .dataframe tbody tr th {\n",
       "        vertical-align: top;\n",
       "    }\n",
       "\n",
       "    .dataframe thead th {\n",
       "        text-align: right;\n",
       "    }\n",
       "</style>\n",
       "<table border=\"1\" class=\"dataframe\">\n",
       "  <thead>\n",
       "    <tr style=\"text-align: right;\">\n",
       "      <th></th>\n",
       "      <th>PROCESSO</th>\n",
       "      <th>EMENTA</th>\n",
       "      <th>ROTULO_MANUAL</th>\n",
       "    </tr>\n",
       "  </thead>\n",
       "  <tbody>\n",
       "    <tr>\n",
       "      <th>0</th>\n",
       "      <td>00039604720138240039</td>\n",
       "      <td>&lt;br&gt;   EMBARGOS DE DECLARAÇÃO. PRETENDIDA REDI...</td>\n",
       "      <td>CDC</td>\n",
       "    </tr>\n",
       "    <tr>\n",
       "      <th>1</th>\n",
       "      <td>00039604720138240039</td>\n",
       "      <td>&lt;br&gt;   APELAÇÃO CÍVEL. AÇÃO DECLARATÓRIA C/C R...</td>\n",
       "      <td>CDC</td>\n",
       "    </tr>\n",
       "    <tr>\n",
       "      <th>2</th>\n",
       "      <td>00039604720138240039</td>\n",
       "      <td>&lt;br&gt;   EMBARGOS DE DECLARAÇÃO. SUSCITAÇÃO DE C...</td>\n",
       "      <td>CDC</td>\n",
       "    </tr>\n",
       "    <tr>\n",
       "      <th>3</th>\n",
       "      <td>03003908120178240057</td>\n",
       "      <td>&lt;br&gt;   EMBARGOS DE DECLARAÇÃO EM APELAÇÃO CÍVE...</td>\n",
       "      <td>FAM</td>\n",
       "    </tr>\n",
       "    <tr>\n",
       "      <th>4</th>\n",
       "      <td>03003908120178240057</td>\n",
       "      <td>&lt;br&gt;   APELAÇÃO CÍVEL. DIREITO PROCESSUAL CIVI...</td>\n",
       "      <td>FAM</td>\n",
       "    </tr>\n",
       "  </tbody>\n",
       "</table>\n",
       "</div>"
      ],
      "text/plain": [
       "               PROCESSO                                             EMENTA  \\\n",
       "0  00039604720138240039  <br>   EMBARGOS DE DECLARAÇÃO. PRETENDIDA REDI...   \n",
       "1  00039604720138240039  <br>   APELAÇÃO CÍVEL. AÇÃO DECLARATÓRIA C/C R...   \n",
       "2  00039604720138240039  <br>   EMBARGOS DE DECLARAÇÃO. SUSCITAÇÃO DE C...   \n",
       "3  03003908120178240057  <br>   EMBARGOS DE DECLARAÇÃO EM APELAÇÃO CÍVE...   \n",
       "4  03003908120178240057  <br>   APELAÇÃO CÍVEL. DIREITO PROCESSUAL CIVI...   \n",
       "\n",
       "  ROTULO_MANUAL  \n",
       "0           CDC  \n",
       "1           CDC  \n",
       "2           CDC  \n",
       "3           FAM  \n",
       "4           FAM  "
      ]
     },
     "execution_count": 4,
     "metadata": {},
     "output_type": "execute_result"
    }
   ],
   "source": [
    "join_df = pd.merge(ementa_df, rotulo_manual_df, on=['PROCESSO'])\n",
    "\n",
    "join_df.head()"
   ]
  },
  {
   "cell_type": "code",
   "execution_count": 5,
   "metadata": {},
   "outputs": [
    {
     "data": {
      "text/plain": [
       "(14579, 3)"
      ]
     },
     "execution_count": 5,
     "metadata": {},
     "output_type": "execute_result"
    }
   ],
   "source": [
    "join_df.shape"
   ]
  },
  {
   "cell_type": "code",
   "execution_count": 6,
   "metadata": {},
   "outputs": [],
   "source": [
    "join_df.to_csv('../data/ementas_rotulos_manual.csv')"
   ]
  }
 ],
 "metadata": {
  "kernelspec": {
   "display_name": "Python 3",
   "language": "python",
   "name": "python3"
  },
  "language_info": {
   "codemirror_mode": {
    "name": "ipython",
    "version": 3
   },
   "file_extension": ".py",
   "mimetype": "text/x-python",
   "name": "python",
   "nbconvert_exporter": "python",
   "pygments_lexer": "ipython3",
   "version": "3.6.5"
  }
 },
 "nbformat": 4,
 "nbformat_minor": 2
}
