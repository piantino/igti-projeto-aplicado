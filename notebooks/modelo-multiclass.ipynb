{
 "cells": [
  {
   "cell_type": "code",
   "execution_count": 1,
   "metadata": {},
   "outputs": [
    {
     "name": "stderr",
     "output_type": "stream",
     "text": [
      "/home/piantino/miniconda3/lib/python3.6/site-packages/requests/__init__.py:80: RequestsDependencyWarning: urllib3 (1.25.3) or chardet (3.0.4) doesn't match a supported version!\n",
      "  RequestsDependencyWarning)\n",
      "COMET INFO: Experiment is live on comet.ml https://www.comet.ml/piantino/igti-projeto-aplicado/55bb829d74bf4bbc982f66ab6ac660ea\n",
      "\n"
     ]
    }
   ],
   "source": [
    "from comet_ml import Experiment\n",
    "\n",
    "experiment = Experiment(project_name=\"igti-projeto-aplicado\", workspace=\"piantino\")"
   ]
  },
  {
   "cell_type": "code",
   "execution_count": 2,
   "metadata": {},
   "outputs": [],
   "source": [
    "import pandas as pd\n",
    "\n",
    "colunas = ['ROTULO_MANUAL', 'EMENTA_NORM']\n",
    "\n",
    "df = pd.read_csv('../data/ementas_pre-processadas.csv', header=0, sep=',', quotechar='\"', usecols=colunas)"
   ]
  },
  {
   "cell_type": "code",
   "execution_count": 3,
   "metadata": {},
   "outputs": [],
   "source": [
    "rotulos = ['EXP', 'BAN', 'OIG', 'DAN', 'SEG', 'CON', 'OIE']"
   ]
  },
  {
   "cell_type": "code",
   "execution_count": 4,
   "metadata": {},
   "outputs": [
    {
     "data": {
      "text/html": [
       "<div>\n",
       "<style scoped>\n",
       "    .dataframe tbody tr th:only-of-type {\n",
       "        vertical-align: middle;\n",
       "    }\n",
       "\n",
       "    .dataframe tbody tr th {\n",
       "        vertical-align: top;\n",
       "    }\n",
       "\n",
       "    .dataframe thead th {\n",
       "        text-align: right;\n",
       "    }\n",
       "</style>\n",
       "<table border=\"1\" class=\"dataframe\">\n",
       "  <thead>\n",
       "    <tr style=\"text-align: right;\">\n",
       "      <th></th>\n",
       "      <th>EMENTA_NORM</th>\n",
       "    </tr>\n",
       "    <tr>\n",
       "      <th>ROTULO_MANUAL</th>\n",
       "      <th></th>\n",
       "    </tr>\n",
       "  </thead>\n",
       "  <tbody>\n",
       "    <tr>\n",
       "      <th>BAN</th>\n",
       "      <td>971</td>\n",
       "    </tr>\n",
       "    <tr>\n",
       "      <th>CON</th>\n",
       "      <td>832</td>\n",
       "    </tr>\n",
       "    <tr>\n",
       "      <th>DAN</th>\n",
       "      <td>888</td>\n",
       "    </tr>\n",
       "    <tr>\n",
       "      <th>EXP</th>\n",
       "      <td>1784</td>\n",
       "    </tr>\n",
       "    <tr>\n",
       "      <th>NONE</th>\n",
       "      <td>3191</td>\n",
       "    </tr>\n",
       "    <tr>\n",
       "      <th>OIE</th>\n",
       "      <td>735</td>\n",
       "    </tr>\n",
       "    <tr>\n",
       "      <th>OIG</th>\n",
       "      <td>752</td>\n",
       "    </tr>\n",
       "    <tr>\n",
       "      <th>SEG</th>\n",
       "      <td>761</td>\n",
       "    </tr>\n",
       "  </tbody>\n",
       "</table>\n",
       "</div>"
      ],
      "text/plain": [
       "               EMENTA_NORM\n",
       "ROTULO_MANUAL             \n",
       "BAN                    971\n",
       "CON                    832\n",
       "DAN                    888\n",
       "EXP                   1784\n",
       "NONE                  3191\n",
       "OIE                    735\n",
       "OIG                    752\n",
       "SEG                    761"
      ]
     },
     "execution_count": 4,
     "metadata": {},
     "output_type": "execute_result"
    }
   ],
   "source": [
    "df.loc[~df['ROTULO_MANUAL'].isin(rotulos)] = 'NONE'\n",
    "\n",
    "groupby_rotulo = df.groupby('ROTULO_MANUAL')\n",
    "groupby_rotulo.count()"
   ]
  },
  {
   "cell_type": "code",
   "execution_count": 5,
   "metadata": {},
   "outputs": [],
   "source": [
    "x = df['EMENTA_NORM'].values.astype('U')\n",
    "y = df['ROTULO_MANUAL'].values"
   ]
  },
  {
   "cell_type": "code",
   "execution_count": 6,
   "metadata": {},
   "outputs": [
    {
     "name": "stdout",
     "output_type": "stream",
     "text": [
      "Counter({'NONE': 2416, 'EXP': 1313, 'BAN': 730, 'DAN': 674, 'CON': 621, 'OIG': 572, 'SEG': 563, 'OIE': 546})\n",
      "Counter({'NONE': 775, 'EXP': 471, 'BAN': 241, 'DAN': 214, 'CON': 211, 'SEG': 198, 'OIE': 189, 'OIG': 180})\n"
     ]
    }
   ],
   "source": [
    "from sklearn.model_selection import train_test_split\n",
    "\n",
    "x_train, x_test, y_train, y_test = train_test_split(x, y)\n",
    "\n",
    "import collections\n",
    "\n",
    "print(collections.Counter(y_train))\n",
    "print(collections.Counter(y_test))"
   ]
  },
  {
   "cell_type": "code",
   "execution_count": 7,
   "metadata": {},
   "outputs": [
    {
     "name": "stderr",
     "output_type": "stream",
     "text": [
      "sklearn.linear_model.logistic:947: ConvergenceWarning: lbfgs failed to converge. Increase the number of iterations.\n"
     ]
    },
    {
     "data": {
      "text/plain": [
       "Pipeline(memory=None,\n",
       "         steps=[('vect',\n",
       "                 CountVectorizer(analyzer='word', binary=False,\n",
       "                                 decode_error='strict',\n",
       "                                 dtype=<class 'numpy.int64'>, encoding='utf-8',\n",
       "                                 input='content', lowercase=True, max_df=1.0,\n",
       "                                 max_features=None, min_df=1,\n",
       "                                 ngram_range=(1, 1), preprocessor=None,\n",
       "                                 stop_words=None, strip_accents=None,\n",
       "                                 token_pattern='(?u)\\\\b\\\\w\\\\w+\\\\b',\n",
       "                                 tokenizer=None, vocabulary=Non...\n",
       "                                     func=<function <lambda> at 0x7fa6fed69158>,\n",
       "                                     inv_kw_args=None, inverse_func=None,\n",
       "                                     kw_args=None, pass_y='deprecated',\n",
       "                                     validate=True)),\n",
       "                ('clf',\n",
       "                 LogisticRegression(C=1.0, class_weight=None, dual=False,\n",
       "                                    fit_intercept=True, intercept_scaling=1,\n",
       "                                    l1_ratio=None, max_iter=100,\n",
       "                                    multi_class='auto', n_jobs=None,\n",
       "                                    penalty='l2', random_state=None,\n",
       "                                    solver='lbfgs', tol=0.0001, verbose=0,\n",
       "                                    warm_start=False))],\n",
       "         verbose=False)"
      ]
     },
     "execution_count": 7,
     "metadata": {},
     "output_type": "execute_result"
    }
   ],
   "source": [
    "from sklearn.pipeline import Pipeline\n",
    "from sklearn.feature_extraction.text import CountVectorizer\n",
    "from sklearn.feature_extraction.text import TfidfTransformer\n",
    "from sklearn.preprocessing import FunctionTransformer\n",
    "\n",
    "from sklearn.linear_model import LogisticRegression\n",
    "\n",
    "vect = CountVectorizer()\n",
    "tfidf = TfidfTransformer()\n",
    "clf = LogisticRegression(solver='lbfgs', multi_class='auto')\n",
    "\n",
    "text_clf = Pipeline([\n",
    "    ('vect', vect),\n",
    "    ('tfidf', tfidf),\n",
    "    ('dense', FunctionTransformer(lambda x: x.todense(), accept_sparse=True, validate=True)),\n",
    "    ('clf', clf)\n",
    "])\n",
    "\n",
    "\n",
    "text_clf.fit(x_train, y_train)"
   ]
  },
  {
   "cell_type": "code",
   "execution_count": 8,
   "metadata": {},
   "outputs": [],
   "source": [
    "# Predict Class\n",
    "y_pred = text_clf.predict(x_test)"
   ]
  },
  {
   "cell_type": "code",
   "execution_count": 9,
   "metadata": {},
   "outputs": [
    {
     "name": "stdout",
     "output_type": "stream",
     "text": [
      "              precision    recall  f1-score   support\n",
      "\n",
      "         BAN       0.83      0.80      0.81       241\n",
      "         CON       0.70      0.74      0.72       211\n",
      "         DAN       0.77      0.80      0.79       214\n",
      "         EXP       0.93      0.96      0.94       471\n",
      "        NONE       1.00      1.00      1.00       775\n",
      "         OIE       0.88      0.84      0.86       189\n",
      "         OIG       0.91      0.83      0.87       180\n",
      "         SEG       0.87      0.84      0.85       198\n",
      "\n",
      "    accuracy                           0.90      2479\n",
      "   macro avg       0.86      0.85      0.86      2479\n",
      "weighted avg       0.90      0.90      0.90      2479\n",
      "\n"
     ]
    }
   ],
   "source": [
    "from sklearn import metrics\n",
    "\n",
    "print(metrics.classification_report(y_test, y_pred))"
   ]
  },
  {
   "cell_type": "code",
   "execution_count": 11,
   "metadata": {},
   "outputs": [
    {
     "data": {
      "text/plain": [
       "<matplotlib.axes._subplots.AxesSubplot at 0x7fa6daf08128>"
      ]
     },
     "execution_count": 11,
     "metadata": {},
     "output_type": "execute_result"
    },
    {
     "data": {
      "image/png": "[encoded data removed]",
      "text/plain": [
       "<Figure size 432x288 with 2 Axes>"
      ]
     },
     "metadata": {},
     "output_type": "display_data"
    }
   ],
   "source": [
    "from sklearn.metrics import confusion_matrix\n",
    "\n",
    "import seaborn as sn\n",
    "import pandas as pd\n",
    "import matplotlib.pyplot as plt\n",
    "\n",
    "cnf_matrix = confusion_matrix(y_test, y_pred)\n",
    "\n",
    "labels = set(y_test)\n",
    "\n",
    "df_cm = pd.DataFrame(cnf_matrix, range(len(labels)), range(len(labels)))\n",
    "sn.set(font_scale=1.4)\n",
    "sn.heatmap(df_cm, xticklabels=labels, yticklabels=labels, annot=True, fmt='g', annot_kws={\"size\": 16})"
   ]
  },
  {
   "cell_type": "code",
   "execution_count": 13,
   "metadata": {},
   "outputs": [],
   "source": [
    "from sklearn import metrics\n",
    "\n",
    "metrics_dict = {}\n",
    "\n",
    "result = metrics.classification_report(y_test, y_pred, output_dict=True)\n",
    "\n",
    "for label in result.keys():\n",
    "    if type(result[label]) == float:\n",
    "        metrics_dict[label] = result[label]\n",
    "    else:\n",
    "        for metric in result[label].keys():\n",
    "            metrics_dict[label + '-' + metric] = str(result[label][metric])\n",
    "\n",
    "experiment.log_metrics(metrics_dict)"
   ]
  },
  {
   "cell_type": "code",
   "execution_count": 14,
   "metadata": {},
   "outputs": [
    {
     "name": "stderr",
     "output_type": "stream",
     "text": [
      "COMET INFO: ----------------------------\n",
      "COMET INFO: Comet.ml Experiment Summary:\n",
      "COMET INFO:   Data:\n",
      "COMET INFO:     url: https://www.comet.ml/piantino/igti-projeto-aplicado/55bb829d74bf4bbc982f66ab6ac660ea\n",
      "COMET INFO:   Metrics:\n",
      "COMET INFO:               BAN-f1-score: 0.8118393234672304\n",
      "COMET INFO:              BAN-precision: 0.8275862068965517\n",
      "COMET INFO:                 BAN-recall: 0.7966804979253111\n",
      "COMET INFO:                BAN-support: 241\n",
      "COMET INFO:               CON-f1-score: 0.7235023041474655\n",
      "COMET INFO:              CON-precision: 0.7040358744394619\n",
      "COMET INFO:                 CON-recall: 0.7440758293838863\n",
      "COMET INFO:                CON-support: 211\n",
      "COMET INFO:               DAN-f1-score: 0.7871853546910756\n",
      "COMET INFO:              DAN-precision: 0.7713004484304933\n",
      "COMET INFO:                 DAN-recall: 0.8037383177570093\n",
      "COMET INFO:                DAN-support: 214\n",
      "COMET INFO:               EXP-f1-score: 0.94375\n",
      "COMET INFO:              EXP-precision: 0.9263803680981595\n",
      "COMET INFO:                 EXP-recall: 0.9617834394904459\n",
      "COMET INFO:                EXP-support: 471\n",
      "COMET INFO:              NONE-f1-score: 1.0\n",
      "COMET INFO:             NONE-precision: 1.0\n",
      "COMET INFO:                NONE-recall: 1.0\n",
      "COMET INFO:               NONE-support: 775\n",
      "COMET INFO:               OIE-f1-score: 0.856368563685637\n",
      "COMET INFO:              OIE-precision: 0.8777777777777778\n",
      "COMET INFO:                 OIE-recall: 0.8359788359788359\n",
      "COMET INFO:                OIE-support: 189\n",
      "COMET INFO:               OIG-f1-score: 0.872093023255814\n",
      "COMET INFO:              OIG-precision: 0.9146341463414634\n",
      "COMET INFO:                 OIG-recall: 0.8333333333333334\n",
      "COMET INFO:                OIG-support: 180\n",
      "COMET INFO:               SEG-f1-score: 0.8542199488491048\n",
      "COMET INFO:              SEG-precision: 0.8652849740932642\n",
      "COMET INFO:                 SEG-recall: 0.8434343434343434\n",
      "COMET INFO:                SEG-support: 198\n",
      "COMET INFO:                   accuracy: 0.8971359419120614\n",
      "COMET INFO:         macro avg-f1-score: 0.856119814762041\n",
      "COMET INFO:        macro avg-precision: 0.8608749745096465\n",
      "COMET INFO:           macro avg-recall: 0.8523780746628957\n",
      "COMET INFO:          macro avg-support: 2479\n",
      "COMET INFO:      weighted avg-f1-score: 0.8972336150178953\n",
      "COMET INFO:     weighted avg-precision: 0.8980410915365404\n",
      "COMET INFO:        weighted avg-recall: 0.8971359419120614\n",
      "COMET INFO:       weighted avg-support: 2479\n",
      "COMET INFO: ----------------------------\n",
      "COMET INFO: Uploading stats to Comet before program termination (may take several seconds)\n"
     ]
    }
   ],
   "source": [
    "experiment.end()"
   ]
  }
 ],
 "metadata": {
  "kernelspec": {
   "display_name": "Python 3",
   "language": "python",
   "name": "python3"
  },
  "language_info": {
   "codemirror_mode": {
    "name": "ipython",
    "version": 3
   },
   "file_extension": ".py",
   "mimetype": "text/x-python",
   "name": "python",
   "nbconvert_exporter": "python",
   "pygments_lexer": "ipython3",
   "version": "3.6.8"
  }
 },
 "nbformat": 4,
 "nbformat_minor": 2
}
