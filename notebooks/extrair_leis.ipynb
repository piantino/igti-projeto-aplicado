{
 "cells": [
  {
   "cell_type": "code",
   "execution_count": 1,
   "metadata": {},
   "outputs": [
    {
     "data": {
      "text/plain": [
       "(9914, 3)"
      ]
     },
     "execution_count": 1,
     "metadata": {},
     "output_type": "execute_result"
    }
   ],
   "source": [
    "import pandas as pd\n",
    "\n",
    "colunas = ['PROCESSO', 'EMENTA', 'ROTULO_MANUAL']\n",
    "\n",
    "ementas_df = pd.read_csv('../data/ementas_rotulos_manual.csv', header=0, sep=',', quotechar='\"', usecols=colunas)\n",
    "\n",
    "ementas_df.shape"
   ]
  },
  {
   "cell_type": "code",
   "execution_count": 2,
   "metadata": {},
   "outputs": [
    {
     "data": {
      "text/plain": [
       "'18551 leis'"
      ]
     },
     "execution_count": 2,
     "metadata": {},
     "output_type": "execute_result"
    }
   ],
   "source": [
    "%run '../app/leis.py'\n",
    "\n",
    "leis = []\n",
    "\n",
    "extrator = Leis()\n",
    "\n",
    "for index, row in ementas_df.iterrows():\n",
    "    for lei in extrator.get_leis(row['EMENTA']):\n",
    "        leis.append([row['PROCESSO'], lei])\n",
    "\n",
    "\"{} leis\".format(len(leis))"
   ]
  },
  {
   "cell_type": "code",
   "execution_count": 3,
   "metadata": {},
   "outputs": [
    {
     "data": {
      "text/html": [
       "<div>\n",
       "<style scoped>\n",
       "    .dataframe tbody tr th:only-of-type {\n",
       "        vertical-align: middle;\n",
       "    }\n",
       "\n",
       "    .dataframe tbody tr th {\n",
       "        vertical-align: top;\n",
       "    }\n",
       "\n",
       "    .dataframe thead th {\n",
       "        text-align: right;\n",
       "    }\n",
       "</style>\n",
       "<table border=\"1\" class=\"dataframe\">\n",
       "  <thead>\n",
       "    <tr style=\"text-align: right;\">\n",
       "      <th></th>\n",
       "      <th>PROCESSO</th>\n",
       "      <th>EMENTA</th>\n",
       "      <th>ROTULO_MANUAL</th>\n",
       "      <th>LEI</th>\n",
       "    </tr>\n",
       "  </thead>\n",
       "  <tbody>\n",
       "    <tr>\n",
       "      <th>0</th>\n",
       "      <td>00039604720138240039</td>\n",
       "      <td>&lt;br&gt;   EMBARGOS DE DECLARAÇÃO. PRETENDIDA REDI...</td>\n",
       "      <td>CDC</td>\n",
       "      <td>artigo 535</td>\n",
       "    </tr>\n",
       "    <tr>\n",
       "      <th>1</th>\n",
       "      <td>00039604720138240039</td>\n",
       "      <td>&lt;br&gt;   EMBARGOS DE DECLARAÇÃO. PRETENDIDA REDI...</td>\n",
       "      <td>CDC</td>\n",
       "      <td>9656/1998</td>\n",
       "    </tr>\n",
       "    <tr>\n",
       "      <th>2</th>\n",
       "      <td>00039604720138240039</td>\n",
       "      <td>&lt;br&gt;   EMBARGOS DE DECLARAÇÃO. PRETENDIDA REDI...</td>\n",
       "      <td>CDC</td>\n",
       "      <td>616/2012</td>\n",
       "    </tr>\n",
       "    <tr>\n",
       "      <th>3</th>\n",
       "      <td>00039604720138240039</td>\n",
       "      <td>&lt;br&gt;   APELAÇÃO CÍVEL. AÇÃO DECLARATÓRIA C/C R...</td>\n",
       "      <td>CDC</td>\n",
       "      <td>artigo 535</td>\n",
       "    </tr>\n",
       "    <tr>\n",
       "      <th>4</th>\n",
       "      <td>00039604720138240039</td>\n",
       "      <td>&lt;br&gt;   APELAÇÃO CÍVEL. AÇÃO DECLARATÓRIA C/C R...</td>\n",
       "      <td>CDC</td>\n",
       "      <td>9656/1998</td>\n",
       "    </tr>\n",
       "  </tbody>\n",
       "</table>\n",
       "</div>"
      ],
      "text/plain": [
       "               PROCESSO                                             EMENTA  \\\n",
       "0  00039604720138240039  <br>   EMBARGOS DE DECLARAÇÃO. PRETENDIDA REDI...   \n",
       "1  00039604720138240039  <br>   EMBARGOS DE DECLARAÇÃO. PRETENDIDA REDI...   \n",
       "2  00039604720138240039  <br>   EMBARGOS DE DECLARAÇÃO. PRETENDIDA REDI...   \n",
       "3  00039604720138240039  <br>   APELAÇÃO CÍVEL. AÇÃO DECLARATÓRIA C/C R...   \n",
       "4  00039604720138240039  <br>   APELAÇÃO CÍVEL. AÇÃO DECLARATÓRIA C/C R...   \n",
       "\n",
       "  ROTULO_MANUAL         LEI  \n",
       "0           CDC  artigo 535  \n",
       "1           CDC   9656/1998  \n",
       "2           CDC    616/2012  \n",
       "3           CDC  artigo 535  \n",
       "4           CDC   9656/1998  "
      ]
     },
     "execution_count": 3,
     "metadata": {},
     "output_type": "execute_result"
    }
   ],
   "source": [
    "leis_df = pd.DataFrame(data=leis, columns = ['PROCESSO', 'LEI'])\n",
    "\n",
    "df = pd.merge(ementas_df, leis_df, on=['PROCESSO'])\n",
    "\n",
    "df.head()"
   ]
  },
  {
   "cell_type": "markdown",
   "metadata": {},
   "source": [
    "Sem normalizar foram encontrados 1679 leis únicas"
   ]
  },
  {
   "cell_type": "code",
   "execution_count": 4,
   "metadata": {},
   "outputs": [
    {
     "data": {
      "text/html": [
       "<div>\n",
       "<style scoped>\n",
       "    .dataframe tbody tr th:only-of-type {\n",
       "        vertical-align: middle;\n",
       "    }\n",
       "\n",
       "    .dataframe tbody tr th {\n",
       "        vertical-align: top;\n",
       "    }\n",
       "\n",
       "    .dataframe thead th {\n",
       "        text-align: right;\n",
       "    }\n",
       "</style>\n",
       "<table border=\"1\" class=\"dataframe\">\n",
       "  <thead>\n",
       "    <tr style=\"text-align: right;\">\n",
       "      <th></th>\n",
       "      <th>PROCESSO</th>\n",
       "      <th>EMENTA</th>\n",
       "      <th>ROTULO_MANUAL</th>\n",
       "      <th>LEI</th>\n",
       "    </tr>\n",
       "  </thead>\n",
       "  <tbody>\n",
       "    <tr>\n",
       "      <th>count</th>\n",
       "      <td>45119</td>\n",
       "      <td>45119</td>\n",
       "      <td>45119</td>\n",
       "      <td>45119</td>\n",
       "    </tr>\n",
       "    <tr>\n",
       "      <th>unique</th>\n",
       "      <td>4541</td>\n",
       "      <td>6123</td>\n",
       "      <td>28</td>\n",
       "      <td>845</td>\n",
       "    </tr>\n",
       "    <tr>\n",
       "      <th>top</th>\n",
       "      <td>40094280220178240000</td>\n",
       "      <td>&lt;br&gt;   OMISSÃO NÃO VERIFICADA. INEXISTÊNCIA DO...</td>\n",
       "      <td>EXP</td>\n",
       "      <td>artigo 1022</td>\n",
       "    </tr>\n",
       "    <tr>\n",
       "      <th>freq</th>\n",
       "      <td>1188</td>\n",
       "      <td>951</td>\n",
       "      <td>11698</td>\n",
       "      <td>9149</td>\n",
       "    </tr>\n",
       "  </tbody>\n",
       "</table>\n",
       "</div>"
      ],
      "text/plain": [
       "                    PROCESSO  \\\n",
       "count                  45119   \n",
       "unique                  4541   \n",
       "top     40094280220178240000   \n",
       "freq                    1188   \n",
       "\n",
       "                                                   EMENTA ROTULO_MANUAL  \\\n",
       "count                                               45119         45119   \n",
       "unique                                               6123            28   \n",
       "top     <br>   OMISSÃO NÃO VERIFICADA. INEXISTÊNCIA DO...           EXP   \n",
       "freq                                                  951         11698   \n",
       "\n",
       "                LEI  \n",
       "count         45119  \n",
       "unique          845  \n",
       "top     artigo 1022  \n",
       "freq           9149  "
      ]
     },
     "execution_count": 4,
     "metadata": {},
     "output_type": "execute_result"
    }
   ],
   "source": [
    "df.describe()"
   ]
  },
  {
   "cell_type": "code",
   "execution_count": 5,
   "metadata": {},
   "outputs": [
    {
     "data": {
      "text/html": [
       "<div>\n",
       "<style scoped>\n",
       "    .dataframe tbody tr th:only-of-type {\n",
       "        vertical-align: middle;\n",
       "    }\n",
       "\n",
       "    .dataframe tbody tr th {\n",
       "        vertical-align: top;\n",
       "    }\n",
       "\n",
       "    .dataframe thead th {\n",
       "        text-align: right;\n",
       "    }\n",
       "</style>\n",
       "<table border=\"1\" class=\"dataframe\">\n",
       "  <thead>\n",
       "    <tr style=\"text-align: right;\">\n",
       "      <th></th>\n",
       "      <th>LEI</th>\n",
       "    </tr>\n",
       "    <tr>\n",
       "      <th>LEI</th>\n",
       "      <th></th>\n",
       "    </tr>\n",
       "  </thead>\n",
       "  <tbody>\n",
       "    <tr>\n",
       "      <th>1/1975</th>\n",
       "      <td>9</td>\n",
       "    </tr>\n",
       "    <tr>\n",
       "      <th>1/2012</th>\n",
       "      <td>1</td>\n",
       "    </tr>\n",
       "    <tr>\n",
       "      <th>100/2015</th>\n",
       "      <td>1</td>\n",
       "    </tr>\n",
       "    <tr>\n",
       "      <th>101/2010</th>\n",
       "      <td>4</td>\n",
       "    </tr>\n",
       "    <tr>\n",
       "      <th>10144/2002</th>\n",
       "      <td>2</td>\n",
       "    </tr>\n",
       "  </tbody>\n",
       "</table>\n",
       "</div>"
      ],
      "text/plain": [
       "            LEI\n",
       "LEI            \n",
       "1/1975        9\n",
       "1/2012        1\n",
       "100/2015      1\n",
       "101/2010      4\n",
       "10144/2002    2"
      ]
     },
     "execution_count": 5,
     "metadata": {},
     "output_type": "execute_result"
    }
   ],
   "source": [
    "groupby = df.groupby('LEI')\n",
    "\n",
    "groupby[['LEI']].count().head()"
   ]
  },
  {
   "cell_type": "code",
   "execution_count": 6,
   "metadata": {},
   "outputs": [
    {
     "data": {
      "text/html": [
       "<div>\n",
       "<style scoped>\n",
       "    .dataframe tbody tr th:only-of-type {\n",
       "        vertical-align: middle;\n",
       "    }\n",
       "\n",
       "    .dataframe tbody tr th {\n",
       "        vertical-align: top;\n",
       "    }\n",
       "\n",
       "    .dataframe thead th {\n",
       "        text-align: right;\n",
       "    }\n",
       "</style>\n",
       "<table border=\"1\" class=\"dataframe\">\n",
       "  <thead>\n",
       "    <tr style=\"text-align: right;\">\n",
       "      <th></th>\n",
       "      <th>PROCESSO</th>\n",
       "      <th>EMENTA</th>\n",
       "      <th>ROTULO_MANUAL</th>\n",
       "      <th>LEI</th>\n",
       "    </tr>\n",
       "  </thead>\n",
       "  <tbody>\n",
       "    <tr>\n",
       "      <th>0</th>\n",
       "      <td>00039604720138240039</td>\n",
       "      <td>&lt;br&gt;   EMBARGOS DE DECLARAÇÃO. PRETENDIDA REDI...</td>\n",
       "      <td>CDC</td>\n",
       "      <td>artigo 535</td>\n",
       "    </tr>\n",
       "    <tr>\n",
       "      <th>1</th>\n",
       "      <td>00039604720138240039</td>\n",
       "      <td>&lt;br&gt;   EMBARGOS DE DECLARAÇÃO. PRETENDIDA REDI...</td>\n",
       "      <td>CDC</td>\n",
       "      <td>9656/1998</td>\n",
       "    </tr>\n",
       "    <tr>\n",
       "      <th>3</th>\n",
       "      <td>00039604720138240039</td>\n",
       "      <td>&lt;br&gt;   APELAÇÃO CÍVEL. AÇÃO DECLARATÓRIA C/C R...</td>\n",
       "      <td>CDC</td>\n",
       "      <td>artigo 535</td>\n",
       "    </tr>\n",
       "    <tr>\n",
       "      <th>4</th>\n",
       "      <td>00039604720138240039</td>\n",
       "      <td>&lt;br&gt;   APELAÇÃO CÍVEL. AÇÃO DECLARATÓRIA C/C R...</td>\n",
       "      <td>CDC</td>\n",
       "      <td>9656/1998</td>\n",
       "    </tr>\n",
       "    <tr>\n",
       "      <th>6</th>\n",
       "      <td>00039604720138240039</td>\n",
       "      <td>&lt;br&gt;   EMBARGOS DE DECLARAÇÃO. SUSCITAÇÃO DE C...</td>\n",
       "      <td>CDC</td>\n",
       "      <td>artigo 535</td>\n",
       "    </tr>\n",
       "  </tbody>\n",
       "</table>\n",
       "</div>"
      ],
      "text/plain": [
       "               PROCESSO                                             EMENTA  \\\n",
       "0  00039604720138240039  <br>   EMBARGOS DE DECLARAÇÃO. PRETENDIDA REDI...   \n",
       "1  00039604720138240039  <br>   EMBARGOS DE DECLARAÇÃO. PRETENDIDA REDI...   \n",
       "3  00039604720138240039  <br>   APELAÇÃO CÍVEL. AÇÃO DECLARATÓRIA C/C R...   \n",
       "4  00039604720138240039  <br>   APELAÇÃO CÍVEL. AÇÃO DECLARATÓRIA C/C R...   \n",
       "6  00039604720138240039  <br>   EMBARGOS DE DECLARAÇÃO. SUSCITAÇÃO DE C...   \n",
       "\n",
       "  ROTULO_MANUAL         LEI  \n",
       "0           CDC  artigo 535  \n",
       "1           CDC   9656/1998  \n",
       "3           CDC  artigo 535  \n",
       "4           CDC   9656/1998  \n",
       "6           CDC  artigo 535  "
      ]
     },
     "execution_count": 6,
     "metadata": {},
     "output_type": "execute_result"
    }
   ],
   "source": [
    "c = groupby.filter(lambda x: len(x) > 100)\n",
    "\n",
    "c.head()"
   ]
  },
  {
   "cell_type": "code",
   "execution_count": 7,
   "metadata": {},
   "outputs": [],
   "source": [
    "df_g = df.groupby(by=['ROTULO_MANUAL', 'LEI'])['ROTULO_MANUAL'].count().unstack('ROTULO_MANUAL', fill_value=0)"
   ]
  },
  {
   "cell_type": "code",
   "execution_count": 8,
   "metadata": {},
   "outputs": [],
   "source": [
    "import seaborn as sns\n",
    "from matplotlib import pyplot\n",
    "\n",
    "pyplot.figure(figsize = (16,30))\n",
    "ax = sns.heatmap(df_g)"
   ]
  },
  {
   "cell_type": "code",
   "execution_count": 14,
   "metadata": {},
   "outputs": [],
   "source": [
    "df_csv = df.drop(['EMENTA'], axis=1)\n",
    "df_csv.to_csv('../data/leis.csv')"
   ]
  }
 ],
 "metadata": {
  "kernelspec": {
   "display_name": "Python 3",
   "language": "python",
   "name": "python3"
  },
  "language_info": {
   "codemirror_mode": {
    "name": "ipython",
    "version": 3
   },
   "file_extension": ".py",
   "mimetype": "text/x-python",
   "name": "python",
   "nbconvert_exporter": "python",
   "pygments_lexer": "ipython3",
   "version": "3.6.5"
  }
 },
 "nbformat": 4,
 "nbformat_minor": 2
}
