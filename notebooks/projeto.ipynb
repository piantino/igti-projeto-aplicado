{
 "cells": [
  {
   "cell_type": "markdown",
   "metadata": {
    "colab_type": "text",
    "id": "Klokl0lqA8eD"
   },
   "source": [
    "# Projeto Aplicado\n",
    "\n",
    "> Andre Porto Leal Piantino\n",
    "\n",
    "> IGTI - MBA em Aprendizado de Máquina - AMQ181A\n",
    "\n",
    "> Linha de Especialização em \n",
    "Machine Learning Aplicado ao Processamento de Textos\n",
    "\n",
    "> Orientador Professor Rafael Albergaria Carmo\n"
   ]
  },
  {
   "cell_type": "markdown",
   "metadata": {
    "colab_type": "text",
    "id": "nnNltGcqcB9N"
   },
   "source": [
    "## Índice\n",
    "\n",
    "\n",
    "---\n",
    "\n",
    "### [Definição do problema](1-problema/definicao.ipynb)\n",
    "\n",
    "### [Coleta de dados](2-coleta/2-Coleta_dados.ipynb)\n",
    "\n",
    "### [Pré-processamento](3-pre/3-pre-processamento.ipynb)\n",
    "\n",
    "### Aprendizado de modelos\n",
    "(Será supervisionado)\n",
    "\n",
    "### Avaliação e comparação de modelos\n",
    "\n",
    "\n",
    "### Conclusão"
   ]
  },
  {
   "cell_type": "markdown",
   "metadata": {
    "colab_type": "text",
    "id": "blKU7XWna4pm"
   },
   "source": [
    "## Referências\n",
    "\n",
    "\n",
    "---\n",
    "\n",
    "\n",
    "[Enunciado do Projeto Aplicado - AMQ](https://drive.google.com/open?id=10yqIEXK9u-T11Myu_0rJCQ0E7eZtdETX)\n",
    "\n",
    "http://www.davidsbatista.net/blog/2017/04/01/document_classification/\n",
    "\n",
    "https://www.organicadigital.com/seeds/algoritmo-de-classificacao-naive-bayes/\n",
    "\n",
    "https://www.analyticsvidhya.com/blog/2018/04/a-comprehensive-guide-to-understand-and-implement-text-classification-in-python/"
   ]
  },
  {
   "cell_type": "markdown",
   "metadata": {
    "colab_type": "text",
    "id": "M9nTR2rlYNi8"
   },
   "source": [
    "## Lembrar de:\n",
    "\n",
    "---\n",
    "\n",
    "\n",
    "\n",
    " http://www.stj.jus.br/sites/STJ/default/pt_BR/Comunica%C3%A7%C3%A3o/noticias/Not%C3%ADcias/STJ-d%C3%A1-primeiro-passo-para-implantar-intelig%C3%AAncia-artificial-na-rotina-do-processo\n",
    "\n",
    "**Blogs passados pelo professor**\n",
    "\n",
    "https://hackernoon.com/how-to-build-a-simple-spam-detecting-machine-learning-classifier-4471fe6b816e\n",
    "\n",
    "https://medium.com/mlreview/choosing-components-for-personal-deep-learning-machine-56bae813e34a\n",
    "\n",
    "**Artigos**\n",
    "\n",
    "https://arxiv.org/abs/1708.02709\n",
    "\n",
    "https://sci-hub.tw/10.2200/s00762ed1v01y201703hlt037#\n"
   ]
  }
 ],
 "metadata": {
  "colab": {
   "name": "projeto.ipynb",
   "provenance": [],
   "version": "0.3.2"
  },
  "kernelspec": {
   "display_name": "Python 3",
   "language": "python",
   "name": "python3"
  },
  "language_info": {
   "codemirror_mode": {
    "name": "ipython",
    "version": 3
   },
   "file_extension": ".py",
   "mimetype": "text/x-python",
   "name": "python",
   "nbconvert_exporter": "python",
   "pygments_lexer": "ipython3",
   "version": "3.6.5"
  }
 },
 "nbformat": 4,
 "nbformat_minor": 1
}
