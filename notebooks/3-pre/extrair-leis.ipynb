{
 "cells": [
  {
   "cell_type": "code",
   "execution_count": 13,
   "metadata": {},
   "outputs": [],
   "source": [
    "import re\n",
    "\n",
    "def extrair_leis(texto):\n",
    "    terms = re.findall('\\s(\\d*\\.?\\\\d+\\/\\\\d+)[^\\d\\/]', texto.lower())\n",
    "    return list(set(terms))"
   ]
  },
  {
   "cell_type": "code",
   "execution_count": 14,
   "metadata": {},
   "outputs": [],
   "source": [
    "from elasticsearch import Elasticsearch\n",
    "from elasticsearch import helpers\n",
    "from elasticsearch_dsl import Q, Search\n",
    "\n",
    "client = Elasticsearch()\n",
    "\n",
    "search = Search(using=client, index='pa')\n",
    "\n",
    "result = search.query(Q({\"match\": {\"ementa\" : {\"query\" : \"lei\"}}}))\n",
    "\n",
    "response = result.scan()\n",
    "#response = result.execute()"
   ]
  },
  {
   "cell_type": "code",
   "execution_count": 15,
   "metadata": {},
   "outputs": [],
   "source": [
    "dict_processo = {\n",
    "    'numero': [],\n",
    "    'seq': [],\n",
    "    'lei': []\n",
    "}\n",
    "\n",
    "for h in response:\n",
    "    leis = extrair_leis(h.ementa)\n",
    "    for lei in leis:\n",
    "        # TODO: Normalizar lei: 9.656/98 -> 9.656/1998\n",
    "        dict_processo['numero'].append(h.numero)\n",
    "        dict_processo['seq'].append(h.seq)\n",
    "        dict_processo['lei'].append(lei)\n"
   ]
  },
  {
   "cell_type": "code",
   "execution_count": 16,
   "metadata": {},
   "outputs": [
    {
     "data": {
      "text/html": [
       "<div>\n",
       "<style scoped>\n",
       "    .dataframe tbody tr th:only-of-type {\n",
       "        vertical-align: middle;\n",
       "    }\n",
       "\n",
       "    .dataframe tbody tr th {\n",
       "        vertical-align: top;\n",
       "    }\n",
       "\n",
       "    .dataframe thead th {\n",
       "        text-align: right;\n",
       "    }\n",
       "</style>\n",
       "<table border=\"1\" class=\"dataframe\">\n",
       "  <thead>\n",
       "    <tr style=\"text-align: right;\">\n",
       "      <th></th>\n",
       "      <th>numero</th>\n",
       "      <th>seq</th>\n",
       "      <th>lei</th>\n",
       "    </tr>\n",
       "  </thead>\n",
       "  <tbody>\n",
       "    <tr>\n",
       "      <th>0</th>\n",
       "      <td>00159543720068240033</td>\n",
       "      <td>00000</td>\n",
       "      <td>8.078/1990</td>\n",
       "    </tr>\n",
       "    <tr>\n",
       "      <th>1</th>\n",
       "      <td>00114985020118240039</td>\n",
       "      <td>00000</td>\n",
       "      <td>12.004/2009</td>\n",
       "    </tr>\n",
       "    <tr>\n",
       "      <th>2</th>\n",
       "      <td>40033208820168240000</td>\n",
       "      <td>00000</td>\n",
       "      <td>911/1969</td>\n",
       "    </tr>\n",
       "    <tr>\n",
       "      <th>3</th>\n",
       "      <td>03027240620158240010</td>\n",
       "      <td>00000</td>\n",
       "      <td>6.194/1974</td>\n",
       "    </tr>\n",
       "    <tr>\n",
       "      <th>4</th>\n",
       "      <td>03027240620158240010</td>\n",
       "      <td>00000</td>\n",
       "      <td>11.482/2007</td>\n",
       "    </tr>\n",
       "  </tbody>\n",
       "</table>\n",
       "</div>"
      ],
      "text/plain": [
       "                 numero    seq          lei\n",
       "0  00159543720068240033  00000   8.078/1990\n",
       "1  00114985020118240039  00000  12.004/2009\n",
       "2  40033208820168240000  00000     911/1969\n",
       "3  03027240620158240010  00000   6.194/1974\n",
       "4  03027240620158240010  00000  11.482/2007"
      ]
     },
     "execution_count": 16,
     "metadata": {},
     "output_type": "execute_result"
    }
   ],
   "source": [
    "import pandas as pd\n",
    "\n",
    "df = pd.DataFrame(dict_processo)\n",
    "\n",
    "df.head()"
   ]
  },
  {
   "cell_type": "code",
   "execution_count": 17,
   "metadata": {},
   "outputs": [],
   "source": [
    "writer = pd.ExcelWriter('data/leis.xlsx', engine='xlsxwriter')\n",
    "\n",
    "# Convert the dataframe to an XlsxWriter Excel object.\n",
    "df.to_excel(writer, sheet_name='Sheet1')\n",
    "\n",
    "# Close the Pandas Excel writer and output the Excel file.\n",
    "writer.save()"
   ]
  },
  {
   "cell_type": "markdown",
   "metadata": {},
   "source": [
    "**Nota:**\n",
    "\n",
    "Verificar depois a relação com artigos:\n",
    "\n",
    "CPC\n",
    "CC\n",
    "CCom\n",
    "CPC - Código de Processo Civil\n",
    "CC - Código Civil\n",
    "CCom - Código Comercial\n",
    "ECA - Estatuto da Criança e do Adolescente\n",
    "LRF - Lei de Recuperação e Falencia\n",
    "CP - código penal\n",
    "CPP - Código de proceso penal"
   ]
  }
 ],
 "metadata": {
  "kernelspec": {
   "display_name": "Python 3",
   "language": "python",
   "name": "python3"
  },
  "language_info": {
   "codemirror_mode": {
    "name": "ipython",
    "version": 3
   },
   "file_extension": ".py",
   "mimetype": "text/x-python",
   "name": "python",
   "nbconvert_exporter": "python",
   "pygments_lexer": "ipython3",
   "version": "3.6.5"
  }
 },
 "nbformat": 4,
 "nbformat_minor": 2
}
