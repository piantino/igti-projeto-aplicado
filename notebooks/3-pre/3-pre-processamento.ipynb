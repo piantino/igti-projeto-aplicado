{
 "cells": [
  {
   "cell_type": "markdown",
   "metadata": {
    "colab_type": "text",
    "id": "cpG7hH3qAjjy"
   },
   "source": [
    "# Pré-Processamento\n",
    "\n",
    "[Início](https://colab.research.google.com/drive/1C_ABLsSftrwWAQmMkbRRiKXly5xW-V6y#scrollTo=Klokl0lqA8eD)\n",
    "\n",
    "\n",
    "\n",
    "\n",
    "> O dado a ser processado é a **ementa** do acordão de processo, que é do **tipo de dado textual**."
   ]
  },
  {
   "cell_type": "markdown",
   "metadata": {
    "colab_type": "text",
    "id": "-u7khZRnBAK9"
   },
   "source": [
    "## Tamanho inicial\n",
    "\n",
    "Coleta de ~100 mil ementas com metadados: 170MB\n",
    "\n",
    "## Codificação\n",
    "\n",
    "A codificação no banco é ISO-??? e deve ser alterada para UTF-8 nos arquivos e outros armazenamentos.\n",
    "\n",
    "\n",
    "## Limpeza\n",
    "\n",
    "* Sinônimos: (Colocar aqui???) \n",
    "* Padronização de formato: (Verificar formato para artigo)\n",
    "\n",
    "## Análise léxica\n",
    "\n",
    "* Remoção da marcação HTML (Tag) **\"br\"**\n",
    "* Eliminação de espaços duplos\n",
    "\n",
    "## Estração de termos\n",
    "\n",
    "\n",
    "Visando diminuir o escopo serão extraidos:\n",
    "\n",
    "\n",
    "*   Artigos\n",
    "\n",
    "```\n",
    "ementa:/art(s|igo)?/\n",
    "\n",
    "# CPC/2015\n",
    "ementa:/CPC/\n",
    "\n",
    "# CPP\n",
    "ementa:/CPP/\n",
    "\n",
    "\n",
    "ementa:/Súmula/\n",
    "\n",
    "\n",
    "GET /_search\n",
    "{\n",
    "    \"query\": {\n",
    "        \"match\" : {\n",
    "            \"ementa\" : {\n",
    "                \"query\" : \"lei n\",\n",
    "                \"operator\" : \"and\"\n",
    "            }\n",
    "        }\n",
    "    }\n",
    "}\n",
    "\n",
    "```\n",
    "\n",
    "*   Referencias\n",
    "\n",
    "Outros processos?\n",
    "\n",
    "\n",
    "\n",
    "\n",
    "\n"
   ]
  },
  {
   "cell_type": "markdown",
   "metadata": {
    "colab_type": "text",
    "id": "ypKhEYpPCT47"
   },
   "source": [
    "## Eliminação de Stopwords\n",
    "\n",
    "\n",
    "\n",
    "\n"
   ]
  },
  {
   "cell_type": "code",
   "execution_count": 0,
   "metadata": {
    "colab": {},
    "colab_type": "code",
    "id": "kRUJCh7TK5Ni"
   },
   "outputs": [],
   "source": [
    "from stop_words import get_stop_words\n",
    "\n",
    "get_stop_words(\"pt\")\n"
   ]
  },
  {
   "cell_type": "markdown",
   "metadata": {
    "colab_type": "text",
    "id": "BQARMyLMLZ3g"
   },
   "source": [
    "## Stemming"
   ]
  },
  {
   "cell_type": "markdown",
   "metadata": {
    "colab_type": "text",
    "id": "h2usU6oPLkVH"
   },
   "source": [
    "## Indexação\n",
    "\n",
    "A indexação para a análise dos dados é feita com o motor de busca Elasticsearch que usa índice invertido do Lucene como base.\n",
    "\n",
    "Para a visualização foi utilizado a ferramenta Kibana que é a interface gráfica padrão para o Elasticsearch.\n",
    "\n",
    "(Adicionar link do código fonte)"
   ]
  },
  {
   "cell_type": "markdown",
   "metadata": {
    "colab_type": "text",
    "id": "ClNbAlpKN-_K"
   },
   "source": [
    "## Thesaurus (Pesquisar)"
   ]
  }
 ],
 "metadata": {
  "colab": {
   "collapsed_sections": [],
   "name": "3-pre-processamento.ipynb",
   "provenance": [],
   "version": "0.3.2"
  },
  "kernelspec": {
   "display_name": "Python 3",
   "language": "python",
   "name": "python3"
  },
  "language_info": {
   "codemirror_mode": {
    "name": "ipython",
    "version": 3
   },
   "file_extension": ".py",
   "mimetype": "text/x-python",
   "name": "python",
   "nbconvert_exporter": "python",
   "pygments_lexer": "ipython3",
   "version": "3.6.5"
  }
 },
 "nbformat": 4,
 "nbformat_minor": 1
}
