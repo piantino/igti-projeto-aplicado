{
 "cells": [
  {
   "cell_type": "markdown",
   "metadata": {},
   "source": [
    "# Limpeza e normalização"
   ]
  },
  {
   "cell_type": "code",
   "execution_count": 1,
   "metadata": {},
   "outputs": [],
   "source": [
    "from elasticsearch import Elasticsearch\n",
    "from elasticsearch import helpers\n",
    "from elasticsearch_dsl import Q, Search\n",
    "\n",
    "client = Elasticsearch()\n",
    "\n",
    "search = Search(using=client, index='pa')\n",
    "\n",
    "#result = search.query(Q({\"match\": {\"numero\": {\"query\": \"00005560420138240163\"}}}))\n",
    "result = search.query(Q({\"match_all\": {}}))\n",
    "\n",
    "#response = result.scan()\n",
    "response = result.execute()"
   ]
  },
  {
   "cell_type": "code",
   "execution_count": 2,
   "metadata": {},
   "outputs": [],
   "source": [
    "import re\n",
    "import nltk\n",
    "import string\n",
    "from stop_words import get_stop_words\n",
    "from unidecode import unidecode\n",
    "\n",
    "def limpar(response):\n",
    "    \n",
    "    remove_punctuation_map = dict((ord(char), None) for char in string.punctuation)\n",
    "    \n",
    "    for h in response:\n",
    "        #minúsculo\n",
    "        h.texto = h.ementa.lower()\n",
    "        # remove tag '<br>'\n",
    "        h.texto = h.texto.replace('<br>', '')\n",
    "        \n",
    "        # quebra em palavras\n",
    "        words = nltk.tokenize.casual.casual_tokenize(h.texto)\n",
    "        #remove pontuações\n",
    "        words = [word.translate(remove_punctuation_map) for word in words]\n",
    "        # tira stop words\n",
    "        words = remover_stop_words(words)\n",
    "        # remove acentos\n",
    "        words = [unidecode(word) for word in words]\n",
    "        \n",
    "        h.texto = \" \".join(words)\n",
    "        \n",
    "        # remove espaços em branco repetivos\n",
    "        h.texto = re.sub(r'\\s{2,}', ' ', h.texto)\n",
    "        \n",
    "        yield h"
   ]
  },
  {
   "cell_type": "code",
   "execution_count": 3,
   "metadata": {},
   "outputs": [],
   "source": [
    "stop_words_pt = get_stop_words(\"pt\")\n",
    "\n",
    "def remover_stop_words(words):\n",
    "     return [word for word in words if word != '' and word not in stop_words_pt]"
   ]
  },
  {
   "cell_type": "code",
   "execution_count": 5,
   "metadata": {},
   "outputs": [],
   "source": [
    "# Realizar Stemming?\n",
    "\n",
    "def normalizar(texto):\n",
    "    return texto"
   ]
  },
  {
   "cell_type": "code",
   "execution_count": 4,
   "metadata": {},
   "outputs": [
    {
     "name": "stdout",
     "output_type": "stream",
     "text": [
      "apelacao civel acao declaratoria nulidade protesto julgamento antecipado sentenca improcedencia irresignacao demandante 1 sustentado inadimplemento contratual razao ma prestacao servicos tese rejeitada ausencia prova sobre alegado inadimplemento ma prestacao servico comprovado descumprimento contrato inviavel aplicacao excecao contrato cumprido 2 pedido reducao honorarios advocaticios tese rejeitada verba fixada importe r 2000 00 dois mil reais demonstra adequada recurso interposto sede cautelar conhecido reproducao integral razoes presente recurso recurso conhecido desprovido\n",
      "apelacao civel acao responsabilidade obrigacional securitaria pedido intervencao caixa economica federal instruida prova documental relacao parte autores pressupostos presentes remessa justica federal necessidade cisao feito recurso seguradora aplicacao codigo defesa consumidor lides envolvam discussao acerca contrato seguro comprovacao vicios construcao unidade habitacional demandante remanescente danos excluidos expressamente cobertura securitaria interpretacao clausulas maneira favoravel consumidor indenizacao devida resistencia seguradora pagamento previsao multa contratual pedido afastamento condenacao re pagamento honorarios assistente tecnico contratado autores onus sucumbencia despesas processuais devem ser arcadas vencido art 20 SS 2o codigo processo civil 73 sentenca mantida recurso desprovido i julgar recursos especiais representativos controversia resp n 1091 393 sc resp n 1091 363 sc superior tribunal justica estabeleceu forma clara precisa requisitos admissao caixa economica federal feito figurar terceira interessada processos pleiteia indenizacao securitaria relativas imoveis financiados recursos sistema financeiro habitacao desse modo manifestado comprovado documentalmente interesse juridico cef relacao maior parte autores demanda justificar intervencao lide e necessaria cisao feito remessa copia autos justica federal julgamento demandas envolvem contratos mencionados expressamente vinculados ramo 66 ii segundo art 47 lei n 8078 1990 clausulas contratuais interpretadas maneira favoravel consumidor sobretudo hipotese vertente tratar tipico contrato adesao imposto mutuarios portanto existindo previsao contrato seguro habitacional cobertura sobre ameaca desmoronamento aliada fato pode admitir ausencia responsabilidade caso vicios construcao expressamente excluidos apolice condenacao re pagamento indenizacao securitaria e medida impoe iii incide multa moratoria sobre valor indenizacao termos previstos apolice seguradora apos citada apresenta resposta nega cobertura securitaria danos apresentados unidades habitacionais resistindo pois pretensao postulante iv principio sucumbencia adotado codigo processo civil obriga vencido pagar vencedor despesas processuais honorarios advocaticios assim gastos despendidos realizacao prova pericial devem ser reembolsados vencido in casu demandada pois tais despesas incluemse naquelas previstas art 20 SS 2o codigo processo civil 1973 remuneracao assistente tecnico\n",
      "apelacao civel acao revisional contrato cedula credito rotativo sentenca improcedencia irresignacao autora capitalizacao mensal juros admitida contratacao expressa capitalizacao diaria juros inovacao recursal comissao permanencia ausencia interesse recursal fixacao honorarios advocaticios recursais favor apelada recurso conhecido\n",
      "agravo instrumento embargos execucao insurgencia embargante posterior julgamento feito origem perda objeto recursal extincao insurgencia forma art 932 inciso iii codigo processo civil 2015 art 557 caput cpc 1973 recurso prejudicado\n",
      "apelacao civel execucao titulo extrajudicial extincao processo resolucao merito abandono causa inteligencia art 267 iii SS 1o cpc 73 intimacao pessoal exequente impulsionar feito precedida regular intimacao advogado atendimento inercia 30 trinta dias abandono configurado possibilidade extincao execucao embargada inaplicabilidade enunciado sumula 240 stj sentenca mantida recurso conhecido desprovido\n",
      "apelacao civel cautelar exibicao documentos devida comprovacao previo requerimento via administrativa interesse agir caracterizado fixacao multa cominatoria caso descumprimento inviabilidade busca apreensao documentos mostra medida efetiva minoracao honorarios advocaticios incidencia artigo 85 SS SS 2o 8o cpc 2015 recurso provido pontos fixacao honorarios recursais\n",
      "apelacao civel acao revisional contrato mutuo aquisicao veiculo magistrado primeira instancia julga parcialmente procedentes pleitos vertidos exordial irresignacao consumidor direito intertemporal decisao publicada 36 16 aplicacao enunciados administrativos ns 2 3 7 stj incidencia codigo processo civil 2015 juros remuneratorios admissao recurso especial n 1061 530 rs trata multiplicidade recursos fundamento identico questao direito representativo controversia julgamento sob relatoria ministra nancy andrighi estipulou 1 ausencia abusividade estipulacao juros remuneratorios superiores 12 ano 2 possibilidade revisao taxas juros remuneratorios caracterizada relacao consumo abusividade restar cabalmente demonstrada ante peculiaridades julgamento concreto hipotese vertente percentual previsto avenca suplanta taxa media praticada mercado abusividade patenteada limitacao juros compensatorios teto veiculado banco central imperativa reforma sentenca quanto tema onus sucumbencia alteracao sentenca neste grau jurisdicao recalibragem necessaria honorarios advocaticios fixados observancia peculiaridades caso concreto acordo preceitos estabelecidos art 85 SS 2o codigo fux honorarios sucumbenciais recursais inteligencia art 85 SS SS 1o 11 codigo fux possibilidade fixacao oficio razao existencia condenacao pagamento verba profissional origem entendimento sedimentado corte cidadania rebeldia provida\n",
      "indenizatoria pessoa juridica direito privado conta corrente contrato previsao necessidade assinatura apenas administradores ademais ato constitutivo previa limitacoes acesso recursos financeiros clube suspeicao desvio fundos presidente meio emissao saque cheques responsabilidade civil cooperativa credito evidenciada ausencia ato ilicito alteracao estatuto social posterior exigia assinatura dois membros administracao movimentacoes pecuniarias emissao cartulas anteriores modificacao assinatura contrato primeira alteracao estatuto social apelante prescindivel aval ambos tesoureiro presidente realizacao movimentacoes financeiras conta clube passou ser exigido apenas registro referida modificacao estatutaria considerandose cheques sacados quais recorrente reclama indenizacao emitidos mes anterior alteracao constata ato ilicito recorrida autorizar pagamento destes face aposta assinatura apenas entao presidente cartulas apelo nega provimento\n",
      "apelacao civel acao declaratoria inexistencia debito c c reparacao danos morais inscricao indevida cadastro inadimplentes responsabilidade objetiva dever indenizar dano in re ipsa quantum indenizatorio majoracao impoe verba advocaticia elevacao 15 valor condenacao apelo provido parte e presumida ocorrencia danos morais inscricao indevida consumidor cadastros protecao credito\n",
      "agravo instrumento acao busca apreensao alienacao fiduciaria veiculo automotor decisao recorrida deferiu liminar busca apreensao bem ressaltando liberacao ocorrera somente apos pagamento despesas decorrentes estadia outros valores estipulados autoridade administrativa insurgencia banco demandante 1 pretensa isencao pagamento despesas deposito veiculo apreendido argumento tais encargos devem ser suportados devedor fiduciario exercer posse direta veiculo tese afastada credor fiduciario detem responsabilidade legal arcar todos dispendios relativos guarda conservacao bem dentre quais incluemse destinados remocao deposito eventuais multas exegese art 262 SS 2o codigo transito brasileiro entendimento ademais consolidado superior tribunal justica corte 2 alegacao responsabilidade despesas deposito devem ser limitadas periodo 30 trinta dias termos art 262 caput codigo transito brasileiro tese rejeitada responsaveis apreensao deposito veiculo estado empresa proprietaria patio abrigado integrantes lide circunstancia impossibilita analise questao sede busca apreensao precedentes recurso conhecido desprovido\n"
     ]
    }
   ],
   "source": [
    "for h in limpar(response):\n",
    "    print(h.texto)"
   ]
  }
 ],
 "metadata": {
  "kernelspec": {
   "display_name": "Python 3",
   "language": "python",
   "name": "python3"
  },
  "language_info": {
   "codemirror_mode": {
    "name": "ipython",
    "version": 3
   },
   "file_extension": ".py",
   "mimetype": "text/x-python",
   "name": "python",
   "nbconvert_exporter": "python",
   "pygments_lexer": "ipython3",
   "version": "3.6.5"
  }
 },
 "nbformat": 4,
 "nbformat_minor": 2
}
