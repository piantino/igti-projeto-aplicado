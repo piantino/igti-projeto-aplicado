{
 "cells": [
  {
   "cell_type": "code",
   "execution_count": 1,
   "metadata": {},
   "outputs": [],
   "source": [
    "import pandas as pd\n",
    "\n",
    "colunas = ['PROCESSO', 'EMENTA', 'ROTULO_MANUAL']\n",
    "\n",
    "df = pd.read_csv('../data/ementas_rotulos_manual.csv', header=0, sep=',', quotechar='\"', usecols=colunas)"
   ]
  },
  {
   "cell_type": "code",
   "execution_count": 2,
   "metadata": {},
   "outputs": [
    {
     "data": {
      "text/html": [
       "<div>\n",
       "<style scoped>\n",
       "    .dataframe tbody tr th:only-of-type {\n",
       "        vertical-align: middle;\n",
       "    }\n",
       "\n",
       "    .dataframe tbody tr th {\n",
       "        vertical-align: top;\n",
       "    }\n",
       "\n",
       "    .dataframe thead th {\n",
       "        text-align: right;\n",
       "    }\n",
       "</style>\n",
       "<table border=\"1\" class=\"dataframe\">\n",
       "  <thead>\n",
       "    <tr style=\"text-align: right;\">\n",
       "      <th></th>\n",
       "      <th>PROCESSO</th>\n",
       "      <th>EMENTA</th>\n",
       "      <th>ROTULO_MANUAL</th>\n",
       "    </tr>\n",
       "  </thead>\n",
       "  <tbody>\n",
       "    <tr>\n",
       "      <th>0</th>\n",
       "      <td>00039604720138240039</td>\n",
       "      <td>&lt;br&gt;   EMBARGOS DE DECLARAÇÃO. PRETENDIDA REDI...</td>\n",
       "      <td>CDC</td>\n",
       "    </tr>\n",
       "    <tr>\n",
       "      <th>1</th>\n",
       "      <td>00039604720138240039</td>\n",
       "      <td>&lt;br&gt;   APELAÇÃO CÍVEL. AÇÃO DECLARATÓRIA C/C R...</td>\n",
       "      <td>CDC</td>\n",
       "    </tr>\n",
       "    <tr>\n",
       "      <th>2</th>\n",
       "      <td>00039604720138240039</td>\n",
       "      <td>&lt;br&gt;   EMBARGOS DE DECLARAÇÃO. SUSCITAÇÃO DE C...</td>\n",
       "      <td>CDC</td>\n",
       "    </tr>\n",
       "    <tr>\n",
       "      <th>3</th>\n",
       "      <td>00024255420138240081</td>\n",
       "      <td>&lt;br&gt;   APELAÇÃO CÍVEL. AÇÃO DE INDENIZAÇÃO POR...</td>\n",
       "      <td>DAN</td>\n",
       "    </tr>\n",
       "    <tr>\n",
       "      <th>4</th>\n",
       "      <td>00176621120138240023</td>\n",
       "      <td>&lt;br&gt;   APELAÇÃO CÍVEL. AÇÃO INDENIZATÓRIA POR ...</td>\n",
       "      <td>DAN</td>\n",
       "    </tr>\n",
       "  </tbody>\n",
       "</table>\n",
       "</div>"
      ],
      "text/plain": [
       "               PROCESSO                                             EMENTA  \\\n",
       "0  00039604720138240039  <br>   EMBARGOS DE DECLARAÇÃO. PRETENDIDA REDI...   \n",
       "1  00039604720138240039  <br>   APELAÇÃO CÍVEL. AÇÃO DECLARATÓRIA C/C R...   \n",
       "2  00039604720138240039  <br>   EMBARGOS DE DECLARAÇÃO. SUSCITAÇÃO DE C...   \n",
       "3  00024255420138240081  <br>   APELAÇÃO CÍVEL. AÇÃO DE INDENIZAÇÃO POR...   \n",
       "4  00176621120138240023  <br>   APELAÇÃO CÍVEL. AÇÃO INDENIZATÓRIA POR ...   \n",
       "\n",
       "  ROTULO_MANUAL  \n",
       "0           CDC  \n",
       "1           CDC  \n",
       "2           CDC  \n",
       "3           DAN  \n",
       "4           DAN  "
      ]
     },
     "execution_count": 2,
     "metadata": {},
     "output_type": "execute_result"
    }
   ],
   "source": [
    "df.head()"
   ]
  },
  {
   "cell_type": "code",
   "execution_count": 3,
   "metadata": {},
   "outputs": [],
   "source": [
    "def tratar_texto(texto):\n",
    "    texto = texto.lower()\n",
    "    texto = texto.replace('<br>', '')\n",
    "    return texto"
   ]
  },
  {
   "cell_type": "code",
   "execution_count": 4,
   "metadata": {},
   "outputs": [],
   "source": [
    "def abreviacoes(texto):\n",
    "    texto = texto.replace('art.', 'artigo')\n",
    "    return texto"
   ]
  },
  {
   "cell_type": "code",
   "execution_count": 5,
   "metadata": {},
   "outputs": [],
   "source": [
    "import string\n",
    "\n",
    "remove_punctuation_map = dict((ord(char), None) for char in string.punctuation)\n",
    "\n",
    "def remover_pontuacao(texto):\n",
    "    return texto.translate(remove_punctuation_map)"
   ]
  },
  {
   "cell_type": "code",
   "execution_count": 6,
   "metadata": {},
   "outputs": [],
   "source": [
    "from stop_words import get_stop_words\n",
    "\n",
    "stop_words_pt = get_stop_words(\"pt\")\n",
    "\n",
    "def remover_stop_words(texto):\n",
    "    words = [word for word in texto.split() if len(word) > 1 and word not in stop_words_pt]\n",
    "    return ' '.join(words)"
   ]
  },
  {
   "cell_type": "code",
   "execution_count": 7,
   "metadata": {},
   "outputs": [],
   "source": [
    "import re\n",
    "from nltk import tokenize\n",
    "from unidecode import unidecode\n",
    "\n",
    "def normalizar(texto):\n",
    "    texto = tratar_texto(texto)\n",
    "    texto = remover_pontuacao(texto)\n",
    "           \n",
    "    # quebra em palavras\n",
    "    texto = remover_stop_words(texto)\n",
    "    \n",
    "    # remover acentuação\n",
    "    texto = unidecode(texto)\n",
    "    \n",
    "    #removendo números\n",
    "    texto = re.sub('[^a-zA-Z ]+', '', texto)\n",
    "\n",
    "    return texto"
   ]
  },
  {
   "cell_type": "code",
   "execution_count": 8,
   "metadata": {},
   "outputs": [
    {
     "data": {
      "text/plain": [
       "'<br>   APELAÇÃO CÍVEL. AÇÃO DECLARATÓRIA C/C REPETIÇÃO DE INDÉBITO. PLANO DE SAÚDE FECHADO OFERECIDO POR OPERADORA DE AUTOGESTÃO (GEAP). REAJUSTE DE MENSALIDADE EM RAZÃO DA FAIXA ETÁRIA. SENTENÇA DE PROCEDÊNCIA. APELO DA RÉ. NULIDADE DO REAJUSTE NÃO VERIFICADA À LUZ DAS DIRETRIZES TRAÇADAS EM JULGAMENTO PARADIGMÁTICO DO STJ - RESP N. 1568244, AFETADO AO RITO DOS RECURSOS REPRESENTATIVOS DE CONTROVÉRSIA. SENTENÇA DE PROCEDÊNCIA REFORMADA. APELO PROVIDO.<br>   \"O reajuste de mensalidade de plano de saúde individual ou familiar fundado na mudança de faixa etária do beneficiário é válido desde que (i) haja previsão contratual, (ii) sejam observadas as normas expedidas pelos órgãos governamentais reguladores e (iii) não sejam aplicados percentuais desarrazoados ou aleatórios que, concretamente e sem base atuarial idônea, onerem excessivamente o consumidor ou discriminem o idoso.<br>   (...)<br>   A abusividade dos aumentos das mensalidades de plano de saúde por inserção do usuário em nova faixa de risco, sobretudo de participantes idosos, deverá ser aferida em cada caso concreto. Tal reajuste será adequado e razoável sempre que o percentual de majoração for justificado atuarialmente, a permitir a continuidade contratual tanto de jovens quanto de idosos, bem como a sobrevivência do próprio fundo mútuo [...] (REsp 1568244/RJ, Rel. Ministro RICARDO VILLAS BÔAS CUEVA, SEGUNDA SEÇÃO, julgado em 14/12/2016, DJe 19/12/2016)<br>'"
      ]
     },
     "execution_count": 8,
     "metadata": {},
     "output_type": "execute_result"
    }
   ],
   "source": [
    "df['EMENTA'][1]"
   ]
  },
  {
   "cell_type": "code",
   "execution_count": 9,
   "metadata": {},
   "outputs": [
    {
     "data": {
      "text/plain": [
       "'apelacao civel acao declaratoria cc repeticao indebito plano saude fechado oferecido operadora autogestao geap reajuste mensalidade razao faixa etaria sentenca procedencia apelo re nulidade reajuste verificada luz diretrizes tracadas julgamento paradigmatico stj resp  afetado rito recursos representativos controversia sentenca procedencia reformada apelo provido reajuste mensalidade plano saude individual familiar fundado mudanca faixa etaria beneficiario valido desde previsao contratual ii observadas normas expedidas orgaos governamentais reguladores iii aplicados percentuais desarrazoados aleatorios concretamente base atuarial idonea onerem excessivamente consumidor discriminem idoso abusividade aumentos mensalidades plano saude insercao usuario nova faixa risco sobretudo participantes idosos devera ser aferida cada caso concreto tal reajuste adequado razoavel sempre percentual majoracao justificado atuarialmente permitir continuidade contratual tanto jovens quanto idosos bem sobrevivencia proprio fundo mutuo resp rj rel ministro ricardo villas boas cueva segunda secao julgado  dje '"
      ]
     },
     "execution_count": 9,
     "metadata": {},
     "output_type": "execute_result"
    }
   ],
   "source": [
    "normalizar(df['EMENTA'][1])"
   ]
  },
  {
   "cell_type": "markdown",
   "metadata": {},
   "source": [
    "É possível verificar nesse exemplo que as palavras mais utilizadas se referem ao \"Superior Tribunal de Justiça\" e \"Justiça Federal\", o que não colabora para a identificação do tema abordado."
   ]
  },
  {
   "cell_type": "code",
   "execution_count": 10,
   "metadata": {},
   "outputs": [],
   "source": [
    "from nltk.probability import FreqDist\n",
    "\n",
    "words = normalizar(df['EMENTA'][5]).split()\n",
    "fdist = FreqDist(words)"
   ]
  },
  {
   "cell_type": "code",
   "execution_count": 18,
   "metadata": {},
   "outputs": [
    {
     "data": {
      "image/png": "[encoded data removed]",
      "text/plain": [
       "<Figure size 432x288 with 1 Axes>"
      ]
     },
     "metadata": {},
     "output_type": "display_data"
    }
   ],
   "source": [
    "fdist.plot(10,cumulative=False)"
   ]
  },
  {
   "cell_type": "code",
   "execution_count": 12,
   "metadata": {},
   "outputs": [],
   "source": [
    "df['EMENTA_NORM'] = df['EMENTA'].apply(lambda e: normalizar(e))"
   ]
  },
  {
   "cell_type": "code",
   "execution_count": 13,
   "metadata": {},
   "outputs": [
    {
     "name": "stdout",
     "output_type": "stream",
     "text": [
      "[nltk_data] Downloading package rslp to /home/piantino/nltk_data...\n",
      "[nltk_data]   Package rslp is already up-to-date!\n"
     ]
    }
   ],
   "source": [
    "import nltk\n",
    "\n",
    "nltk.download('rslp')\n",
    "\n",
    "from nltk.stem import RSLPStemmer\n",
    "\n",
    "stemmer = RSLPStemmer()\n",
    "\n",
    "def radical(texto):\n",
    "    words = [stemmer.stem(word) for word in texto.split()]\n",
    "    return ' '.join(words)"
   ]
  },
  {
   "cell_type": "code",
   "execution_count": 14,
   "metadata": {},
   "outputs": [],
   "source": [
    "df['EMENTA_STEM'] = df['EMENTA_NORM'].apply(lambda e: radical(e))"
   ]
  },
  {
   "cell_type": "code",
   "execution_count": 15,
   "metadata": {},
   "outputs": [
    {
     "data": {
      "text/plain": [
       "'apelaca civel aca declar cc repetica indebit plan saud fech oferec oper autogesta geap reajust mensal raza faix et sentenc procedenc apel re nulidad reajust verific luz diretriz trac julg paradigma stj resp afet rit recurs represent controvers sentenc procedenc reform apel prov reajust mensal plan saud individ famili fund mudanc faix et beneficiari val desd previsa contrat ii observ norm exped orga governament regul iii aplic percent desarrazo aleatori concret bas atuar idone oner excessiv consum discrimin idos abusiv aument mensal plan saud inserca usuari nov faix risc sobretud particip idos dev ser afer cad cas concret tal reajust adequ razoa sempr percent majoraca justific atuar permit continu contrat tant jov quant idos bem sobrevivenc propri fund mutu resp rj rel ministr ricard vill boa cuev segund seca julg dje'"
      ]
     },
     "execution_count": 15,
     "metadata": {},
     "output_type": "execute_result"
    }
   ],
   "source": [
    "df['EMENTA_STEM'][1]"
   ]
  },
  {
   "cell_type": "code",
   "execution_count": 16,
   "metadata": {},
   "outputs": [],
   "source": [
    "df.to_csv('../data/ementas_pre-processadas.csv')"
   ]
  },
  {
   "cell_type": "code",
   "execution_count": 17,
   "metadata": {},
   "outputs": [
    {
     "name": "stdout",
     "output_type": "stream",
     "text": [
      "[nltk_data] Downloading package mac_morpho to\n",
      "[nltk_data]     /home/piantino/nltk_data...\n",
      "[nltk_data]   Package mac_morpho is already up-to-date!\n",
      "[nltk_data] Downloading package punkt to /home/piantino/nltk_data...\n",
      "[nltk_data]   Package punkt is already up-to-date!\n"
     ]
    },
    {
     "data": {
      "text/plain": [
       "[('<', None),\n",
       " ('br', 'N'),\n",
       " ('>', None),\n",
       " ('APELAÇÃO', None),\n",
       " ('CÍVEL', None),\n",
       " ('.', '.'),\n",
       " ('AÇÃO', None),\n",
       " ('DECLARATÓRIA', None),\n",
       " ('C/C', None),\n",
       " ('REPETIÇÃO', None),\n",
       " ('DE', 'NPROP'),\n",
       " ('INDÉBITO', None),\n",
       " ('.', '.'),\n",
       " ('PLANO', None),\n",
       " ('DE', 'NPROP'),\n",
       " ('SAÚDE', None),\n",
       " ('FECHADO', None),\n",
       " ('OFERECIDO', None),\n",
       " ('POR', None),\n",
       " ('OPERADORA', None),\n",
       " ('DE', 'NPROP'),\n",
       " ('AUTOGESTÃO', None),\n",
       " ('(', '('),\n",
       " ('GEAP', None),\n",
       " (')', ')'),\n",
       " ('.', '.'),\n",
       " ('REAJUSTE', None),\n",
       " ('DE', 'NPROP'),\n",
       " ('MENSALIDADE', None),\n",
       " ('EM', None),\n",
       " ('RAZÃO', None),\n",
       " ('DA', 'NPROP'),\n",
       " ('FAIXA', None),\n",
       " ('ETÁRIA', None),\n",
       " ('.', '.'),\n",
       " ('SENTENÇA', None),\n",
       " ('DE', 'NPROP'),\n",
       " ('PROCEDÊNCIA', None),\n",
       " ('.', '.'),\n",
       " ('APELO', None),\n",
       " ('DA', 'NPROP'),\n",
       " ('RÉ', None),\n",
       " ('.', '.'),\n",
       " ('NULIDADE', None),\n",
       " ('DO', None),\n",
       " ('REAJUSTE', None),\n",
       " ('NÃO', None),\n",
       " ('VERIFICADA', None),\n",
       " ('À', 'NPROP'),\n",
       " ('LUZ', None),\n",
       " ('DAS', None),\n",
       " ('DIRETRIZES', None),\n",
       " ('TRAÇADAS', None),\n",
       " ('EM', None),\n",
       " ('JULGAMENTO', None),\n",
       " ('PARADIGMÁTICO', None),\n",
       " ('DO', None),\n",
       " ('STJ', 'NPROP'),\n",
       " ('-', '-'),\n",
       " ('RESP', None),\n",
       " ('N.', 'NPROP'),\n",
       " ('1568244', None),\n",
       " (',', ','),\n",
       " ('AFETADO', None),\n",
       " ('AO', None),\n",
       " ('RITO', None),\n",
       " ('DOS', 'NPROP'),\n",
       " ('RECURSOS', None),\n",
       " ('REPRESENTATIVOS', None),\n",
       " ('DE', 'NPROP'),\n",
       " ('CONTROVÉRSIA', None),\n",
       " ('.', '.'),\n",
       " ('SENTENÇA', None),\n",
       " ('DE', 'NPROP'),\n",
       " ('PROCEDÊNCIA', None),\n",
       " ('REFORMADA', None),\n",
       " ('.', '.'),\n",
       " ('APELO', None),\n",
       " ('PROVIDO.', None),\n",
       " ('<', None),\n",
       " ('br', 'N'),\n",
       " ('>', None),\n",
       " ('``', None),\n",
       " ('O', 'ART'),\n",
       " ('reajuste', 'N'),\n",
       " ('de', 'PREP'),\n",
       " ('mensalidade', 'N'),\n",
       " ('de', 'PREP'),\n",
       " ('plano', 'N'),\n",
       " ('de', 'PREP'),\n",
       " ('saúde', 'N'),\n",
       " ('individual', 'ADJ'),\n",
       " ('ou', 'KC'),\n",
       " ('familiar', 'ADJ'),\n",
       " ('fundado', 'PCP'),\n",
       " ('na', 'NPROP'),\n",
       " ('mudança', 'N'),\n",
       " ('de', 'PREP'),\n",
       " ('faixa', 'N'),\n",
       " ('etária', 'ADJ'),\n",
       " ('do', 'NPROP'),\n",
       " ('beneficiário', 'N'),\n",
       " ('é', 'V'),\n",
       " ('válido', 'ADJ'),\n",
       " ('desde', 'PREP'),\n",
       " ('que', 'PRO-KS-REL'),\n",
       " ('(', '('),\n",
       " ('i', 'NPROP'),\n",
       " (')', ')'),\n",
       " ('haja', 'V'),\n",
       " ('previsão', 'N'),\n",
       " ('contratual', 'ADJ'),\n",
       " (',', ','),\n",
       " ('(', '('),\n",
       " ('ii', None),\n",
       " (')', ')'),\n",
       " ('sejam', 'VAUX'),\n",
       " ('observadas', 'PCP'),\n",
       " ('as', 'ART'),\n",
       " ('normas', 'N'),\n",
       " ('expedidas', None),\n",
       " ('pelos', None),\n",
       " ('órgãos', 'N'),\n",
       " ('governamentais', 'ADJ'),\n",
       " ('reguladores', None),\n",
       " ('e', 'KC'),\n",
       " ('(', '('),\n",
       " ('iii', None),\n",
       " (')', ')'),\n",
       " ('não', 'ADV'),\n",
       " ('sejam', 'VAUX'),\n",
       " ('aplicados', 'PCP'),\n",
       " ('percentuais', 'ADJ'),\n",
       " ('desarrazoados', None),\n",
       " ('ou', 'KC'),\n",
       " ('aleatórios', 'ADJ'),\n",
       " ('que', 'PRO-KS-REL'),\n",
       " (',', ','),\n",
       " ('concretamente', 'ADV'),\n",
       " ('e', 'KC'),\n",
       " ('sem', 'PREP'),\n",
       " ('base', 'N'),\n",
       " ('atuarial', None),\n",
       " ('idônea', 'ADJ'),\n",
       " (',', ','),\n",
       " ('onerem', None),\n",
       " ('excessivamente', 'ADV'),\n",
       " ('o', 'ART'),\n",
       " ('consumidor', 'N'),\n",
       " ('ou', 'KC'),\n",
       " ('discriminem', None),\n",
       " ('o', 'ART'),\n",
       " ('idoso.', None),\n",
       " ('<', None),\n",
       " ('br', 'N'),\n",
       " ('>', None),\n",
       " ('(', '('),\n",
       " ('...', '...'),\n",
       " (')', ')'),\n",
       " ('<', None),\n",
       " ('br', 'N'),\n",
       " ('>', None),\n",
       " ('A', 'ART'),\n",
       " ('abusividade', 'N'),\n",
       " ('dos', 'NPROP'),\n",
       " ('aumentos', 'N'),\n",
       " ('das', 'NPROP'),\n",
       " ('mensalidades', 'N'),\n",
       " ('de', 'PREP'),\n",
       " ('plano', 'N'),\n",
       " ('de', 'PREP'),\n",
       " ('saúde', 'N'),\n",
       " ('por', 'PREP|+'),\n",
       " ('inserção', 'N'),\n",
       " ('do', 'NPROP'),\n",
       " ('usuário', 'N'),\n",
       " ('em', 'PREP|+'),\n",
       " ('nova', 'ADJ'),\n",
       " ('faixa', 'N'),\n",
       " ('de', 'PREP'),\n",
       " ('risco', 'N'),\n",
       " (',', ','),\n",
       " ('sobretudo', 'ADV'),\n",
       " ('de', 'PREP'),\n",
       " ('participantes', 'N'),\n",
       " ('idosos', 'N'),\n",
       " (',', ','),\n",
       " ('deverá', 'VAUX'),\n",
       " ('ser', 'VAUX'),\n",
       " ('aferida', None),\n",
       " ('em', 'PREP|+'),\n",
       " ('cada', 'PROADJ'),\n",
       " ('caso', 'N'),\n",
       " ('concreto', 'ADJ'),\n",
       " ('.', '.'),\n",
       " ('Tal', 'PROADJ'),\n",
       " ('reajuste', 'N'),\n",
       " ('será', 'VAUX'),\n",
       " ('adequado', 'PCP'),\n",
       " ('e', 'KC'),\n",
       " ('razoável', 'ADJ'),\n",
       " ('sempre', 'ADV'),\n",
       " ('que', 'PRO-KS-REL'),\n",
       " ('o', 'ART'),\n",
       " ('percentual', 'N'),\n",
       " ('de', 'PREP'),\n",
       " ('majoração', None),\n",
       " ('for', 'V'),\n",
       " ('justificado', 'PCP'),\n",
       " ('atuarialmente', None),\n",
       " (',', ','),\n",
       " ('a', 'ART'),\n",
       " ('permitir', 'V'),\n",
       " ('a', 'ART'),\n",
       " ('continuidade', 'N'),\n",
       " ('contratual', 'ADJ'),\n",
       " ('tanto', 'KC|['),\n",
       " ('de', 'PREP'),\n",
       " ('jovens', 'N'),\n",
       " ('quanto', 'KC|]'),\n",
       " ('de', 'PREP'),\n",
       " ('idosos', 'N'),\n",
       " (',', ','),\n",
       " ('bem', 'ADV'),\n",
       " ('como', 'PREP'),\n",
       " ('a', 'ART'),\n",
       " ('sobrevivência', 'N'),\n",
       " ('do', 'NPROP'),\n",
       " ('próprio', 'PROADJ'),\n",
       " ('fundo', 'N'),\n",
       " ('mútuo', 'ADJ'),\n",
       " ('[', '['),\n",
       " ('...', '...'),\n",
       " (']', None),\n",
       " ('(', '('),\n",
       " ('REsp', None),\n",
       " ('1568244/RJ', None),\n",
       " (',', ','),\n",
       " ('Rel', None),\n",
       " ('.', '.'),\n",
       " ('Ministro', 'N'),\n",
       " ('RICARDO', 'NPROP'),\n",
       " ('VILLAS', None),\n",
       " ('BÔAS', None),\n",
       " ('CUEVA', None),\n",
       " (',', ','),\n",
       " ('SEGUNDA', None),\n",
       " ('SEÇÃO', None),\n",
       " (',', ','),\n",
       " ('julgado', 'PCP'),\n",
       " ('em', 'PREP|+'),\n",
       " ('14/12/2016', None),\n",
       " (',', ','),\n",
       " ('DJe', None),\n",
       " ('19/12/2016', None),\n",
       " (')', ')'),\n",
       " ('<', None),\n",
       " ('br', 'N'),\n",
       " ('>', None)]"
      ]
     },
     "execution_count": 17,
     "metadata": {},
     "output_type": "execute_result"
    }
   ],
   "source": [
    "import nltk\n",
    "\n",
    "nltk.download('mac_morpho')\n",
    "nltk.download('punkt')\n",
    "\n",
    "tagged_sents = nltk.corpus.mac_morpho.tagged_sents()\n",
    "texto = df['EMENTA'][1]\n",
    "tokens = nltk.word_tokenize(texto)\n",
    "unigram_tagger = nltk.tag.UnigramTagger(tagged_sents)\n",
    "unigram_tagger.tag(tokens)"
   ]
  }
 ],
 "metadata": {
  "kernelspec": {
   "display_name": "Python 3",
   "language": "python",
   "name": "python3"
  },
  "language_info": {
   "codemirror_mode": {
    "name": "ipython",
    "version": 3
   },
   "file_extension": ".py",
   "mimetype": "text/x-python",
   "name": "python",
   "nbconvert_exporter": "python",
   "pygments_lexer": "ipython3",
   "version": "3.6.5"
  }
 },
 "nbformat": 4,
 "nbformat_minor": 2
}
