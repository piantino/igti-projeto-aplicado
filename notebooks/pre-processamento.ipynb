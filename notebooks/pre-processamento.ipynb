{
 "cells": [
  {
   "cell_type": "code",
   "execution_count": 1,
   "metadata": {},
   "outputs": [],
   "source": [
    "import pandas as pd\n",
    "\n",
    "colunas = ['PROCESSO', 'EMENTA', 'ROTULO_MANUAL']\n",
    "\n",
    "df = pd.read_csv('../data/ementas_rotulos_manual.csv', header=0, sep=',', quotechar='\"', usecols=colunas)"
   ]
  },
  {
   "cell_type": "code",
   "execution_count": 2,
   "metadata": {},
   "outputs": [
    {
     "data": {
      "text/html": [
       "<div>\n",
       "<style scoped>\n",
       "    .dataframe tbody tr th:only-of-type {\n",
       "        vertical-align: middle;\n",
       "    }\n",
       "\n",
       "    .dataframe tbody tr th {\n",
       "        vertical-align: top;\n",
       "    }\n",
       "\n",
       "    .dataframe thead th {\n",
       "        text-align: right;\n",
       "    }\n",
       "</style>\n",
       "<table border=\"1\" class=\"dataframe\">\n",
       "  <thead>\n",
       "    <tr style=\"text-align: right;\">\n",
       "      <th></th>\n",
       "      <th>PROCESSO</th>\n",
       "      <th>EMENTA</th>\n",
       "      <th>ROTULO_MANUAL</th>\n",
       "    </tr>\n",
       "  </thead>\n",
       "  <tbody>\n",
       "    <tr>\n",
       "      <th>0</th>\n",
       "      <td>00024255420138240081</td>\n",
       "      <td>&lt;br&gt;   APELAÇÃO CÍVEL. AÇÃO DE INDENIZAÇÃO POR...</td>\n",
       "      <td>DAN</td>\n",
       "    </tr>\n",
       "    <tr>\n",
       "      <th>1</th>\n",
       "      <td>00103872520108240020</td>\n",
       "      <td>&lt;br&gt;   APELAÇÃO CÍVEL. AÇÃO DE RESCISÃO CONTRA...</td>\n",
       "      <td>CON</td>\n",
       "    </tr>\n",
       "    <tr>\n",
       "      <th>2</th>\n",
       "      <td>00103872520108240020</td>\n",
       "      <td>&lt;br&gt;   EMBARGOS DE DECLARAÇÃO EM APELAÇÃO CÍVE...</td>\n",
       "      <td>CON</td>\n",
       "    </tr>\n",
       "    <tr>\n",
       "      <th>3</th>\n",
       "      <td>00067390720078240064</td>\n",
       "      <td>&lt;br&gt;   EMBARGOS DE DECLARAÇÃO EM APELAÇÃO CÍVE...</td>\n",
       "      <td>PRE</td>\n",
       "    </tr>\n",
       "    <tr>\n",
       "      <th>4</th>\n",
       "      <td>00067390720078240064</td>\n",
       "      <td>&lt;br&gt;   EMBARGOS DE DECLARAÇÃO EM APELAÇÃO CÍVE...</td>\n",
       "      <td>PRE</td>\n",
       "    </tr>\n",
       "  </tbody>\n",
       "</table>\n",
       "</div>"
      ],
      "text/plain": [
       "               PROCESSO                                             EMENTA  \\\n",
       "0  00024255420138240081  <br>   APELAÇÃO CÍVEL. AÇÃO DE INDENIZAÇÃO POR...   \n",
       "1  00103872520108240020  <br>   APELAÇÃO CÍVEL. AÇÃO DE RESCISÃO CONTRA...   \n",
       "2  00103872520108240020  <br>   EMBARGOS DE DECLARAÇÃO EM APELAÇÃO CÍVE...   \n",
       "3  00067390720078240064  <br>   EMBARGOS DE DECLARAÇÃO EM APELAÇÃO CÍVE...   \n",
       "4  00067390720078240064  <br>   EMBARGOS DE DECLARAÇÃO EM APELAÇÃO CÍVE...   \n",
       "\n",
       "  ROTULO_MANUAL  \n",
       "0           DAN  \n",
       "1           CON  \n",
       "2           CON  \n",
       "3           PRE  \n",
       "4           PRE  "
      ]
     },
     "execution_count": 2,
     "metadata": {},
     "output_type": "execute_result"
    }
   ],
   "source": [
    "df.head()"
   ]
  },
  {
   "cell_type": "code",
   "execution_count": 3,
   "metadata": {},
   "outputs": [],
   "source": [
    "def tratar_texto(texto):\n",
    "    texto = texto.lower()\n",
    "    texto = texto.replace('<br>', '')\n",
    "    return texto"
   ]
  },
  {
   "cell_type": "code",
   "execution_count": 4,
   "metadata": {},
   "outputs": [],
   "source": [
    "import string\n",
    "\n",
    "remove_punctuation_map = dict((ord(char), None) for char in string.punctuation)\n",
    "\n",
    "def remover_pontuacao(texto):\n",
    "    return texto.translate(remove_punctuation_map)"
   ]
  },
  {
   "cell_type": "code",
   "execution_count": 10,
   "metadata": {},
   "outputs": [],
   "source": [
    "from stop_words import get_stop_words\n",
    "\n",
    "stop_words_pt = get_stop_words(\"pt\")\n",
    "\n",
    "def remover_stop_words(texto):\n",
    "    words = [word for word in texto.split() if len(word) > 1 and word not in stop_words_pt]\n",
    "    return ' '.join(words)"
   ]
  },
  {
   "cell_type": "code",
   "execution_count": 11,
   "metadata": {},
   "outputs": [],
   "source": [
    "import re\n",
    "from nltk import tokenize\n",
    "from unidecode import unidecode\n",
    "\n",
    "def normalizar(texto):\n",
    "    texto = tratar_texto(texto)\n",
    "    texto = remover_pontuacao(texto)\n",
    "           \n",
    "    # quebra em palavras\n",
    "    texto = remover_stop_words(texto)\n",
    "    \n",
    "    # remover acentuação\n",
    "    texto = unidecode(texto)\n",
    "    \n",
    "    #removendo números\n",
    "    texto = re.sub('[^a-zA-Z ]+', '', texto)\n",
    "\n",
    "    return texto"
   ]
  },
  {
   "cell_type": "code",
   "execution_count": 12,
   "metadata": {},
   "outputs": [
    {
     "data": {
      "text/plain": [
       "'<br>   APELAÇÃO CÍVEL. AÇÃO DE RESCISÃO CONTRATUAL CUMULADA COM INDENIZAÇÃO POR PERDAS E DANOS E REINTEGRAÇÃO DE POSSE. CONTRATO PARTICULAR DE COMPROMISSO DE COMPRA E VENDA DE BEM IMÓVEL. INADIMPLEMENTO ATRIBUÍDO À PROMITENTE COMPRADORA. <br>   RECONVENÇÃO. IMÓVEL ADQUIRIDO COM A FINALIDADE DE EXPLORAÇÃO DE UM BAR E WISKERIA. ALVARÁ DE FUNCIONAMENTO DENEGADO PELA MUNICIPALIDADE EM RAZÃO DA INADEQUAÇÃO AO ZONEAMENTO URBANO. PRETENDIDA CONDENAÇÃO DA PROMITENTE VENDEDORA AO PAGAMENTO DE INDENIZAÇÃO PELA DESPESA SUPORTADA COM A EDIFICAÇÃO DO IMÓVEL.<br>   INEXISTÊNCIA DE NOTIFICAÇÃO PREMONITÓRIA. CONDITIO SINE QUA NON. DEMANDA EXTINTA SEM RESOLUÇÃO DO MÉRITO NA FORMA DO ART. 267, INC. VI, DO CÓDIGO DE PROCESSO CIVIL. <br>   RECURSO DA PARTE AUTORA, DEFENDENDO A EFETIVA CONSTITUIÇÃO EM MORA DA CONTRATANTE. INOCORRÊNCIA. NOTIFICAÇÃO COM AVISO DE RECEBIMENTO (AR) NÃO ENTREGUE À DESTINATÁRIA PELA EBCT. AUSÊNCIA DE REQUISITO OBJETIVO AO PROCESSAMENTO VÁLIDO E REGULAR DA DEMANDA. IMÓVEL URBANO. TERRENO FRUTO DE DESMEMBRAMENTO. APLICAÇÃO DA LEI N. 6.766/79. EXEGESE DA SÚMULA 76 DO SUPERIOR TRIBUNAL DE JUSTIÇA.<br>   RECURSO CONHECIDO E DESPROVIDO. <br>   \"1. Nos termos de pacífica jurisprudência desta egrégia Corte, o desfazimento do contrato de promessa de compra e venda exige a prévia interpelação do devedor para constitui-lo em mora.<br>   Precedentes.<br>   2. A matéria foi consolidada no enunciado da Súmula 76/STJ, segundo a qual \"A falta de registro do compromisso de compra e venda de imóvel não dispensa a prévia interpelação para constituir em mora o devedor\".<br>   3. Há necessidade de prévia notificação para configuração da mora quando se trata da modalidade ex persona, porquanto, segundo assentado em precedentes do Superior Tribunal de Justiça, o disposto no artigo 219 do Código de Processo Civil versa somente acerca da mora ex re. Além disso, a citação inicial somente se presta a constituir mora nos casos em que a ação não se funda na mora do réu, hipótese em que esta deve preceder ao ajuizamento, e que não se coaduna com a situação ora tratada. [...]\" (Superior Tribunal de Justiça, AgRg no Resp 862.646/ES, Rel. Ministro Raul Araújo, Quarta Turma, j. 13-11-2012).<br>'"
      ]
     },
     "execution_count": 12,
     "metadata": {},
     "output_type": "execute_result"
    }
   ],
   "source": [
    "df['EMENTA'][1]"
   ]
  },
  {
   "cell_type": "code",
   "execution_count": 13,
   "metadata": {},
   "outputs": [
    {
     "data": {
      "text/plain": [
       "'apelacao civel acao rescisao contratual cumulada indenizacao perdas danos reintegracao posse contrato particular compromisso compra venda bem imovel inadimplemento atribuido promitente compradora reconvencao imovel adquirido finalidade exploracao bar wiskeria alvara funcionamento denegado municipalidade razao inadequacao zoneamento urbano pretendida condenacao promitente vendedora pagamento indenizacao despesa suportada edificacao imovel inexistencia notificacao premonitoria conditio sine qua non demanda extinta resolucao merito forma art  inc vi codigo processo civil recurso parte autora defendendo efetiva constituicao mora contratante inocorrencia notificacao aviso recebimento ar entregue destinataria ebct ausencia requisito objetivo processamento valido regular demanda imovel urbano terreno fruto desmembramento aplicacao lei  exegese sumula  superior tribunal justica recurso conhecido desprovido termos pacifica jurisprudencia desta egregia corte desfazimento contrato promessa compra venda exige previa interpelacao devedor constituilo mora precedentes materia consolidada enunciado sumula stj segundo falta registro compromisso compra venda imovel dispensa previa interpelacao constituir mora devedor necessidade previa notificacao configuracao mora trata modalidade ex persona porquanto segundo assentado precedentes superior tribunal justica disposto artigo  codigo processo civil versa somente acerca mora ex re alem disso citacao inicial somente presta constituir mora casos acao funda mora reu hipotese deve preceder ajuizamento coaduna situacao ora tratada superior tribunal justica agrg resp es rel ministro raul araujo quarta turma '"
      ]
     },
     "execution_count": 13,
     "metadata": {},
     "output_type": "execute_result"
    }
   ],
   "source": [
    "normalizar(df['EMENTA'][1])"
   ]
  },
  {
   "cell_type": "markdown",
   "metadata": {},
   "source": [
    "É possível verificar nesse exemplo que as palavras mais utilizadas se referem ao \"Superior Tribunal de Justiça\" e \"Justiça Federal\", o que não colabora para a identificação do tema abordado."
   ]
  },
  {
   "cell_type": "code",
   "execution_count": 14,
   "metadata": {},
   "outputs": [],
   "source": [
    "from nltk.probability import FreqDist\n",
    "\n",
    "words = normalizar(df['EMENTA'][5]).split()\n",
    "fdist = FreqDist(words)"
   ]
  },
  {
   "cell_type": "code",
   "execution_count": 21,
   "metadata": {},
   "outputs": [
    {
     "data": {
      "image/png": "[encoded data removed]",
      "text/plain": [
       "<Figure size 432x288 with 1 Axes>"
      ]
     },
     "metadata": {},
     "output_type": "display_data"
    }
   ],
   "source": [
    "fdist.plot(10,cumulative=False)"
   ]
  },
  {
   "cell_type": "code",
   "execution_count": 22,
   "metadata": {},
   "outputs": [],
   "source": [
    "df['EMENTA_NORM'] = df['EMENTA'].apply(lambda e: normalizar(e))"
   ]
  },
  {
   "cell_type": "code",
   "execution_count": 32,
   "metadata": {},
   "outputs": [
    {
     "name": "stdout",
     "output_type": "stream",
     "text": [
      "[nltk_data] Downloading package rslp to /home/piantino/nltk_data...\n",
      "[nltk_data]   Package rslp is already up-to-date!\n"
     ]
    }
   ],
   "source": [
    "import nltk\n",
    "\n",
    "nltk.download('rslp')\n",
    "\n",
    "from nltk.stem import RSLPStemmer\n",
    "\n",
    "stemmer = RSLPStemmer()\n",
    "\n",
    "def radical(texto):\n",
    "    words = [stemmer.stem(word) for word in texto.split()]\n",
    "    return ' '.join(words)"
   ]
  },
  {
   "cell_type": "code",
   "execution_count": 33,
   "metadata": {},
   "outputs": [],
   "source": [
    "df['EMENTA_STEM'] = df['EMENTA_NORM'].apply(lambda e: radical(e))"
   ]
  },
  {
   "cell_type": "code",
   "execution_count": 34,
   "metadata": {},
   "outputs": [
    {
     "data": {
      "text/plain": [
       "'apelaca civel aca rescisa contrat cumul indenizaca perd dan reintegraca poss contrat particul compromiss compr vend bem imovel inadimple atribu promit compr reconvenca imovel adquir final exploraca bar wisk alv funcion deneg municipal raza inadequaca zone urban pretend condenaca promit vend pag indenizaca desp suport edificaca imovel inexistenc notificaca premonit conditi sin qua non demand extint resoluca merit form art inc vi codig process civil recurs part autor defend efet constituica mor contrat inocorrenc notificaca avis receb ar entreg destinat ebct ausenc requisit obje process val regul demand imovel urban terren frut desmembr aplicaca lei exeges sumul superi tribun jus recurs conhec desprov term pacif jurisprudenc dest egreg cort desfaz contrat promess compr vend exig prev interpelaca dev constituil mor preced mat consolid enunci sumul stj segund falt registr compromiss compr vend imovel dispens prev interpelaca constitu mor dev necess prev notificaca configuraca mor trat modal ex pers porquant segund assent preced superi tribun jus dispost artig codig process civil vers soment acerc mor ex re alem diss citaca inic soment prest constitu mor cas aca fund mor reu hipotes dev preced ajuiz coadun situaca ora trat superi tribun jus agrg resp es rel ministr raul arauj quart turm'"
      ]
     },
     "execution_count": 34,
     "metadata": {},
     "output_type": "execute_result"
    }
   ],
   "source": [
    "df['EMENTA_STEM'][1]"
   ]
  },
  {
   "cell_type": "code",
   "execution_count": 35,
   "metadata": {},
   "outputs": [],
   "source": [
    "df.to_csv('../data/ementas_pre-processadas.csv')"
   ]
  }
 ],
 "metadata": {
  "kernelspec": {
   "display_name": "Python 3",
   "language": "python",
   "name": "python3"
  },
  "language_info": {
   "codemirror_mode": {
    "name": "ipython",
    "version": 3
   },
   "file_extension": ".py",
   "mimetype": "text/x-python",
   "name": "python",
   "nbconvert_exporter": "python",
   "pygments_lexer": "ipython3",
   "version": "3.6.5"
  }
 },
 "nbformat": 4,
 "nbformat_minor": 2
}
