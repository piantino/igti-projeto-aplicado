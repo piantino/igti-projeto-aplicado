{
 "cells": [
  {
   "cell_type": "code",
   "execution_count": 54,
   "metadata": {},
   "outputs": [],
   "source": [
    "import pandas as pd\n",
    "\n",
    "colunas = ['PROCESSO', 'EMENTA', 'ROTULO_MANUAL']\n",
    "\n",
    "df = pd.read_csv('../data/ementas_rotulos_manual.csv', header=0, sep=',', quotechar='\"', usecols=colunas)"
   ]
  },
  {
   "cell_type": "code",
   "execution_count": 55,
   "metadata": {},
   "outputs": [
    {
     "data": {
      "text/html": [
       "<div>\n",
       "<style scoped>\n",
       "    .dataframe tbody tr th:only-of-type {\n",
       "        vertical-align: middle;\n",
       "    }\n",
       "\n",
       "    .dataframe tbody tr th {\n",
       "        vertical-align: top;\n",
       "    }\n",
       "\n",
       "    .dataframe thead th {\n",
       "        text-align: right;\n",
       "    }\n",
       "</style>\n",
       "<table border=\"1\" class=\"dataframe\">\n",
       "  <thead>\n",
       "    <tr style=\"text-align: right;\">\n",
       "      <th></th>\n",
       "      <th>PROCESSO</th>\n",
       "      <th>EMENTA</th>\n",
       "      <th>ROTULO_MANUAL</th>\n",
       "    </tr>\n",
       "  </thead>\n",
       "  <tbody>\n",
       "    <tr>\n",
       "      <th>0</th>\n",
       "      <td>00024255420138240081</td>\n",
       "      <td>&lt;br&gt;   APELAÇÃO CÍVEL. AÇÃO DE INDENIZAÇÃO POR...</td>\n",
       "      <td>DAN</td>\n",
       "    </tr>\n",
       "    <tr>\n",
       "      <th>1</th>\n",
       "      <td>00103872520108240020</td>\n",
       "      <td>&lt;br&gt;   APELAÇÃO CÍVEL. AÇÃO DE RESCISÃO CONTRA...</td>\n",
       "      <td>CON</td>\n",
       "    </tr>\n",
       "    <tr>\n",
       "      <th>2</th>\n",
       "      <td>00103872520108240020</td>\n",
       "      <td>&lt;br&gt;   EMBARGOS DE DECLARAÇÃO EM APELAÇÃO CÍVE...</td>\n",
       "      <td>CON</td>\n",
       "    </tr>\n",
       "    <tr>\n",
       "      <th>3</th>\n",
       "      <td>00067390720078240064</td>\n",
       "      <td>&lt;br&gt;   EMBARGOS DE DECLARAÇÃO EM APELAÇÃO CÍVE...</td>\n",
       "      <td>PRE</td>\n",
       "    </tr>\n",
       "    <tr>\n",
       "      <th>4</th>\n",
       "      <td>00067390720078240064</td>\n",
       "      <td>&lt;br&gt;   EMBARGOS DE DECLARAÇÃO EM APELAÇÃO CÍVE...</td>\n",
       "      <td>PRE</td>\n",
       "    </tr>\n",
       "  </tbody>\n",
       "</table>\n",
       "</div>"
      ],
      "text/plain": [
       "               PROCESSO                                             EMENTA  \\\n",
       "0  00024255420138240081  <br>   APELAÇÃO CÍVEL. AÇÃO DE INDENIZAÇÃO POR...   \n",
       "1  00103872520108240020  <br>   APELAÇÃO CÍVEL. AÇÃO DE RESCISÃO CONTRA...   \n",
       "2  00103872520108240020  <br>   EMBARGOS DE DECLARAÇÃO EM APELAÇÃO CÍVE...   \n",
       "3  00067390720078240064  <br>   EMBARGOS DE DECLARAÇÃO EM APELAÇÃO CÍVE...   \n",
       "4  00067390720078240064  <br>   EMBARGOS DE DECLARAÇÃO EM APELAÇÃO CÍVE...   \n",
       "\n",
       "  ROTULO_MANUAL  \n",
       "0           DAN  \n",
       "1           CON  \n",
       "2           CON  \n",
       "3           PRE  \n",
       "4           PRE  "
      ]
     },
     "execution_count": 55,
     "metadata": {},
     "output_type": "execute_result"
    }
   ],
   "source": [
    "df.head()"
   ]
  },
  {
   "cell_type": "code",
   "execution_count": 56,
   "metadata": {},
   "outputs": [],
   "source": [
    "def tratar_texto(texto):\n",
    "    texto = texto.lower()\n",
    "    texto = texto.replace('<br>', '')\n",
    "    return texto"
   ]
  },
  {
   "cell_type": "code",
   "execution_count": 57,
   "metadata": {},
   "outputs": [],
   "source": [
    "import string\n",
    "\n",
    "remove_punctuation_map = dict((ord(char), None) for char in string.punctuation)\n",
    "\n",
    "def remover_pontuacao(texto):\n",
    "    return texto.translate(remove_punctuation_map)"
   ]
  },
  {
   "cell_type": "code",
   "execution_count": 75,
   "metadata": {},
   "outputs": [],
   "source": [
    "from stop_words import get_stop_words\n",
    "\n",
    "stop_words_pt = get_stop_words(\"pt\")\n",
    "\n",
    "stop_words_pt = set(get_stop_words('pt'))\n",
    "stop_words_novas = {'oa', 'lei', 'n', 'i', 'art', 'artigo'}\n",
    "stop_words_pt = stop_words_pt.union(stop_words_novas)\n",
    "\n",
    "def remover_stop_words(words):\n",
    "    words = [word for word in words if word != '' and word not in stop_words_pt]\n",
    "    words = [word for word in words if not re.match(r'^(\\w)\\1+$', word) and len(word) > 1]\n",
    "    return words"
   ]
  },
  {
   "cell_type": "code",
   "execution_count": 59,
   "metadata": {},
   "outputs": [],
   "source": [
    "import re\n",
    "from nltk import tokenize\n",
    "from unidecode import unidecode\n",
    "\n",
    "def normalizar(texto):\n",
    "    texto = tratar_texto(texto)\n",
    "    texto = remover_pontuacao(texto)\n",
    "    # removendo acentos\n",
    "    texto = unidecode(texto)\n",
    "    #removendo números\n",
    "    texto = re.sub('[^a-zA-Z ]+', '', texto)\n",
    "        \n",
    "    # quebra em palavras\n",
    "    words = tokenize.casual.casual_tokenize(texto)\n",
    "    words = remover_stop_words(words);\n",
    "       \n",
    "    return words"
   ]
  },
  {
   "cell_type": "code",
   "execution_count": 60,
   "metadata": {},
   "outputs": [
    {
     "data": {
      "text/plain": [
       "'<br>   AGRAVO DE INSTRUMENTO. AÇÃO DE RESPONSABILIDADE OBRIGACIONAL SECURITÁRIA. SISTEMA FINANCEIRO DA HABITAÇÃO. DECISÃO QUE DETERMINA A PERMANÊNCIA DOS AUTOS NA JUSTIÇA COMUM ESTADUAL. MANIFESTAÇÃO DE INTERESSE DA CAIXA ECONÔMICA FEDERAL. EXEGESE DA DECISÃO DO SUPERIOR TRIBUNAL DE JUSTIÇA EM RECURSO REPRESENTATIVO DA CONTROVÉRSIA (EMB. DECL. EM EMB. DECL. NO RESP. N. 1.091.393/SC). PREVISÃO NA LEI 12.409/2011, COM REDAÇÃO DA LEI N. 13.000/2014. INTELIGÊNCIA DA SÚMULA 150 DO STJ. COMPETÊNCIA DA JUSTIÇA FEDERAL PARA APRECIAR O PEDIDO DE INGRESSO NA LIDE REALIZADO PELA CEF. RECURSO PROVIDO.<br>   No julgamento dos Embargos de Declaração em Embargos de Declaração no Recurso Especial n. 1.091.393/SC, submetido ao procedimento de recurso representativo de controvérsia, o Superior Tribunal de Justiça firmou o entendimento de que a Caixa Econômica Federal poderá ingressar na lide que tenha por objeto o seguro habitacional, desde que comprove: (a) a pactuação do contrato de mútuo habitacional entre 2-12-1988 e 29-12-2009; (b) a existência de apólice pública vinculada ao Ramo 66; e (c) o comprometimento do Fundo de Compensação de Valores Salariais - FCVS, com o efetivo risco ao Fundo de Equalização de Sinistralidade da Apólice - FESA. E a análise do preenchimento dos pressupostos citados compete à Justiça Federal, por força da Súmula 150, do Superior Tribunal de Justiça.<br>   Em conformidade com o artigo 1º-A, § 1º, da Lei n. 12.409/2011, com redação dada pela Lei n. 13.000, de 18 de junho de 2014, a Caixa Econômica Federal deverá intervir, diante do interesse jurídico, nas ações judiciais que representem risco ou impacto jurídico ou econômico ao FCVS ou às suas subcontas (art. 1º-A, § 1º).<br>    Diante da manifestação da CEF, desloca-se a competência para análise do pedido de ingresso na lide e da natureza da intervenção à Justiça Federal, por força do disposto no artigo 109, I, da Constituição Federal e pela Súmula 150 do Superior Tribunal de Justiça.<br>'"
      ]
     },
     "execution_count": 60,
     "metadata": {},
     "output_type": "execute_result"
    }
   ],
   "source": [
    "df['EMENTA'][5]"
   ]
  },
  {
   "cell_type": "code",
   "execution_count": 76,
   "metadata": {},
   "outputs": [
    {
     "data": {
      "text/plain": [
       "'agravo instrumento acao responsabilidade obrigacional securitaria sistema financeiro habitacao decisao determina permanencia autos justica comum estadual manifestacao interesse caixa economica federal exegese decisao superior tribunal justica recurso representativo controversia emb decl emb decl resp sc previsao redacao inteligencia sumula stj competencia justica federal apreciar pedido ingresso lide realizado cef recurso provido julgamento embargos declaracao embargos declaracao recurso especial sc submetido procedimento recurso representativo controversia superior tribunal justica firmou entendimento caixa economica federal podera ingressar lide objeto seguro habitacional desde comprove pactuacao contrato mutuo habitacional existencia apolice publica vinculada ramo comprometimento fundo compensacao valores salariais fcvs efetivo risco fundo equalizacao sinistralidade apolice fesa analise preenchimento pressupostos citados compete justica federal forca sumula superior tribunal justica conformidade redacao dada junho caixa economica federal devera intervir diante interesse juridico acoes judiciais representem risco impacto juridico economico fcvs subcontas diante manifestacao cef deslocase competencia analise pedido ingresso lide natureza intervencao justica federal forca disposto constituicao federal sumula superior tribunal justica'"
      ]
     },
     "execution_count": 76,
     "metadata": {},
     "output_type": "execute_result"
    }
   ],
   "source": [
    "' '.join(normalizar(df['EMENTA'][5]))"
   ]
  },
  {
   "cell_type": "markdown",
   "metadata": {},
   "source": [
    "É possível verificar nesse exemplo que as palavras mais utilizadas se referem ao \"Superior Tribunal de Justiça\" e \"Justiça Federal\", o que não colabora para a identificação do tema abordado."
   ]
  },
  {
   "cell_type": "code",
   "execution_count": 77,
   "metadata": {},
   "outputs": [
    {
     "data": {
      "text/plain": [
       "FreqDist({'justica': 8, 'federal': 7, 'superior': 4, 'tribunal': 4, 'recurso': 4, 'caixa': 3, 'economica': 3, 'sumula': 3, 'lide': 3, 'decisao': 2, ...})"
      ]
     },
     "execution_count": 77,
     "metadata": {},
     "output_type": "execute_result"
    }
   ],
   "source": [
    "from nltk.probability import FreqDist\n",
    "\n",
    "words = normalizar(df['EMENTA'][5])\n",
    "fdist = FreqDist(words)\n",
    "\n",
    "fdist"
   ]
  },
  {
   "cell_type": "code",
   "execution_count": 80,
   "metadata": {},
   "outputs": [
    {
     "data": {
      "image/png": "[encoded data removed]",
      "text/plain": [
       "<Figure size 432x288 with 1 Axes>"
      ]
     },
     "metadata": {},
     "output_type": "display_data"
    }
   ],
   "source": [
    "p = fdist.plot(10,cumulative=False)\n",
    "\n",
    "p"
   ]
  },
  {
   "cell_type": "code",
   "execution_count": 83,
   "metadata": {},
   "outputs": [],
   "source": [
    "df['EMENTA_NORM'] = df['EMENTA'].apply(lambda e: ' '.join(normalizar(e)))"
   ]
  },
  {
   "cell_type": "code",
   "execution_count": 84,
   "metadata": {},
   "outputs": [],
   "source": [
    "df.to_csv('../data/ementas_pre-processadas.csv')"
   ]
  }
 ],
 "metadata": {
  "kernelspec": {
   "display_name": "Python 3",
   "language": "python",
   "name": "python3"
  },
  "language_info": {
   "codemirror_mode": {
    "name": "ipython",
    "version": 3
   },
   "file_extension": ".py",
   "mimetype": "text/x-python",
   "name": "python",
   "nbconvert_exporter": "python",
   "pygments_lexer": "ipython3",
   "version": "3.6.5"
  }
 },
 "nbformat": 4,
 "nbformat_minor": 2
}
