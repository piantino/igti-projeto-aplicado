{
 "cells": [
  {
   "cell_type": "markdown",
   "metadata": {
    "colab_type": "text",
    "id": "tdzO3mRKHNbw"
   },
   "source": [
    "# Definição do problema\n",
    "\n",
    "[Início](../projeto.ipynb)"
   ]
  },
  {
   "cell_type": "markdown",
   "metadata": {
    "colab_type": "text",
    "id": "auRztn9pH4HN"
   },
   "source": [
    "## Contexto\n",
    "\n",
    "---\n",
    "\n"
   ]
  },
  {
   "cell_type": "markdown",
   "metadata": {
    "colab_type": "text",
    "id": "s_Soj-yBIC6c"
   },
   "source": [
    "**Setor do mercado**\n",
    "\n",
    "O setor a ser explorado é o **jurídico**, mais especificamente o Poder Jusdiciário de Santa Catarina (PJSC).\n",
    "\n",
    "Esse setor tem sido foco para a inovação (Lawtechs) e Startups nos últimos 2 anos [1], devido ao potencial (mercado que movimenta grande quantias de recursos) e a pouca utilização de tecnologia - há pouco tempo o papel tem sido substituído pelo formato digital nos Tribunais de Justiça) [2].\n",
    "\n",
    "A inovação e a tecnologia como BI e IA ainda são pouco exploradas no TJSC, frente a potência do estado e seus pólos de tecnologia. Entretanto as iniciativas externas tendem a mudar o cenário interno [3]."
   ]
  },
  {
   "cell_type": "markdown",
   "metadata": {
    "colab_type": "text",
    "id": "flRh63dlW7Ou"
   },
   "source": [
    "**Justificativa da escolha**\n",
    "\n",
    "Desde 2014, [André Piantino](http://www.andrepiantino.com.br), é analista de sistemas concursado no [TJSC](https://tjsc.jus.br), atuou em projetos para a Softplan (player da plataforma SAJ para Tribunais) e softwares para advogados com clientes de grande porte, como a TIM."
   ]
  },
  {
   "cell_type": "markdown",
   "metadata": {
    "colab_type": "text",
    "id": "I7Tj5DdfIU5X"
   },
   "source": [
    "## Descrição do desafio\n",
    "\n",
    "---\n",
    "\n",
    "\n",
    "\n"
   ]
  },
  {
   "cell_type": "markdown",
   "metadata": {
    "colab_type": "text",
    "id": "snnOqueOVv-x"
   },
   "source": [
    "**Classificar** por matérias a partir das informações públicas do **texto** da ementa de acordões de processos jurídicos, auxiliando na distribuição por competéncias entre os assessores de um gabinete (tomada de decisão).\n",
    "\n",
    "O escopo do projeto é a **3ª vice presidência** (gabinete do Desembargador Altamiro de Oliveira) do TJSC.\n",
    "\n",
    "> [Descrição detalhada](https://docs.google.com/document/d/1-By53Grvjw3vHhG112XFkEt3YmWM1wm3tzKQUysn9iY/edit) do processo atual de distribuição por competência."
   ]
  },
  {
   "cell_type": "markdown",
   "metadata": {
    "colab_type": "text",
    "id": "OwlgRvydW_VX"
   },
   "source": [
    "### Pessoas envolvidas\n",
    "\n",
    "Especialistas sênior:\n",
    "\n",
    "*   Secretário Jurídico Glauber Machado Pinto.\n",
    "*   Proximadamente 18 Assessores.\n",
    "\n",
    "Especialistas júniors: 4 estagiários.\n",
    "\n",
    "Análista de dados: Luís Felipe Kuhn Göcks"
   ]
  },
  {
   "cell_type": "markdown",
   "metadata": {
    "colab_type": "text",
    "id": "ayvFiPQNjGlZ"
   },
   "source": [
    "## Indicador de desempenho (KPI)\n",
    "\n",
    "---"
   ]
  },
  {
   "cell_type": "markdown",
   "metadata": {
    "colab_type": "text",
    "id": "o7gRY1BYpYOy"
   },
   "source": [
    "**Variáveis de saída**\n",
    "\n",
    "* Tempo de análise por especialista júniors.\n",
    "* Percentual de error de classificações - processos reclassificados por assessores.\n",
    "* Acurácia entre o modelo de script atual.\n",
    "\n",
    "\n",
    "**Métricas de avaliação**\n",
    "\n",
    "* O tempo de análise deve ser reduzido em x%.\n",
    "* O percentual de erro de classificação de ser abaixo do atual.\n",
    "* Acurácia... (Medir o tempo atual do script)."
   ]
  }
 ],
 "metadata": {
  "colab": {
   "default_view": {},
   "name": "1-Definição_problema.ipynb",
   "provenance": [],
   "toc_visible": true,
   "version": "0.3.2",
   "views": {}
  },
  "kernelspec": {
   "display_name": "Python 3",
   "language": "python",
   "name": "python3"
  },
  "language_info": {
   "codemirror_mode": {
    "name": "ipython",
    "version": 3
   },
   "file_extension": ".py",
   "mimetype": "text/x-python",
   "name": "python",
   "nbconvert_exporter": "python",
   "pygments_lexer": "ipython3",
   "version": "3.6.5"
  }
 },
 "nbformat": 4,
 "nbformat_minor": 1
}
