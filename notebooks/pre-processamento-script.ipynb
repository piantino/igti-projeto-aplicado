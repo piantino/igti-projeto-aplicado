{
 "cells": [
  {
   "cell_type": "code",
   "execution_count": 11,
   "metadata": {},
   "outputs": [],
   "source": [
    "import pandas as pd\n",
    "\n",
    "colunas = ['CODIGO', 'PROCESSO', 'EMENTA']\n",
    "\n",
    "ementa_df = pd.read_csv('../data/ementa_ds.zip',\n",
    "                         compression='zip', header=0, sep=',', quotechar='\"', usecols=colunas)"
   ]
  },
  {
   "cell_type": "code",
   "execution_count": 12,
   "metadata": {},
   "outputs": [],
   "source": [
    "colunas = ['CODIGO', 'PROCESSO', 'ROTULO_MANUAL']\n",
    "\n",
    "rotulo_manual_df = pd.read_csv('../data/rotulo_manual_ds.zip',\n",
    "                               compression='zip', header=0, sep=',', quotechar='\"', usecols=colunas)"
   ]
  },
  {
   "cell_type": "markdown",
   "metadata": {},
   "source": [
    "A sigla \"AGR\" não é um rótulo de classificação, mas uma sigla utilizada para representar um estado do processo.\n",
    "\n",
    "Removendo-a do conjunto de dados."
   ]
  },
  {
   "cell_type": "code",
   "execution_count": 13,
   "metadata": {},
   "outputs": [],
   "source": [
    "rotulo_manual_df = rotulo_manual_df[rotulo_manual_df.ROTULO_MANUAL != 'AGR']\n"
   ]
  },
  {
   "cell_type": "code",
   "execution_count": 26,
   "metadata": {
    "scrolled": false
   },
   "outputs": [
    {
     "data": {
      "text/html": [
       "<div>\n",
       "<style scoped>\n",
       "    .dataframe tbody tr th:only-of-type {\n",
       "        vertical-align: middle;\n",
       "    }\n",
       "\n",
       "    .dataframe tbody tr th {\n",
       "        vertical-align: top;\n",
       "    }\n",
       "\n",
       "    .dataframe thead th {\n",
       "        text-align: right;\n",
       "    }\n",
       "</style>\n",
       "<table border=\"1\" class=\"dataframe\">\n",
       "  <thead>\n",
       "    <tr style=\"text-align: right;\">\n",
       "      <th></th>\n",
       "      <th>CODIGO</th>\n",
       "      <th>PROCESSO</th>\n",
       "      <th>EMENTA</th>\n",
       "      <th>ROTULO_MANUAL</th>\n",
       "    </tr>\n",
       "  </thead>\n",
       "  <tbody>\n",
       "    <tr>\n",
       "      <th>0</th>\n",
       "      <td>P00011PD20000</td>\n",
       "      <td>01132960920148240020</td>\n",
       "      <td>&lt;br&gt;   APELAÇÃO CÍVEL. AÇÃO DE RESCISÃO CONTRA...</td>\n",
       "      <td>CON</td>\n",
       "    </tr>\n",
       "  </tbody>\n",
       "</table>\n",
       "</div>"
      ],
      "text/plain": [
       "          CODIGO              PROCESSO  \\\n",
       "0  P00011PD20000  01132960920148240020   \n",
       "\n",
       "                                              EMENTA ROTULO_MANUAL  \n",
       "0  <br>   APELAÇÃO CÍVEL. AÇÃO DE RESCISÃO CONTRA...           CON  "
      ]
     },
     "execution_count": 26,
     "metadata": {},
     "output_type": "execute_result"
    }
   ],
   "source": [
    "coleta_df = pd.merge(ementa_df, rotulo_manual_df, on=['CODIGO', 'PROCESSO'])\n",
    "\n",
    "coleta_df.head()"
   ]
  },
  {
   "cell_type": "code",
   "execution_count": null,
   "metadata": {},
   "outputs": [],
   "source": [
    "coleta_df = pd.merge(ementa_df, rotulo_manual_df, on=['PROCESSO'])\n",
    "\n",
    "coleta_df.head()"
   ]
  },
  {
   "cell_type": "code",
   "execution_count": 23,
   "metadata": {
    "scrolled": true
   },
   "outputs": [
    {
     "data": {
      "text/html": [
       "<div>\n",
       "<style scoped>\n",
       "    .dataframe tbody tr th:only-of-type {\n",
       "        vertical-align: middle;\n",
       "    }\n",
       "\n",
       "    .dataframe tbody tr th {\n",
       "        vertical-align: top;\n",
       "    }\n",
       "\n",
       "    .dataframe thead th {\n",
       "        text-align: right;\n",
       "    }\n",
       "</style>\n",
       "<table border=\"1\" class=\"dataframe\">\n",
       "  <thead>\n",
       "    <tr style=\"text-align: right;\">\n",
       "      <th></th>\n",
       "      <th>CODIGO</th>\n",
       "      <th>PROCESSO</th>\n",
       "      <th>ROTULO_MANUAL</th>\n",
       "    </tr>\n",
       "  </thead>\n",
       "  <tbody>\n",
       "    <tr>\n",
       "      <th>2340</th>\n",
       "      <td>P0000Q92712KX</td>\n",
       "      <td>00103872520108240020</td>\n",
       "      <td>CON</td>\n",
       "    </tr>\n",
       "  </tbody>\n",
       "</table>\n",
       "</div>"
      ],
      "text/plain": [
       "             CODIGO              PROCESSO ROTULO_MANUAL\n",
       "2340  P0000Q92712KX  00103872520108240020           CON"
      ]
     },
     "execution_count": 23,
     "metadata": {},
     "output_type": "execute_result"
    }
   ],
   "source": [
    "rotulo_manual_df.query('PROCESSO == \"00103872520108240020\"')"
   ]
  },
  {
   "cell_type": "code",
   "execution_count": 24,
   "metadata": {},
   "outputs": [
    {
     "data": {
      "text/html": [
       "<div>\n",
       "<style scoped>\n",
       "    .dataframe tbody tr th:only-of-type {\n",
       "        vertical-align: middle;\n",
       "    }\n",
       "\n",
       "    .dataframe tbody tr th {\n",
       "        vertical-align: top;\n",
       "    }\n",
       "\n",
       "    .dataframe thead th {\n",
       "        text-align: right;\n",
       "    }\n",
       "</style>\n",
       "<table border=\"1\" class=\"dataframe\">\n",
       "  <thead>\n",
       "    <tr style=\"text-align: right;\">\n",
       "      <th></th>\n",
       "      <th>CODIGO</th>\n",
       "      <th>PROCESSO</th>\n",
       "      <th>EMENTA</th>\n",
       "    </tr>\n",
       "  </thead>\n",
       "  <tbody>\n",
       "    <tr>\n",
       "      <th>875</th>\n",
       "      <td>P0000Q9270000</td>\n",
       "      <td>00103872520108240020</td>\n",
       "      <td>&lt;br&gt;   APELAÇÃO CÍVEL. AÇÃO DE RESCISÃO CONTRA...</td>\n",
       "    </tr>\n",
       "    <tr>\n",
       "      <th>79850</th>\n",
       "      <td>P0000Q92712KW</td>\n",
       "      <td>00103872520108240020</td>\n",
       "      <td>&lt;br&gt;   EMBARGOS DE DECLARAÇÃO EM APELAÇÃO CÍVE...</td>\n",
       "    </tr>\n",
       "  </tbody>\n",
       "</table>\n",
       "</div>"
      ],
      "text/plain": [
       "              CODIGO              PROCESSO  \\\n",
       "875    P0000Q9270000  00103872520108240020   \n",
       "79850  P0000Q92712KW  00103872520108240020   \n",
       "\n",
       "                                                  EMENTA  \n",
       "875    <br>   APELAÇÃO CÍVEL. AÇÃO DE RESCISÃO CONTRA...  \n",
       "79850  <br>   EMBARGOS DE DECLARAÇÃO EM APELAÇÃO CÍVE...  "
      ]
     },
     "execution_count": 24,
     "metadata": {},
     "output_type": "execute_result"
    }
   ],
   "source": [
    "ementa_df.query('PROCESSO == \"00103872520108240020\"')"
   ]
  }
 ],
 "metadata": {
  "kernelspec": {
   "display_name": "Python 3",
   "language": "python",
   "name": "python3"
  },
  "language_info": {
   "codemirror_mode": {
    "name": "ipython",
    "version": 3
   },
   "file_extension": ".py",
   "mimetype": "text/x-python",
   "name": "python",
   "nbconvert_exporter": "python",
   "pygments_lexer": "ipython3",
   "version": "3.6.5"
  }
 },
 "nbformat": 4,
 "nbformat_minor": 2
}
