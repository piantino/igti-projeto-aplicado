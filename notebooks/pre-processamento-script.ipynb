{
 "cells": [
  {
   "cell_type": "code",
   "execution_count": 1,
   "metadata": {},
   "outputs": [],
   "source": [
    "import pandas as pd\n",
    "\n",
    "colunas = ['PROCESSO', 'EMENTA', 'ROTULO_MANUAL']\n",
    "\n",
    "df = pd.read_csv('../data/ementas_rotulos_manual.csv',\n",
    "                         header=0, sep=',', quotechar='\"', usecols=colunas)"
   ]
  },
  {
   "cell_type": "code",
   "execution_count": 3,
   "metadata": {},
   "outputs": [
    {
     "data": {
      "text/html": [
       "<div>\n",
       "<style scoped>\n",
       "    .dataframe tbody tr th:only-of-type {\n",
       "        vertical-align: middle;\n",
       "    }\n",
       "\n",
       "    .dataframe tbody tr th {\n",
       "        vertical-align: top;\n",
       "    }\n",
       "\n",
       "    .dataframe thead th {\n",
       "        text-align: right;\n",
       "    }\n",
       "</style>\n",
       "<table border=\"1\" class=\"dataframe\">\n",
       "  <thead>\n",
       "    <tr style=\"text-align: right;\">\n",
       "      <th></th>\n",
       "      <th>PROCESSO</th>\n",
       "      <th>EMENTA</th>\n",
       "      <th>ROTULO_MANUAL</th>\n",
       "    </tr>\n",
       "  </thead>\n",
       "  <tbody>\n",
       "    <tr>\n",
       "      <th>0</th>\n",
       "      <td>00024255420138240081</td>\n",
       "      <td>&lt;br&gt;   APELAÇÃO CÍVEL. AÇÃO DE INDENIZAÇÃO POR...</td>\n",
       "      <td>DAN</td>\n",
       "    </tr>\n",
       "    <tr>\n",
       "      <th>1</th>\n",
       "      <td>00103872520108240020</td>\n",
       "      <td>&lt;br&gt;   APELAÇÃO CÍVEL. AÇÃO DE RESCISÃO CONTRA...</td>\n",
       "      <td>CON</td>\n",
       "    </tr>\n",
       "    <tr>\n",
       "      <th>2</th>\n",
       "      <td>00103872520108240020</td>\n",
       "      <td>&lt;br&gt;   EMBARGOS DE DECLARAÇÃO EM APELAÇÃO CÍVE...</td>\n",
       "      <td>CON</td>\n",
       "    </tr>\n",
       "    <tr>\n",
       "      <th>3</th>\n",
       "      <td>00067390720078240064</td>\n",
       "      <td>&lt;br&gt;   EMBARGOS DE DECLARAÇÃO EM APELAÇÃO CÍVE...</td>\n",
       "      <td>PRE</td>\n",
       "    </tr>\n",
       "    <tr>\n",
       "      <th>4</th>\n",
       "      <td>00067390720078240064</td>\n",
       "      <td>&lt;br&gt;   EMBARGOS DE DECLARAÇÃO EM APELAÇÃO CÍVE...</td>\n",
       "      <td>PRE</td>\n",
       "    </tr>\n",
       "  </tbody>\n",
       "</table>\n",
       "</div>"
      ],
      "text/plain": [
       "               PROCESSO                                             EMENTA  \\\n",
       "0  00024255420138240081  <br>   APELAÇÃO CÍVEL. AÇÃO DE INDENIZAÇÃO POR...   \n",
       "1  00103872520108240020  <br>   APELAÇÃO CÍVEL. AÇÃO DE RESCISÃO CONTRA...   \n",
       "2  00103872520108240020  <br>   EMBARGOS DE DECLARAÇÃO EM APELAÇÃO CÍVE...   \n",
       "3  00067390720078240064  <br>   EMBARGOS DE DECLARAÇÃO EM APELAÇÃO CÍVE...   \n",
       "4  00067390720078240064  <br>   EMBARGOS DE DECLARAÇÃO EM APELAÇÃO CÍVE...   \n",
       "\n",
       "  ROTULO_MANUAL  \n",
       "0           DAN  \n",
       "1           CON  \n",
       "2           CON  \n",
       "3           PRE  \n",
       "4           PRE  "
      ]
     },
     "execution_count": 3,
     "metadata": {},
     "output_type": "execute_result"
    }
   ],
   "source": [
    "df.head()"
   ]
  },
  {
   "cell_type": "code",
   "execution_count": null,
   "metadata": {},
   "outputs": [],
   "source": [
    "ban = ['ação revisional de contrato bancário', 'cédula de crédito industrial','cédula de crédito comercial', 'nota de crédito comercial', 'nota de crédito rural', 'cédula de crédito rural', 'nota de crédito industrial', 'alienação fiduciária de veículo', 'alienação fiduciária', 'ação de revisão', 'ação revisional', 'cédula de crédito bancário', 'juros remuneratórios', 'capitalização diária dos juros', 'insurgência do banco', 'irresignação da instituição financeira', 'contrado de desconto', 'contrato de conta-correntecapital de giro', 'cheque especialadiantamento a depositante', 'exibição de documentos bancários']\n",
    "bus = ['ação de busca e apreensão', 'ação de reintegração de posse de veículo', 'arrendamento mercantil', 'decreto-lei n. 911/1969', '911/1969', 'decreto lei n. 911/1969', 'decreto lei n. 911/69', 'alienação fiduciária de veículo']\n",
    "com = ['contrato de franquia', 'franchising', 'representação comercial', 'representante comercial', 'lei 4.886/65', 'lei n. 4.886/65', 'lei n. 4.886/1965', 'registro no core', 'core-sc', 'conselho regional dos representantes comerciais']\n",
    "exp = ['exceção de pré-executividade oposta contra o cumprimento da sentença proferida em ação civil pública', 'expurgos inflacionários', 'conta poupança', 'conta-poupança']\n",
    "fal = ['falência', 'ação de falência', 'pedido de falência', 'juízo da recuperação', 'juízo recuperacional', 'juízo falimentar', 'juízo da falência', 'recuperação judicial', 'trava bancária', '11.301/05', '11.301/3005', '7.661/45', '7661/45', '7.661/1945', '7661/1945']\n",
    "mar = ['demurrage', 'sobrestadia', 'sobre-estadia', 'transporte marítimo', 'navio', 'container', 'direito marcário', 'direito de marca', 'abstenção de uso de marca', 'concorrência desleal', 'concorrência parastária', 'free riding', 'aproveitamento parasitário', 'comportamento parasitário', '9.276/96', '9276/96', '9.276/1996', '9.276propriedade industrial', 'desenho industrial', 'instituto nacional de propriedade industrial', 'inpi', 'marcas e patentes', 'contrafação', 'produto patenteado']\n",
    "oie = ['brasil telecom', 'ação de adimplemento contratual em fase de cumprimento de sentença', 'decisão interlocutória que rejeitou a impugnação ao cumprimento de sentença', 'ação de adimplemento contratual em fase de impugnação ao cumprimento de sentença', 'oi s/a', 'ação de adimplemento contratualcumprimento de sentença', 'liquidação de sentença', 'impugnação ao cumprimento de sentença', 'subscrição deficitária de ações de telefonia', 'contrato de participação financeira firmado com companhia de telefonia', 'cumprimento de sentença das ações de telefonia']\n",
    "oig = ['brasil telecom', 'oi s/a', 'ação de adimplemento contratual']\n",
    "sco = ['ação rescisória']\n",
    "soc = ['cotas societárias', 'sociedade limintada', 'dissolução parcial de sociedade', 'dissolução de sociedade']\n",
    "tit = ['cheque', 'cheques', 'títulos de crédito', 'título de crédito', 'duplicata', 'duplicatas', 'nota promissória', 'notas promissórias', 'duplicata mercantil', 'duplicatas mercantis']\n",
    "aut = ['direitos autorais', 'ecad', 'escritório central de arrecadação e distribuição', '9.630/98', '9630/98', '9.630/1998', '9630/1998', 'software sem licença', 'obra intelectualexecução de obras musicais']\n",
    "cdc = ['plano de saúde', 'saude coletiva', 'saúde coletiva', 'vício do produtovício redibitório', 'pré-operatório', 'procedimento cirúrgico não eletivo']\n",
    "civ = ['ação de obrigação de fazer', 'atraso de vôo', 'aeronave', 'pacto de varsóvia', 'perda de bagagem', 'extravio de bagagem', 'atraso em vôo']\n",
    "con = ['contrato de permuta', 'compra e venda', 'ação de rescisão contratual cc perdas e danos', 'ação de rescisão de contrato', 'contrato de compra e venda', 'ação de revisão de contrato particular de financiamento para aquisição de imóvel venda e compra e constituição de alienação fiduciária em fase de cumprimento da sentença', 'cessão de direitos e deveres para aquisição de imóvel', 'ação de despejo por denúncia vazia', 'locação não residencial', 'contrato de locação', 'despejo', 'plano de saúde coletivo', 'contrato de locação de imóvel', 'taxas condominiais', 'taxas de conomínio', 'adjudicação compulsória', 'contrato de honorários', 'contrato de honorarios', 'contrato coletivo de assistência médica e hospitalar', 'assistência médico-hospitalar', 'compra e venda de imóvel']\n",
    "dan = ['ação de indenização por danos morais', 'ação condenatória por danos morais', 'ação indenizatória', 'acidente de trânsito', 'ação de indenização por danos materiais e morais', 'ação civil ex delicto', 'acidente de trânsito', 'atividade pesqueira', 'vazamendo de fumaça']\n",
    "dmi = ['repetição de indébito c/c danos morais', 'juízo a quo que fixa astreintes no caso de descumprimento de retirada de negativação', 'credit scoring']\n",
    "dpv = ['ação de cobrança de seguro dpvat', 'dpvat', 'seguro obrigatório']\n",
    "fam = ['direito de família', 'exoneração de alimentos', 'dissolução de união estável', 'reconhecimento de união estável', 'irresignação do alimentante', 'irresignação do alimentado', 'recurso do alimentante', 'recurso do alimentado', 'prisão civil', 'alimentos', 'busca e apreensão de menores', 'busca e apreensão e regulamentação de guarda', 'dissolução de sociedade de fato', 'revisional de alimentos', 'pensão alimentícia', 'execução de alimentos', 'ação revisional de alimentos', 'ação de execução de alimentos', 'tutela antecipada indeferida para reduzir a verba alimentar', 'variação da capacidade econômica do alimentante e da necessidade da alimentanda', 'ação de divórcio', 'prisão civil decretada em execução de alimentos', 'desnaturação do caráter emergencial do débito alimentar', 'ação de execução de alimentos', 'ação de destituição do poder familiar ajuizada pelo ministério      público', 'exame de dna realizado que afasta a paternidade biológica', 'suposta \"adoção à brasileira\"', 'guarda e alimentos', 'não verificado o desequilíbrio na situação econômica-financeira das partes', 'viabilidade de exoneração dos alimentos compensatórios', 'ação de divórcio litigiosoação de exoneração de alimentos e modificação de guarda e visitas', 'decretação do divórcio do casal', 'conversão de separação judicial em divórcio', 'pedido de redução. variação da capacidade econômica do alimentante e da necessidade do alimentando', 'guarda unilateral', 'regulamentação de guarda', 'alimentos provisórios', 'alimentos provisionais', 'união estável', 'respeito recíproco']\n",
    "inf = ['destituição de poder familiar', 'habilitação para adoção', 'ação de guarda', 'abrigamento de menor', 'infância e juventude', 'ação de modificação de guarda', 'ação de adoção', 'direito da infância e da juventude']\n",
    "pos = ['interdito proibitório', 'ação reivindicatória', 'ação possessória', 'ação de manutenção de posse', 'ação de reintegração de posse', 'usucapião', 'turbaçãoesbulho']\n",
    "pre = ['previdência privada', 'previ', 'caixa de previdência dos funcionários do banco do brasil', 'entidade de previdência privada', 'celos', 'revisão do benefício suplementar', 'fusesc', 'previdência privada complementar', 'previdência complementar']\n",
    "reg = ['ação de declaratória de nulidade de averbação de registro imobiliário', 'ação de declaratória de nulidade de averbação de registro imobiliário cc indenização por dano moral']\n",
    "seg = ['seguro', 'seguro de vida em grupo', 'seguro de vida', 'seguro coletivo', 'seguro de vida', 'aposentadoria por invalidezdoença profissional', 'mensalidades do seguro', 'mensalidade do seguro', 'plano de saúde empresarial']\n",
    "sfh = ['ação ordinária de responsabilidade securitária', 'contrato de seguro vinculado ao sistema financeiro de habitação', 'seguro habitacional do sistema financeiro da habitação']\n",
    "suc = ['direito sucessório', 'testamento público', 'direito das sucessões', 'inventário e arrolamento de bens', 'testamento particular', 'petição de herança', 'codicilo', 'inventário e partilha', 'ação de inventário', 'ação de habilitação', 'remoção de inventariante', 'ação de sobrepartilha', 'procedimento de inventário']\n",
    "\n",
    "\n",
    "cats = [ban, bus, com, exp, fal, mar, oie, oig, sco, soc, tit, aut, cdc, civ, con, dan, dmi, dpv, fam, inf, pos, pre, reg, seg, sfh, suc]\n",
    "catss = ['ban','bus','com','exp','fal','mar','oie','oig','sco','soc','tit','aut','cdc','civ','con','dan','dmi','dpv','fam','inf','pos','pre','reg','seg','sfh','suc']"
   ]
  },
  {
   "cell_type": "code",
   "execution_count": null,
   "metadata": {},
   "outputs": [],
   "source": []
  },
  {
   "cell_type": "code",
   "execution_count": null,
   "metadata": {},
   "outputs": [],
   "source": [
    "df['ROTULO_SCRIPT'] = df['EMENTA'].apply(lambda e: classificar(e))"
   ]
  }
 ],
 "metadata": {
  "kernelspec": {
   "display_name": "Python 3",
   "language": "python",
   "name": "python3"
  },
  "language_info": {
   "codemirror_mode": {
    "name": "ipython",
    "version": 3
   },
   "file_extension": ".py",
   "mimetype": "text/x-python",
   "name": "python",
   "nbconvert_exporter": "python",
   "pygments_lexer": "ipython3",
   "version": "3.6.5"
  }
 },
 "nbformat": 4,
 "nbformat_minor": 2
}
