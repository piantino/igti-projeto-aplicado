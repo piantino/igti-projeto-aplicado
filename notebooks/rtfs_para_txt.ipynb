{
 "cells": [
  {
   "cell_type": "code",
   "execution_count": 1,
   "metadata": {},
   "outputs": [],
   "source": [
    "from pyth.plugins.rtf15.reader import Rtf15Reader\n",
    "from pyth.plugins.plaintext.writer import PlaintextWriter\n",
    "\n",
    "def rtf_para_txt(path):\n",
    "    f = open(path, 'rb')\n",
    "    doc = Rtf15Reader.read(f)\n",
    "    return PlaintextWriter.write(doc).getvalue()\n",
    "    f.close()"
   ]
  },
  {
   "cell_type": "code",
   "execution_count": 2,
   "metadata": {},
   "outputs": [],
   "source": [
    "def salvar_txt(path_out, file_name, text):\n",
    "    file = open(path_out + file_name, \"w\") \n",
    "    file.write(text) \n",
    "    file.close() "
   ]
  },
  {
   "cell_type": "code",
   "execution_count": 3,
   "metadata": {},
   "outputs": [],
   "source": [
    "path_in = \"../data/rtfs/\"\n",
    "path_out = \"../data/txts/\""
   ]
  },
  {
   "cell_type": "code",
   "execution_count": null,
   "metadata": {},
   "outputs": [],
   "source": [
    "from os import listdir\n",
    "\n",
    "errors = []\n",
    "\n",
    "for path in listdir(path_in):\n",
    "    try:\n",
    "        text = rtf_para_txt(path_in + path)\n",
    "        salvar_txt(path_out, path.replace('rtf', 'txt'), text)\n",
    "    except (TypeError, UnicodeDecodeError):\n",
    "        errors.append(path);\n",
    "    "
   ]
  },
  {
   "cell_type": "code",
   "execution_count": null,
   "metadata": {},
   "outputs": [],
   "source": [
    "errors\n"
   ]
  },
  {
   "cell_type": "code",
   "execution_count": null,
   "metadata": {},
   "outputs": [],
   "source": [
    "rtf_para_txt(\"../data/rtfs/00000010220178240048_P00013KUK0000_11838440.rtf\")"
   ]
  }
 ],
 "metadata": {
  "kernelspec": {
   "display_name": "Python 2",
   "language": "python",
   "name": "python2"
  },
  "language_info": {
   "codemirror_mode": {
    "name": "ipython",
    "version": 2
   },
   "file_extension": ".py",
   "mimetype": "text/x-python",
   "name": "python",
   "nbconvert_exporter": "python",
   "pygments_lexer": "ipython2",
   "version": "2.7.15"
  }
 },
 "nbformat": 4,
 "nbformat_minor": 2
}
