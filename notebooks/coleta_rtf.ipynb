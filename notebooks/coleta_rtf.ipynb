{
 "cells": [
  {
   "cell_type": "code",
   "execution_count": null,
   "metadata": {},
   "outputs": [],
   "source": [
    "import getpass\n",
    "\n",
    "# usuário\n",
    "uid = input('usuario')\n",
    "# senha\n",
    "pwd = getpass.getpass() \n",
    "# string de conexão do Oracle\n",
    "db = uid = input('url de conexao')"
   ]
  },
  {
   "cell_type": "code",
   "execution_count": 27,
   "metadata": {},
   "outputs": [],
   "source": [
    "import os.path\n",
    "\n",
    "def salvar_rtf(result):\n",
    "    path = \"../data/rtfs/\"\n",
    "    file_name = result[1] + \"_\" + result[0] + \"_\" + str(result[3])\n",
    "    file_path = path + file_name +  \".rtf\"\n",
    "\n",
    "    if (not os.path.exists(file_path)):\n",
    "        file = open(file_path, \"wb\") \n",
    "\n",
    "        file.write(result[2].read()) \n",
    "\n",
    "        file.close() "
   ]
  },
  {
   "cell_type": "code",
   "execution_count": null,
   "metadata": {},
   "outputs": [],
   "source": []
  },
  {
   "cell_type": "code",
   "execution_count": 28,
   "metadata": {},
   "outputs": [],
   "source": [
    "import cx_Oracle\n",
    "\n",
    "connection = cx_Oracle.connect(uid+\"/\"+pwd+\"@\"+db) #cria a conexão\n",
    "cursor = connection.cursor() # cria um cursor\n",
    "\n",
    "sql = \"select cdprocesso codigo, nuprocesso processo, documentortf rtf, cddocbinario \"\n",
    "sql += \"from documentos_saj5 \"\n",
    "sql += \"where \"\n",
    "sql += \"ORGAOJULGADOR LIKE '%Direito Civil%' OR ORGAOJULGADOR LIKE '%Direito Comercial%'\"\n",
    "        \n",
    "cursor.execute(sql)\n",
    "               \n",
    "result = cursor.fetchone()  # busca o resultado da consulta\n",
    "if result == None: \n",
    "    print(\"Nenhum Resultado\")\n",
    "    exit\n",
    "else:\n",
    "    while result:\n",
    "        salvar_rtf(result)\n",
    "        result = cursor.fetchone()\n",
    "cursor.close()\n",
    "connection.close()"
   ]
  },
  {
   "cell_type": "code",
   "execution_count": null,
   "metadata": {},
   "outputs": [],
   "source": []
  }
 ],
 "metadata": {
  "kernelspec": {
   "display_name": "Python 3",
   "language": "python",
   "name": "python3"
  },
  "language_info": {
   "codemirror_mode": {
    "name": "ipython",
    "version": 3
   },
   "file_extension": ".py",
   "mimetype": "text/x-python",
   "name": "python",
   "nbconvert_exporter": "python",
   "pygments_lexer": "ipython3",
   "version": "3.7.0"
  }
 },
 "nbformat": 4,
 "nbformat_minor": 2
}
