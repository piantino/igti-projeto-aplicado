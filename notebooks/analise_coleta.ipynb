{
 "cells": [
  {
   "cell_type": "markdown",
   "metadata": {},
   "source": [
    "# Análise da coleta\n",
    "\n",
    "> Dataset: \"ementa_ds.zip\"\n"
   ]
  },
  {
   "cell_type": "markdown",
   "metadata": {},
   "source": [
    "Carregando apenas os dados do **código do processo**, **número** e **texto da ementa**.<br>\n",
    "As demais não possuem correlação no domínio do probrema.\n"
   ]
  },
  {
   "cell_type": "code",
   "execution_count": 1,
   "metadata": {},
   "outputs": [],
   "source": [
    "import pandas as pd\n",
    "\n",
    "colunas = ['CODIGO', 'PROCESSO', 'EMENTA']\n",
    "\n",
    "df = pd.read_csv('../data/ementa_ds.zip', compression='zip', header=0, sep=',', quotechar='\"', usecols=colunas)"
   ]
  },
  {
   "cell_type": "code",
   "execution_count": 2,
   "metadata": {},
   "outputs": [
    {
     "data": {
      "text/plain": [
       "(111361, 3)"
      ]
     },
     "execution_count": 2,
     "metadata": {},
     "output_type": "execute_result"
    }
   ],
   "source": [
    "# Quantidade de registros e colunas\n",
    "df.shape"
   ]
  },
  {
   "cell_type": "markdown",
   "metadata": {},
   "source": [
    "Verificado abaixo que existem repetições de código de processo, o implica na decisão de qual a ementa correta para classificação."
   ]
  },
  {
   "cell_type": "code",
   "execution_count": 3,
   "metadata": {},
   "outputs": [
    {
     "data": {
      "text/html": [
       "<div>\n",
       "<style scoped>\n",
       "    .dataframe tbody tr th:only-of-type {\n",
       "        vertical-align: middle;\n",
       "    }\n",
       "\n",
       "    .dataframe tbody tr th {\n",
       "        vertical-align: top;\n",
       "    }\n",
       "\n",
       "    .dataframe thead th {\n",
       "        text-align: right;\n",
       "    }\n",
       "</style>\n",
       "<table border=\"1\" class=\"dataframe\">\n",
       "  <thead>\n",
       "    <tr style=\"text-align: right;\">\n",
       "      <th></th>\n",
       "      <th>CODIGO</th>\n",
       "      <th>PROCESSO</th>\n",
       "      <th>EMENTA</th>\n",
       "    </tr>\n",
       "  </thead>\n",
       "  <tbody>\n",
       "    <tr>\n",
       "      <th>count</th>\n",
       "      <td>111361</td>\n",
       "      <td>111361</td>\n",
       "      <td>111361</td>\n",
       "    </tr>\n",
       "    <tr>\n",
       "      <th>unique</th>\n",
       "      <td>110673</td>\n",
       "      <td>95459</td>\n",
       "      <td>99313</td>\n",
       "    </tr>\n",
       "    <tr>\n",
       "      <th>top</th>\n",
       "      <td>P0000RG1V0000</td>\n",
       "      <td>40094280220178240000</td>\n",
       "      <td>&lt;br&gt;   EMBARGOS DE DECLARAÇÃO. OMISSÃO NÃO CAR...</td>\n",
       "    </tr>\n",
       "    <tr>\n",
       "      <th>freq</th>\n",
       "      <td>3</td>\n",
       "      <td>6</td>\n",
       "      <td>162</td>\n",
       "    </tr>\n",
       "  </tbody>\n",
       "</table>\n",
       "</div>"
      ],
      "text/plain": [
       "               CODIGO              PROCESSO  \\\n",
       "count          111361                111361   \n",
       "unique         110673                 95459   \n",
       "top     P0000RG1V0000  40094280220178240000   \n",
       "freq                3                     6   \n",
       "\n",
       "                                                   EMENTA  \n",
       "count                                              111361  \n",
       "unique                                              99313  \n",
       "top     <br>   EMBARGOS DE DECLARAÇÃO. OMISSÃO NÃO CAR...  \n",
       "freq                                                  162  "
      ]
     },
     "execution_count": 3,
     "metadata": {},
     "output_type": "execute_result"
    }
   ],
   "source": [
    "df.describe()"
   ]
  },
  {
   "cell_type": "code",
   "execution_count": 4,
   "metadata": {},
   "outputs": [
    {
     "data": {
      "text/html": [
       "<div>\n",
       "<style scoped>\n",
       "    .dataframe tbody tr th:only-of-type {\n",
       "        vertical-align: middle;\n",
       "    }\n",
       "\n",
       "    .dataframe tbody tr th {\n",
       "        vertical-align: top;\n",
       "    }\n",
       "\n",
       "    .dataframe thead th {\n",
       "        text-align: right;\n",
       "    }\n",
       "</style>\n",
       "<table border=\"1\" class=\"dataframe\">\n",
       "  <thead>\n",
       "    <tr style=\"text-align: right;\">\n",
       "      <th></th>\n",
       "      <th>CODIGO</th>\n",
       "      <th>PROCESSO</th>\n",
       "      <th>EMENTA</th>\n",
       "    </tr>\n",
       "  </thead>\n",
       "  <tbody>\n",
       "    <tr>\n",
       "      <th>0</th>\n",
       "      <td>P0000Q1VK12KW</td>\n",
       "      <td>00039604720138240039</td>\n",
       "      <td>&lt;br&gt;   EMBARGOS DE DECLARAÇÃO. PRETENDIDA REDI...</td>\n",
       "    </tr>\n",
       "    <tr>\n",
       "      <th>1</th>\n",
       "      <td>P0000PB7O0000</td>\n",
       "      <td>00111212620168240000</td>\n",
       "      <td>&lt;br&gt;   AGRAVO DE INSTRUMENTO. COMUNICAÇÃO EXTE...</td>\n",
       "    </tr>\n",
       "    <tr>\n",
       "      <th>2</th>\n",
       "      <td>P0000Q23H0000</td>\n",
       "      <td>01462451520158240000</td>\n",
       "      <td>&lt;br&gt;   AGRAVO DE INSTRUMENTO. NOTÍCIA DE SENTE...</td>\n",
       "    </tr>\n",
       "    <tr>\n",
       "      <th>3</th>\n",
       "      <td>P0000PGP90000</td>\n",
       "      <td>00182975620168240000</td>\n",
       "      <td>&lt;br&gt;   AGRAVO DE INSTRUMENTO. INTERLOCUTÓRIA Q...</td>\n",
       "    </tr>\n",
       "    <tr>\n",
       "      <th>4</th>\n",
       "      <td>P0000PIBQ0000</td>\n",
       "      <td>01583537620158240000</td>\n",
       "      <td>&lt;br&gt;   AGRAVO DE INSTRUMENTO. EMBARGOS A EXECU...</td>\n",
       "    </tr>\n",
       "  </tbody>\n",
       "</table>\n",
       "</div>"
      ],
      "text/plain": [
       "          CODIGO              PROCESSO  \\\n",
       "0  P0000Q1VK12KW  00039604720138240039   \n",
       "1  P0000PB7O0000  00111212620168240000   \n",
       "2  P0000Q23H0000  01462451520158240000   \n",
       "3  P0000PGP90000  00182975620168240000   \n",
       "4  P0000PIBQ0000  01583537620158240000   \n",
       "\n",
       "                                              EMENTA  \n",
       "0  <br>   EMBARGOS DE DECLARAÇÃO. PRETENDIDA REDI...  \n",
       "1  <br>   AGRAVO DE INSTRUMENTO. COMUNICAÇÃO EXTE...  \n",
       "2  <br>   AGRAVO DE INSTRUMENTO. NOTÍCIA DE SENTE...  \n",
       "3  <br>   AGRAVO DE INSTRUMENTO. INTERLOCUTÓRIA Q...  \n",
       "4  <br>   AGRAVO DE INSTRUMENTO. EMBARGOS A EXECU...  "
      ]
     },
     "execution_count": 4,
     "metadata": {},
     "output_type": "execute_result"
    }
   ],
   "source": [
    "df.head()"
   ]
  },
  {
   "cell_type": "markdown",
   "metadata": {},
   "source": [
    "Exemplo do texto da ementa:"
   ]
  },
  {
   "cell_type": "code",
   "execution_count": 5,
   "metadata": {},
   "outputs": [
    {
     "data": {
      "text/plain": [
       "'<br>   EMBARGOS DE DECLARAÇÃO. PRETENDIDA REDISCUSSÃO DE QUESTÕES JÁ PONDERADAS E SOLUCIONADAS NO JULGADO. INVIABILIDADE. RECURSO INADEQUADO. AUSÊNCIA DE OMISSÃO, CONTRADIÇÃO OU OBSCURIDADE NO JULGADO. IRRESIGNAÇÃO REJEITADA.<br>   Ainda que manejados os embargos de declaração com o único intuito de prequestionar a matéria ventilada no acórdão para fins de apresentação de recurso para as instâncias superiores, tal situação não afasta a verificação da presença dos requisitos constantes no art. 535 do CPC, para que os aclaratórios sejam analisados e acolhidos.<br>'"
      ]
     },
     "execution_count": 5,
     "metadata": {},
     "output_type": "execute_result"
    }
   ],
   "source": [
    "df['EMENTA'][0]"
   ]
  },
  {
   "cell_type": "markdown",
   "metadata": {},
   "source": [
    "Mostrando que os dados não contém valores nulos como também o tamanho ocupado em memória."
   ]
  },
  {
   "cell_type": "code",
   "execution_count": 6,
   "metadata": {},
   "outputs": [
    {
     "name": "stdout",
     "output_type": "stream",
     "text": [
      "<class 'pandas.core.frame.DataFrame'>\n",
      "RangeIndex: 111361 entries, 0 to 111360\n",
      "Data columns (total 3 columns):\n",
      "CODIGO      111361 non-null object\n",
      "PROCESSO    111361 non-null object\n",
      "EMENTA      111361 non-null object\n",
      "dtypes: object(3)\n",
      "memory usage: 168.9 MB\n"
     ]
    }
   ],
   "source": [
    "df.info(memory_usage='deep')"
   ]
  },
  {
   "cell_type": "code",
   "execution_count": null,
   "metadata": {},
   "outputs": [],
   "source": []
  }
 ],
 "metadata": {
  "kernelspec": {
   "display_name": "Python 3",
   "language": "python",
   "name": "python3"
  },
  "language_info": {
   "codemirror_mode": {
    "name": "ipython",
    "version": 3
   },
   "file_extension": ".py",
   "mimetype": "text/x-python",
   "name": "python",
   "nbconvert_exporter": "python",
   "pygments_lexer": "ipython3",
   "version": "3.6.5"
  }
 },
 "nbformat": 4,
 "nbformat_minor": 2
}
