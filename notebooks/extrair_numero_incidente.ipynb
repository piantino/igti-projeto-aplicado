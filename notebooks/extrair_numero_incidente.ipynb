{
 "cells": [
  {
   "cell_type": "code",
   "execution_count": 1,
   "metadata": {},
   "outputs": [],
   "source": [
    "import pandas as pd\n",
    "\n",
    "\n",
    "colunas = ['CODIGO', 'PROCESSO', 'ROTULO_MANUAL']\n",
    "\n",
    "rotulo_manual_df = pd.read_csv('../data/rotulo_manual_ds.zip',\n",
    "                               compression='zip', header=0, sep=',', quotechar='\"', usecols=colunas)"
   ]
  },
  {
   "cell_type": "markdown",
   "metadata": {},
   "source": [
    "O número do incidente é formado pelas quatro últimas letras e em base 36"
   ]
  },
  {
   "cell_type": "code",
   "execution_count": 2,
   "metadata": {},
   "outputs": [],
   "source": [
    "def numero_seq(codigo):\n",
    "    seq_base_36 = codigo[-4:]\n",
    "    return str(int(seq_base_36, 36)).zfill(5)"
   ]
  },
  {
   "cell_type": "code",
   "execution_count": 3,
   "metadata": {
    "scrolled": false
   },
   "outputs": [
    {
     "data": {
      "text/html": [
       "<div>\n",
       "<style scoped>\n",
       "    .dataframe tbody tr th:only-of-type {\n",
       "        vertical-align: middle;\n",
       "    }\n",
       "\n",
       "    .dataframe tbody tr th {\n",
       "        vertical-align: top;\n",
       "    }\n",
       "\n",
       "    .dataframe thead th {\n",
       "        text-align: right;\n",
       "    }\n",
       "</style>\n",
       "<table border=\"1\" class=\"dataframe\">\n",
       "  <thead>\n",
       "    <tr style=\"text-align: right;\">\n",
       "      <th></th>\n",
       "      <th>CODIGO</th>\n",
       "      <th>PROCESSO</th>\n",
       "      <th>ROTULO_MANUAL</th>\n",
       "      <th>SEQ</th>\n",
       "    </tr>\n",
       "  </thead>\n",
       "  <tbody>\n",
       "    <tr>\n",
       "      <th>0</th>\n",
       "      <td>P0000WYZW12L5</td>\n",
       "      <td>00021075320008240008</td>\n",
       "      <td>MAR</td>\n",
       "      <td>50009</td>\n",
       "    </tr>\n",
       "    <tr>\n",
       "      <th>1</th>\n",
       "      <td>P0000WYZW12L7</td>\n",
       "      <td>00021075320008240008</td>\n",
       "      <td>AGR</td>\n",
       "      <td>50011</td>\n",
       "    </tr>\n",
       "    <tr>\n",
       "      <th>2</th>\n",
       "      <td>P0000WYLT12L6</td>\n",
       "      <td>00203265119998240008</td>\n",
       "      <td>MAR</td>\n",
       "      <td>50010</td>\n",
       "    </tr>\n",
       "    <tr>\n",
       "      <th>3</th>\n",
       "      <td>P0000WYLT12L8</td>\n",
       "      <td>00203265119998240008</td>\n",
       "      <td>AGR</td>\n",
       "      <td>50012</td>\n",
       "    </tr>\n",
       "    <tr>\n",
       "      <th>4</th>\n",
       "      <td>P00013ROH12KX</td>\n",
       "      <td>00055138620008240039</td>\n",
       "      <td>BAN</td>\n",
       "      <td>50001</td>\n",
       "    </tr>\n",
       "  </tbody>\n",
       "</table>\n",
       "</div>"
      ],
      "text/plain": [
       "          CODIGO              PROCESSO ROTULO_MANUAL    SEQ\n",
       "0  P0000WYZW12L5  00021075320008240008           MAR  50009\n",
       "1  P0000WYZW12L7  00021075320008240008           AGR  50011\n",
       "2  P0000WYLT12L6  00203265119998240008           MAR  50010\n",
       "3  P0000WYLT12L8  00203265119998240008           AGR  50012\n",
       "4  P00013ROH12KX  00055138620008240039           BAN  50001"
      ]
     },
     "execution_count": 3,
     "metadata": {},
     "output_type": "execute_result"
    }
   ],
   "source": [
    "rotulo_manual_df['SEQ'] = rotulo_manual_df['CODIGO'].apply(lambda c: numero_seq(c))\n",
    "\n",
    "rotulo_manual_df.head()"
   ]
  }
 ],
 "metadata": {
  "kernelspec": {
   "display_name": "Python 3",
   "language": "python",
   "name": "python3"
  },
  "language_info": {
   "codemirror_mode": {
    "name": "ipython",
    "version": 3
   },
   "file_extension": ".py",
   "mimetype": "text/x-python",
   "name": "python",
   "nbconvert_exporter": "python",
   "pygments_lexer": "ipython3",
   "version": "3.6.5"
  }
 },
 "nbformat": 4,
 "nbformat_minor": 2
}
