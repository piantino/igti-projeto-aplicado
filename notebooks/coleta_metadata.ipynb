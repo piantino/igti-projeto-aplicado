{
 "cells": [
  {
   "cell_type": "code",
   "execution_count": 9,
   "metadata": {},
   "outputs": [
    {
     "name": "stdout",
     "output_type": "stream",
     "text": [
      "usuarioacordao\n",
      "········\n",
      "db//spmlx-exascan.tjsc.jus.br:1521/ojuris_suporte.world\n"
     ]
    }
   ],
   "source": [
    "import getpass\n",
    "\n",
    "# usuário\n",
    "uid = input('usuario')\n",
    "# senha\n",
    "pwd = getpass.getpass() \n",
    "# string de conexão do Oracle\n",
    "db = input('db')"
   ]
  },
  {
   "cell_type": "code",
   "execution_count": 23,
   "metadata": {},
   "outputs": [],
   "source": [
    "sql = \"select cdprocesso CODIGO, nuprocesso PROCESSO, cddocbinario DOCUMENTO, CLASSE \"\n",
    "sql += \"from documentos_saj5 \"\n",
    "sql += \"where ORGAOJULGADOR LIKE '%Direito Comercial%' AND CATEGORIA = 'acordao_5'\""
   ]
  },
  {
   "cell_type": "code",
   "execution_count": 24,
   "metadata": {},
   "outputs": [],
   "source": [
    "from pandas import DataFrame\n",
    "import cx_Oracle\n",
    "\n",
    "connection = cx_Oracle.connect(uid+\"/\"+pwd+\"@\"+db, encoding = \"iso-8859-1\") #cria a conexão\n",
    "cursor = connection.cursor()\n",
    "\n",
    "cursor.execute(sql)\n",
    "\n",
    "df = DataFrame(cursor.fetchall())\n",
    "\n",
    "cursor.close()\n",
    "connection.close()"
   ]
  },
  {
   "cell_type": "code",
   "execution_count": 25,
   "metadata": {},
   "outputs": [
    {
     "data": {
      "text/html": [
       "<div>\n",
       "<style scoped>\n",
       "    .dataframe tbody tr th:only-of-type {\n",
       "        vertical-align: middle;\n",
       "    }\n",
       "\n",
       "    .dataframe tbody tr th {\n",
       "        vertical-align: top;\n",
       "    }\n",
       "\n",
       "    .dataframe thead th {\n",
       "        text-align: right;\n",
       "    }\n",
       "</style>\n",
       "<table border=\"1\" class=\"dataframe\">\n",
       "  <thead>\n",
       "    <tr style=\"text-align: right;\">\n",
       "      <th></th>\n",
       "      <th>CODIGO</th>\n",
       "      <th>PROCESSO</th>\n",
       "      <th>DOCUMENTO</th>\n",
       "      <th>CLASSE</th>\n",
       "    </tr>\n",
       "  </thead>\n",
       "  <tbody>\n",
       "    <tr>\n",
       "      <th>0</th>\n",
       "      <td>P000172BZ0000</td>\n",
       "      <td>03027521220178240007</td>\n",
       "      <td>15243629</td>\n",
       "      <td>Apelação Cível</td>\n",
       "    </tr>\n",
       "    <tr>\n",
       "      <th>1</th>\n",
       "      <td>P00016JA60000</td>\n",
       "      <td>40130531020188240000</td>\n",
       "      <td>15244375</td>\n",
       "      <td>Agravo de Instrumento</td>\n",
       "    </tr>\n",
       "    <tr>\n",
       "      <th>2</th>\n",
       "      <td>P000131K60000</td>\n",
       "      <td>40077089720178240000</td>\n",
       "      <td>15245345</td>\n",
       "      <td>Agravo de Instrumento</td>\n",
       "    </tr>\n",
       "    <tr>\n",
       "      <th>3</th>\n",
       "      <td>P00016LXF0000</td>\n",
       "      <td>40136188720188240900</td>\n",
       "      <td>15244324</td>\n",
       "      <td>Agravo de Instrumento</td>\n",
       "    </tr>\n",
       "    <tr>\n",
       "      <th>4</th>\n",
       "      <td>P00016KE40000</td>\n",
       "      <td>40132091420188240900</td>\n",
       "      <td>15314549</td>\n",
       "      <td>Agravo de Instrumento</td>\n",
       "    </tr>\n",
       "  </tbody>\n",
       "</table>\n",
       "</div>"
      ],
      "text/plain": [
       "          CODIGO              PROCESSO  DOCUMENTO                 CLASSE\n",
       "0  P000172BZ0000  03027521220178240007   15243629         Apelação Cível\n",
       "1  P00016JA60000  40130531020188240000   15244375  Agravo de Instrumento\n",
       "2  P000131K60000  40077089720178240000   15245345  Agravo de Instrumento\n",
       "3  P00016LXF0000  40136188720188240900   15244324  Agravo de Instrumento\n",
       "4  P00016KE40000  40132091420188240900   15314549  Agravo de Instrumento"
      ]
     },
     "execution_count": 25,
     "metadata": {},
     "output_type": "execute_result"
    }
   ],
   "source": [
    "df.columns = ['CODIGO', 'PROCESSO', 'DOCUMENTO', 'CLASSE']\n",
    "\n",
    "df.head()"
   ]
  },
  {
   "cell_type": "code",
   "execution_count": 32,
   "metadata": {},
   "outputs": [
    {
     "data": {
      "text/plain": [
       "(52408, 4)"
      ]
     },
     "execution_count": 32,
     "metadata": {},
     "output_type": "execute_result"
    }
   ],
   "source": [
    "df.shape"
   ]
  },
  {
   "cell_type": "code",
   "execution_count": 33,
   "metadata": {},
   "outputs": [],
   "source": [
    "df.to_csv('../data/metadata_ds.csv')"
   ]
  }
 ],
 "metadata": {
  "kernelspec": {
   "display_name": "Python 3",
   "language": "python",
   "name": "python3"
  },
  "language_info": {
   "codemirror_mode": {
    "name": "ipython",
    "version": 3
   },
   "file_extension": ".py",
   "mimetype": "text/x-python",
   "name": "python",
   "nbconvert_exporter": "python",
   "pygments_lexer": "ipython3",
   "version": "3.7.0"
  }
 },
 "nbformat": 4,
 "nbformat_minor": 2
}
